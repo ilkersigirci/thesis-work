{
 "cells": [
  {
   "cell_type": "code",
   "execution_count": 1,
   "metadata": {},
   "outputs": [],
   "source": [
    "%load_ext autoreload\n",
    "%autoreload 2"
   ]
  },
  {
   "cell_type": "markdown",
   "metadata": {},
   "source": [
    "# NOTES\n",
    "\n",
    "- [Compound Clustering Tutorial](https://projects.volkamerlab.org/teachopencadd/talktorials/T005_compound_clustering.html)\n",
    "- [Topic Modeling with BERT](https://towardsdatascience.com/topic-modeling-with-bert-779f7db187e6)\n",
    "- [sentence-transforrmers clustering](https://www.sbert.net/examples/applications/clustering/README.html)\n",
    "  - [fast_clustering](https://github.com/UKPLab/sentence-transformers/blob/master/examples/applications/clustering/fast_clustering.py)\n",
    "    - 50k sentences in less than 5 seconds).\n",
    "    - In a large list of sentences it searches for local communities: A local community is a set of highly similar sentences.\n"
   ]
  },
  {
   "cell_type": "code",
   "execution_count": 2,
   "metadata": {},
   "outputs": [
    {
     "name": "stderr",
     "output_type": "stream",
     "text": [
      "Skipped loading some Tensorflow models, missing a dependency. No module named 'tensorflow'\n",
      "Skipped loading modules with pytorch-geometric dependency, missing a dependency. No module named 'torch_geometric'\n",
      "Skipped loading modules with pytorch-geometric dependency, missing a dependency. cannot import name 'DMPNN' from 'deepchem.models.torch_models' (/home/ilker/miniconda3/envs/thesis-work/lib/python3.10/site-packages/deepchem/models/torch_models/__init__.py)\n",
      "Skipped loading modules with pytorch-lightning dependency, missing a dependency. No module named 'pytorch_lightning'\n",
      "Skipped loading some Jax models, missing a dependency. No module named 'jax'\n"
     ]
    },
    {
     "data": {
      "text/plain": [
       "True"
      ]
     },
     "execution_count": 2,
     "metadata": {},
     "output_type": "execute_result"
    }
   ],
   "source": [
    "import pandas as pd\n",
    "from thesis_work.utils import get_largest_fragment_from_smiles\n",
    "from thesis_work.chemberta.model_descriptors import (\n",
    "    gen_embeddings,\n",
    "    initialize_model_tokenizer,\n",
    "    get_model_descriptors as get_model_descriptors_chemberta,\n",
    ")\n",
    "from thesis_work.utils import get_ecfp_descriptor, get_ecfp_descriptors\n",
    "from thesis_work.data import load_data, load_mixed_interacted_compounds\n",
    "\n",
    "import seaborn as sns\n",
    "import matplotlib.pyplot as plt\n",
    "from sklearn.metrics import silhouette_score\n",
    "import numpy as np\n",
    "from thesis_work.clustering.butina import apply_butina, custom_butina_only_ecfp\n",
    "from thesis_work.clustering.utils import efcp_similarity_matrix, efcp_distance_matrix\n",
    "from thesis_work.clustering.dimensionality_reduction import apply_umap, plot_umap\n",
    "import logging\n",
    "from thesis_work.clustering.k_means import apply_k_means\n",
    "from thesis_work.chemprop.model_descriptors import (\n",
    "    get_model_descriptors as get_model_descriptors_chemprop,\n",
    ")\n",
    "import os\n",
    "\n",
    "\n",
    "# To disable all wandb logging\n",
    "os.environ[\"WANDB_MODE\"] = \"disabled\"\n",
    "\n",
    "# To set the notebook name\n",
    "os.environ[\"WANDB_NOTEBOOK_NAME\"] = \"./clustering.ipynb\"\n",
    "\n",
    "import wandb\n",
    "\n",
    "wandb.login()\n",
    "\n",
    "\n",
    "# Silence RDKit warnings\n",
    "# logger = RDLogger.logger()\n",
    "# logger.setLevel(RDLogger.CRITICAL)\n",
    "\n",
    "# Silence transformers warnings\n",
    "# logging.getLogger(\"transformers.modeling_utils\").setLevel(logging.ERROR)\n",
    "# from transformers import logging\n",
    "# logging.set_verbosity_error()\n",
    "\n",
    "\n",
    "## print numpy array more beautifully\n",
    "# np.set_printoptions(suppress=True)\n",
    "# np.set_printoptions(precision=3)"
   ]
  },
  {
   "cell_type": "markdown",
   "metadata": {},
   "source": [
    "# Config Parameters\n"
   ]
  },
  {
   "cell_type": "code",
   "execution_count": 3,
   "metadata": {},
   "outputs": [],
   "source": [
    "project_name = \"Cluster-Experiments\"\n",
    "# project_name = \"Cluster-Experiments-Temp\"\n",
    "\n",
    "random_state = 42\n",
    "device = \"cuda\"\n",
    "# device  = \"cpu\""
   ]
  },
  {
   "cell_type": "code",
   "execution_count": 4,
   "metadata": {},
   "outputs": [],
   "source": [
    "run = wandb.init(\n",
    "    project=project_name,\n",
    "    config={\n",
    "        \"random_state\": random_state,\n",
    "        \"device\": device,\n",
    "    },\n",
    ")"
   ]
  },
  {
   "cell_type": "markdown",
   "metadata": {},
   "source": [
    "# Data\n"
   ]
  },
  {
   "cell_type": "markdown",
   "metadata": {},
   "source": [
    "## Ours\n"
   ]
  },
  {
   "cell_type": "code",
   "execution_count": 5,
   "metadata": {},
   "outputs": [
    {
     "data": {
      "text/html": [
       "<div>\n",
       "<style scoped>\n",
       "    .dataframe tbody tr th:only-of-type {\n",
       "        vertical-align: middle;\n",
       "    }\n",
       "\n",
       "    .dataframe tbody tr th {\n",
       "        vertical-align: top;\n",
       "    }\n",
       "\n",
       "    .dataframe thead th {\n",
       "        text-align: right;\n",
       "    }\n",
       "</style>\n",
       "<table border=\"1\" class=\"dataframe\">\n",
       "  <thead>\n",
       "    <tr style=\"text-align: right;\">\n",
       "      <th></th>\n",
       "      <th>text</th>\n",
       "      <th>labels</th>\n",
       "    </tr>\n",
       "  </thead>\n",
       "  <tbody>\n",
       "    <tr>\n",
       "      <th>0</th>\n",
       "      <td>O=C(Cc1cccc2ccccc12)Nc1n[nH]c2ccc(N3CCCS3(=O)=...</td>\n",
       "      <td>1</td>\n",
       "    </tr>\n",
       "    <tr>\n",
       "      <th>1</th>\n",
       "      <td>COC(=O)NC[C@@H](NC(=O)c1ccc(-c2nc(C3CCOCC3)cnc...</td>\n",
       "      <td>1</td>\n",
       "    </tr>\n",
       "    <tr>\n",
       "      <th>2</th>\n",
       "      <td>COc1ccccc1Nc1cc(Oc2cc(C)c(C)nc2-c2ccccn2)ccn1</td>\n",
       "      <td>1</td>\n",
       "    </tr>\n",
       "    <tr>\n",
       "      <th>3</th>\n",
       "      <td>O=C(/C=C/CN1CCCC1)N1CCOc2cc3ncnc(Nc4ccc(F)c(Cl...</td>\n",
       "      <td>1</td>\n",
       "    </tr>\n",
       "    <tr>\n",
       "      <th>4</th>\n",
       "      <td>O=C(Nc1cccc(Nc2cc3c(=O)[nH][nH]c(=O)c3cc2Cl)c1...</td>\n",
       "      <td>1</td>\n",
       "    </tr>\n",
       "    <tr>\n",
       "      <th>...</th>\n",
       "      <td>...</td>\n",
       "      <td>...</td>\n",
       "    </tr>\n",
       "    <tr>\n",
       "      <th>66304</th>\n",
       "      <td>CS(=O)(=O)c1ccccc1Nc1cccn2nc(Nc3ccc(OCCN4CCCC4...</td>\n",
       "      <td>0</td>\n",
       "    </tr>\n",
       "    <tr>\n",
       "      <th>66305</th>\n",
       "      <td>CC(C)n1cc(C(=O)c2cncc(NC(=O)c3ccc4nnnn4c3)c2)c...</td>\n",
       "      <td>0</td>\n",
       "    </tr>\n",
       "    <tr>\n",
       "      <th>66306</th>\n",
       "      <td>CNC(=O)c1ccc2[nH]nc(-c3cccc(C(=O)NCc4cccc5cccc...</td>\n",
       "      <td>0</td>\n",
       "    </tr>\n",
       "    <tr>\n",
       "      <th>66307</th>\n",
       "      <td>NC(=O)c1c(NC(=O)COC(=O)CCC(=O)c2ccc(Cl)cc2)sc2...</td>\n",
       "      <td>0</td>\n",
       "    </tr>\n",
       "    <tr>\n",
       "      <th>66308</th>\n",
       "      <td>COc1ccc(-c2cnc(N)c(N3CCC(C(=O)O)CC3)n2)cc1OC</td>\n",
       "      <td>0</td>\n",
       "    </tr>\n",
       "  </tbody>\n",
       "</table>\n",
       "<p>66309 rows × 2 columns</p>\n",
       "</div>"
      ],
      "text/plain": [
       "                                                    text  labels\n",
       "0      O=C(Cc1cccc2ccccc12)Nc1n[nH]c2ccc(N3CCCS3(=O)=...       1\n",
       "1      COC(=O)NC[C@@H](NC(=O)c1ccc(-c2nc(C3CCOCC3)cnc...       1\n",
       "2          COc1ccccc1Nc1cc(Oc2cc(C)c(C)nc2-c2ccccn2)ccn1       1\n",
       "3      O=C(/C=C/CN1CCCC1)N1CCOc2cc3ncnc(Nc4ccc(F)c(Cl...       1\n",
       "4      O=C(Nc1cccc(Nc2cc3c(=O)[nH][nH]c(=O)c3cc2Cl)c1...       1\n",
       "...                                                  ...     ...\n",
       "66304  CS(=O)(=O)c1ccccc1Nc1cccn2nc(Nc3ccc(OCCN4CCCC4...       0\n",
       "66305  CC(C)n1cc(C(=O)c2cncc(NC(=O)c3ccc4nnnn4c3)c2)c...       0\n",
       "66306  CNC(=O)c1ccc2[nH]nc(-c3cccc(C(=O)NCc4cccc5cccc...       0\n",
       "66307  NC(=O)c1c(NC(=O)COC(=O)CCC(=O)c2ccc(Cl)cc2)sc2...       0\n",
       "66308       COc1ccc(-c2cnc(N)c(N3CCC(C(=O)O)CC3)n2)cc1OC       0\n",
       "\n",
       "[66309 rows x 2 columns]"
      ]
     },
     "execution_count": 5,
     "metadata": {},
     "output_type": "execute_result"
    }
   ],
   "source": [
    "protein_type = \"kinase\"\n",
    "# protein_type = \"protease\"\n",
    "# protein_type = \"gpcr\"\n",
    "\n",
    "wandb.config.update({\"protein_type\": protein_type})\n",
    "\n",
    "data = load_data(protein_type=protein_type)\n",
    "wandb.config.update({\"dataset_size\": data.shape[0]})\n",
    "\n",
    "smiles = data[\"text\"].tolist()\n",
    "data"
   ]
  },
  {
   "cell_type": "markdown",
   "metadata": {},
   "source": [
    "## Ours - Mixed Interactive\n"
   ]
  },
  {
   "cell_type": "code",
   "execution_count": 5,
   "metadata": {},
   "outputs": [
    {
     "data": {
      "text/html": [
       "<div>\n",
       "<style scoped>\n",
       "    .dataframe tbody tr th:only-of-type {\n",
       "        vertical-align: middle;\n",
       "    }\n",
       "\n",
       "    .dataframe tbody tr th {\n",
       "        vertical-align: top;\n",
       "    }\n",
       "\n",
       "    .dataframe thead th {\n",
       "        text-align: right;\n",
       "    }\n",
       "</style>\n",
       "<table border=\"1\" class=\"dataframe\">\n",
       "  <thead>\n",
       "    <tr style=\"text-align: right;\">\n",
       "      <th></th>\n",
       "      <th>text</th>\n",
       "      <th>labels</th>\n",
       "    </tr>\n",
       "  </thead>\n",
       "  <tbody>\n",
       "    <tr>\n",
       "      <th>0</th>\n",
       "      <td>O=C(O)c1ccc(CN(CCc2ccccc2)C(=O)c2ccc(Oc3ccccc3...</td>\n",
       "      <td>0</td>\n",
       "    </tr>\n",
       "    <tr>\n",
       "      <th>1</th>\n",
       "      <td>CCc1sc(CCc2cc(OC3CCCCC3)cc(NCc3cc(Cl)cc(NC(=O)...</td>\n",
       "      <td>0</td>\n",
       "    </tr>\n",
       "    <tr>\n",
       "      <th>2</th>\n",
       "      <td>COc1cc(OC2CCN(Cc3ccc[n+]([O-])c3C(F)(F)F)CC2)c...</td>\n",
       "      <td>0</td>\n",
       "    </tr>\n",
       "    <tr>\n",
       "      <th>3</th>\n",
       "      <td>CCN(c1nc(C)cc(C)n1)c1c(Br)cc(C(C)C)cc1OC</td>\n",
       "      <td>0</td>\n",
       "    </tr>\n",
       "    <tr>\n",
       "      <th>4</th>\n",
       "      <td>CCCCCCC(C)(C)c1cc(O)c2c(c1)OC(C)(C)c1cn[nH]c1-2</td>\n",
       "      <td>0</td>\n",
       "    </tr>\n",
       "    <tr>\n",
       "      <th>...</th>\n",
       "      <td>...</td>\n",
       "      <td>...</td>\n",
       "    </tr>\n",
       "    <tr>\n",
       "      <th>5995</th>\n",
       "      <td>Nc1nc(Cn2c(-c3ccc(Oc4cncnc4)cc3)ccc2-c2ccccc2C...</td>\n",
       "      <td>2</td>\n",
       "    </tr>\n",
       "    <tr>\n",
       "      <th>5996</th>\n",
       "      <td>CC(C)(C)OC(=O)CCCCCCCCCCCNC(=O)NC12CC3CC(CC(C3...</td>\n",
       "      <td>2</td>\n",
       "    </tr>\n",
       "    <tr>\n",
       "      <th>5997</th>\n",
       "      <td>CSc1sc(C(=N)N)cc1S(=O)(=O)c1cc(Br)c2c(c1)ncn2C...</td>\n",
       "      <td>2</td>\n",
       "    </tr>\n",
       "    <tr>\n",
       "      <th>5998</th>\n",
       "      <td>COc1ccc(NC(=O)C2CCN(C(=O)N[C@@H](CC(=O)NCC(C)(...</td>\n",
       "      <td>2</td>\n",
       "    </tr>\n",
       "    <tr>\n",
       "      <th>5999</th>\n",
       "      <td>CC[C@@H](C)NC(=O)c1cc(N)cc(-c2cnc(NC(C)C)c(=O)...</td>\n",
       "      <td>2</td>\n",
       "    </tr>\n",
       "  </tbody>\n",
       "</table>\n",
       "<p>6000 rows × 2 columns</p>\n",
       "</div>"
      ],
      "text/plain": [
       "                                                   text  labels\n",
       "0     O=C(O)c1ccc(CN(CCc2ccccc2)C(=O)c2ccc(Oc3ccccc3...       0\n",
       "1     CCc1sc(CCc2cc(OC3CCCCC3)cc(NCc3cc(Cl)cc(NC(=O)...       0\n",
       "2     COc1cc(OC2CCN(Cc3ccc[n+]([O-])c3C(F)(F)F)CC2)c...       0\n",
       "3              CCN(c1nc(C)cc(C)n1)c1c(Br)cc(C(C)C)cc1OC       0\n",
       "4       CCCCCCC(C)(C)c1cc(O)c2c(c1)OC(C)(C)c1cn[nH]c1-2       0\n",
       "...                                                 ...     ...\n",
       "5995  Nc1nc(Cn2c(-c3ccc(Oc4cncnc4)cc3)ccc2-c2ccccc2C...       2\n",
       "5996  CC(C)(C)OC(=O)CCCCCCCCCCCNC(=O)NC12CC3CC(CC(C3...       2\n",
       "5997  CSc1sc(C(=N)N)cc1S(=O)(=O)c1cc(Br)c2c(c1)ncn2C...       2\n",
       "5998  COc1ccc(NC(=O)C2CCN(C(=O)N[C@@H](CC(=O)NCC(C)(...       2\n",
       "5999  CC[C@@H](C)NC(=O)c1cc(N)cc(-c2cnc(NC(C)C)c(=O)...       2\n",
       "\n",
       "[6000 rows x 2 columns]"
      ]
     },
     "execution_count": 5,
     "metadata": {},
     "output_type": "execute_result"
    }
   ],
   "source": [
    "each_sample_size = 2000\n",
    "protein_types = [\"gpcr\", \"kinase\", \"protease\"]\n",
    "protein_types.sort()\n",
    "protein_labels = [x for x in range(len(protein_types))]\n",
    "\n",
    "wandb.config.update({\"protein_types\": protein_types})\n",
    "\n",
    "data = load_mixed_interacted_compounds(\n",
    "    protein_types=protein_types,\n",
    "    each_sample_size=each_sample_size,\n",
    "    random_state=random_state,\n",
    "    convert_category=True,\n",
    ")\n",
    "wandb.config.update({\"dataset_size\": data.shape[0]})\n",
    "\n",
    "smiles = data[\"text\"].tolist()\n",
    "data"
   ]
  },
  {
   "cell_type": "markdown",
   "metadata": {},
   "source": [
    "## BBBP\n"
   ]
  },
  {
   "cell_type": "code",
   "execution_count": 5,
   "metadata": {},
   "outputs": [
    {
     "data": {
      "text/html": [
       "<div>\n",
       "<style scoped>\n",
       "    .dataframe tbody tr th:only-of-type {\n",
       "        vertical-align: middle;\n",
       "    }\n",
       "\n",
       "    .dataframe tbody tr th {\n",
       "        vertical-align: top;\n",
       "    }\n",
       "\n",
       "    .dataframe thead th {\n",
       "        text-align: right;\n",
       "    }\n",
       "</style>\n",
       "<table border=\"1\" class=\"dataframe\">\n",
       "  <thead>\n",
       "    <tr style=\"text-align: right;\">\n",
       "      <th></th>\n",
       "      <th>text</th>\n",
       "      <th>labels</th>\n",
       "      <th>name</th>\n",
       "    </tr>\n",
       "  </thead>\n",
       "  <tbody>\n",
       "    <tr>\n",
       "      <th>0</th>\n",
       "      <td>CC(C)NCC(O)COc1cccc2ccccc12</td>\n",
       "      <td>1</td>\n",
       "      <td>Propanolol</td>\n",
       "    </tr>\n",
       "    <tr>\n",
       "      <th>1</th>\n",
       "      <td>CC(C)(C)OC(=O)CCCc1ccc(N(CCCl)CCCl)cc1</td>\n",
       "      <td>1</td>\n",
       "      <td>Terbutylchlorambucil</td>\n",
       "    </tr>\n",
       "    <tr>\n",
       "      <th>2</th>\n",
       "      <td>CC1COc2c(N3CCN(C)CC3)c(F)cc3c(=O)c(C(=O)O)cn1c23</td>\n",
       "      <td>1</td>\n",
       "      <td>40730</td>\n",
       "    </tr>\n",
       "    <tr>\n",
       "      <th>3</th>\n",
       "      <td>CC(=O)NCCCOc1cccc(CN2CCCCC2)c1</td>\n",
       "      <td>1</td>\n",
       "      <td>24</td>\n",
       "    </tr>\n",
       "    <tr>\n",
       "      <th>4</th>\n",
       "      <td>Cc1onc(-c2ccccc2Cl)c1C(=O)N[C@@H]1C(=O)N2[C@@H...</td>\n",
       "      <td>1</td>\n",
       "      <td>cloxacillin</td>\n",
       "    </tr>\n",
       "    <tr>\n",
       "      <th>...</th>\n",
       "      <td>...</td>\n",
       "      <td>...</td>\n",
       "      <td>...</td>\n",
       "    </tr>\n",
       "    <tr>\n",
       "      <th>2045</th>\n",
       "      <td>O=c1[nH]c2cc(Cl)c(Cl)c([N+](=O)[O-])c2[nH]c1=O</td>\n",
       "      <td>1</td>\n",
       "      <td>licostinel</td>\n",
       "    </tr>\n",
       "    <tr>\n",
       "      <th>2046</th>\n",
       "      <td>C[S+](CC[C@H](N)C(=O)[O-])C[C@H]1O[C@@H](n2cnc...</td>\n",
       "      <td>1</td>\n",
       "      <td>ademetionine(adenosyl-methionine)</td>\n",
       "    </tr>\n",
       "    <tr>\n",
       "      <th>2047</th>\n",
       "      <td>CC(Cc1ccccc1)n1cc([N-]C(=O)Nc2ccccc2)[o+]n1</td>\n",
       "      <td>1</td>\n",
       "      <td>mesocarb</td>\n",
       "    </tr>\n",
       "    <tr>\n",
       "      <th>2048</th>\n",
       "      <td>CCc1c(C)[n+]([NH-])c(-c2ccc(OC)c(OC)c2)c2cc(OC...</td>\n",
       "      <td>1</td>\n",
       "      <td>tofisoline</td>\n",
       "    </tr>\n",
       "    <tr>\n",
       "      <th>2049</th>\n",
       "      <td>[N-]=[N+]=NCC(=O)N[C@H](CO)[C@H](O)c1ccc([N+](...</td>\n",
       "      <td>1</td>\n",
       "      <td>azidamfenicol</td>\n",
       "    </tr>\n",
       "  </tbody>\n",
       "</table>\n",
       "<p>2050 rows × 3 columns</p>\n",
       "</div>"
      ],
      "text/plain": [
       "                                                   text  labels  \\\n",
       "0                           CC(C)NCC(O)COc1cccc2ccccc12       1   \n",
       "1                CC(C)(C)OC(=O)CCCc1ccc(N(CCCl)CCCl)cc1       1   \n",
       "2      CC1COc2c(N3CCN(C)CC3)c(F)cc3c(=O)c(C(=O)O)cn1c23       1   \n",
       "3                        CC(=O)NCCCOc1cccc(CN2CCCCC2)c1       1   \n",
       "4     Cc1onc(-c2ccccc2Cl)c1C(=O)N[C@@H]1C(=O)N2[C@@H...       1   \n",
       "...                                                 ...     ...   \n",
       "2045     O=c1[nH]c2cc(Cl)c(Cl)c([N+](=O)[O-])c2[nH]c1=O       1   \n",
       "2046  C[S+](CC[C@H](N)C(=O)[O-])C[C@H]1O[C@@H](n2cnc...       1   \n",
       "2047        CC(Cc1ccccc1)n1cc([N-]C(=O)Nc2ccccc2)[o+]n1       1   \n",
       "2048  CCc1c(C)[n+]([NH-])c(-c2ccc(OC)c(OC)c2)c2cc(OC...       1   \n",
       "2049  [N-]=[N+]=NCC(=O)N[C@H](CO)[C@H](O)c1ccc([N+](...       1   \n",
       "\n",
       "                                   name  \n",
       "0                            Propanolol  \n",
       "1                  Terbutylchlorambucil  \n",
       "2                                 40730  \n",
       "3                                    24  \n",
       "4                           cloxacillin  \n",
       "...                                 ...  \n",
       "2045                         licostinel  \n",
       "2046  ademetionine(adenosyl-methionine)  \n",
       "2047                           mesocarb  \n",
       "2048                         tofisoline  \n",
       "2049                      azidamfenicol  \n",
       "\n",
       "[2050 rows x 3 columns]"
      ]
     },
     "execution_count": 5,
     "metadata": {},
     "output_type": "execute_result"
    }
   ],
   "source": [
    "# Read in data from MoleculeNet\n",
    "data = pd.read_csv(\"https://deepchemdata.s3-us-west-1.amazonaws.com/datasets/BBBP.csv\")\n",
    "\n",
    "# Clean up columnn names so they are easier to interpret\n",
    "data = (\n",
    "    data[[\"smiles\", \"p_np\", \"name\"]]\n",
    "    .reset_index(drop=True)\n",
    "    .rename({\"smiles\": \"text\", \"p_np\": \"labels\"}, axis=1)\n",
    ")\n",
    "\n",
    "# Remove extra fragments in SMILES (typically salts, which are irrelevant to BBB permeability)\n",
    "data[\"text\"] = data[\"text\"].apply(get_largest_fragment_from_smiles).dropna().astype(str)\n",
    "wandb.config.update({\"dataset_size\": data.shape[0]})\n",
    "\n",
    "# convert to str list\n",
    "smiles = data[\"text\"].tolist()\n",
    "\n",
    "data"
   ]
  },
  {
   "cell_type": "markdown",
   "metadata": {},
   "source": [
    "## BCE - TODO\n"
   ]
  },
  {
   "cell_type": "markdown",
   "metadata": {},
   "source": [
    "# Embeddings\n"
   ]
  },
  {
   "cell_type": "markdown",
   "metadata": {},
   "source": [
    "## Chemberta\n"
   ]
  },
  {
   "cell_type": "code",
   "execution_count": 6,
   "metadata": {},
   "outputs": [
    {
     "name": "stdout",
     "output_type": "stream",
     "text": [
      "(6000, 384)\n",
      "<class 'numpy.ndarray'>\n",
      "<class 'numpy.ndarray'>\n"
     ]
    }
   ],
   "source": [
    "model_name = \"DeepChem/ChemBERTa-77M-MTR\"\n",
    "# model_name = \"DeepChem/ChemBERTa-77M-MLM\"\n",
    "\n",
    "wandb.config.update({\"model_name\": model_name})\n",
    "\n",
    "vector_embeddings = get_model_descriptors_chemberta(\n",
    "    smiles_series=data[\"text\"],\n",
    "    model_name=model_name,\n",
    "    method=\"simpletransformers\",\n",
    ")\n",
    "\n",
    "# data[\"vector\"] = pd.DataFrame(get_model_descriptors(\n",
    "#     smiles_series=data[\"text\"],\n",
    "#     model_name=model_name,\n",
    "#     method=\"simpletransformers\",\n",
    "# )).tolist()\n",
    "\n",
    "# data[[f\"vector_{i}\" for i in range(1, embedding_size+1)]] = pd.DataFrame(data[\"vector\"])\n",
    "\n",
    "print(vector_embeddings.shape)\n",
    "print(type(vector_embeddings))\n",
    "print(type(vector_embeddings[0]))"
   ]
  },
  {
   "cell_type": "code",
   "execution_count": null,
   "metadata": {},
   "outputs": [],
   "source": [
    "### bert_loves_chemistry version\n",
    "\n",
    "# model, tokenizer = initialize_model_tokenizer(model_name=model_name)\n",
    "# vector_embeddings = gen_embeddings(model=model, tokenizer=tokenizer, smiles=smiles)\n",
    "# vector_embeddings.shape"
   ]
  },
  {
   "cell_type": "markdown",
   "metadata": {},
   "source": [
    "## Chemprop\n"
   ]
  },
  {
   "cell_type": "code",
   "execution_count": 6,
   "metadata": {},
   "outputs": [
    {
     "name": "stdout",
     "output_type": "stream",
     "text": [
      "Loading pretrained parameter \"encoder.encoder.0.cached_zero_vector\".\n",
      "Loading pretrained parameter \"encoder.encoder.0.W_i.weight\".\n",
      "Loading pretrained parameter \"encoder.encoder.0.W_h.weight\".\n",
      "Loading pretrained parameter \"encoder.encoder.0.W_o.weight\".\n",
      "Loading pretrained parameter \"encoder.encoder.0.W_o.bias\".\n",
      "Loading pretrained parameter \"ffn.1.weight\".\n",
      "Loading pretrained parameter \"ffn.1.bias\".\n",
      "Moving model to cuda\n"
     ]
    },
    {
     "name": "stderr",
     "output_type": "stream",
     "text": [
      "100%|██████████| 6000/6000 [00:02<00:00, 2963.68it/s]\n",
      "                                               "
     ]
    },
    {
     "name": "stdout",
     "output_type": "stream",
     "text": [
      "(6000, 25)\n",
      "<class 'numpy.ndarray'>\n",
      "<class 'numpy.ndarray'>\n"
     ]
    },
    {
     "name": "stderr",
     "output_type": "stream",
     "text": [
      "\r"
     ]
    }
   ],
   "source": [
    "model_name = \"chemprop\"\n",
    "wandb.config.update({\"model_name\": model_name})\n",
    "\n",
    "vector_embeddings = get_model_descriptors_chemprop(smiles_series=data[\"text\"])\n",
    "\n",
    "print(vector_embeddings.shape)\n",
    "print(type(vector_embeddings))\n",
    "print(type(vector_embeddings[0]))"
   ]
  },
  {
   "cell_type": "code",
   "execution_count": 13,
   "metadata": {},
   "outputs": [
    {
     "data": {
      "text/plain": [
       "array([[4.24813938, 2.85334063, 0.10889256, ..., 0.73219436, 2.74030447,\n",
       "        1.98216641],\n",
       "       [1.72755039, 2.00890899, 0.42296004, ..., 1.16645038, 1.83866763,\n",
       "        1.19816399],\n",
       "       [2.19685912, 1.43872404, 0.49104452, ..., 1.74684358, 1.81875014,\n",
       "        1.55596733],\n",
       "       ...,\n",
       "       [2.83035231, 2.22458196, 0.18077081, ..., 0.88491035, 2.38220119,\n",
       "        1.9877975 ],\n",
       "       [2.45038486, 2.53556895, 0.21206586, ..., 1.19322145, 1.89814818,\n",
       "        1.20201302],\n",
       "       [1.68171072, 3.04080796, 0.04592767, ..., 1.08728933, 1.92475533,\n",
       "        0.94544512]])"
      ]
     },
     "execution_count": 13,
     "metadata": {},
     "output_type": "execute_result"
    }
   ],
   "source": [
    "vector_embeddings"
   ]
  },
  {
   "cell_type": "markdown",
   "metadata": {},
   "source": [
    "## ECFP\n",
    "\n",
    "- ECFP4 - 1024\n",
    "- ECFP6 - 2048\n"
   ]
  },
  {
   "cell_type": "code",
   "execution_count": 28,
   "metadata": {},
   "outputs": [
    {
     "name": "stdout",
     "output_type": "stream",
     "text": [
      "6000\n",
      "<class 'list'>\n",
      "<class 'rdkit.DataStructs.cDataStructs.ExplicitBitVect'>\n"
     ]
    }
   ],
   "source": [
    "model_name = \"ecfp\"\n",
    "radius = 2\n",
    "nBits = 2048\n",
    "\n",
    "# wandb.config.update({\"model_name\": model_name, \"radius\": radius, \"nBits\": nBits})\n",
    "\n",
    "\n",
    "vector_embeddings = get_ecfp_descriptors(\n",
    "    smiles_series=data[\"text\"], radius=radius, nBits=nBits, inner_return_type=\"original\"\n",
    ")\n",
    "\n",
    "# ecfp_vectors = [\n",
    "#     get_ecfp_descriptor(\n",
    "#         smiles_str=smiles_str, radius=radius, nBits=nBits, return_type=\"numpy\"\n",
    "#     )\n",
    "#     for smiles_str in smiles\n",
    "# vector_embeddings = np.array(ecfp_vectors)\n",
    "\n",
    "print(len(vector_embeddings))\n",
    "print(type(vector_embeddings))\n",
    "print(type(vector_embeddings[0]))"
   ]
  },
  {
   "cell_type": "markdown",
   "metadata": {},
   "source": [
    "# Dimensionality Reduction\n"
   ]
  },
  {
   "cell_type": "markdown",
   "metadata": {},
   "source": [
    "## UMAP"
   ]
  },
  {
   "cell_type": "code",
   "execution_count": 7,
   "metadata": {},
   "outputs": [],
   "source": [
    "n_components = 20\n",
    "n_neighbors = 15\n",
    "min_dist = 0.1\n",
    "metric = \"euclidean\"\n",
    "\n",
    "\n",
    "wandb.config.update(\n",
    "    {\n",
    "        \"dim_reduction\": \"UMAP\",\n",
    "        \"n_components\": n_components,\n",
    "        \"n_neighbors\": n_neighbors,\n",
    "        \"min_dist\": min_dist,\n",
    "        \"metric\": metric,\n",
    "    }\n",
    ")\n",
    "\n",
    "\n",
    "vector_embeddings = apply_umap(\n",
    "    data=vector_embeddings,\n",
    "    n_components=n_components,\n",
    "    n_neighbors=n_neighbors,\n",
    "    min_dist=min_dist,\n",
    "    metric=metric,\n",
    "    random_state=random_state,\n",
    "    device=device,\n",
    ")"
   ]
  },
  {
   "cell_type": "markdown",
   "metadata": {},
   "source": [
    "## PCA - TODO"
   ]
  },
  {
   "cell_type": "markdown",
   "metadata": {},
   "source": [
    "# Cluster"
   ]
  },
  {
   "cell_type": "markdown",
   "metadata": {},
   "source": [
    "## K-Means\n"
   ]
  },
  {
   "cell_type": "markdown",
   "metadata": {},
   "source": [
    "### NOTE\n",
    "\n",
    "- No need for k-means, but needs for butina.\n",
    "- Actually, when finding similary compounds in k-means, we might use Tanimoto similarity,\n",
    "  but noone seem to do so. WHY ??\n",
    "- [practicalcheminformatics Guide](https://practicalcheminformatics.blogspot.com/2019/01/k-means-clustering.html)\n",
    "\n",
    "### ECFP4 - 2048\n",
    "\n",
    "- CPU: 2.0s\n",
    "- GPU: 1.8s\n",
    "- Silhouette score: 0.014231271668859027\n",
    "\n",
    "#### With UMAP\n",
    "\n",
    "- 20 features\n",
    "  - Silhouette score: 0.743\n",
    "\n",
    "### Chemberta Model Embeddings\n",
    "\n",
    "- Silhouette score: 0.4123\n",
    "- CPU: 1.3s for (6000, 384)\n",
    "- GPU: 1.5s for (6000, 384)\n",
    "\n",
    "#### With UMAP\n",
    "\n",
    "- 20 features\n",
    "  - Silhouette score: 0.525\n",
    "\n",
    "### Chemprop Model Embeddings\n",
    "\n",
    "- Silhouette score: 0.24\n",
    "- CPU: ?\n",
    "- GPU: ?"
   ]
  },
  {
   "cell_type": "code",
   "execution_count": null,
   "metadata": {},
   "outputs": [],
   "source": [
    "# similarity_matrix = efcp_similarity_matrix(smiles_list=smiles, method=\"fast\")\n",
    "\n",
    "## For checking the slow method\n",
    "# similarity_matrix_slow = efcp_similarity_matrix(smiles_list=smiles, method=\"slow\")\n",
    "# np.array_equal(similarity_matrix, similarity_matrix_slow)\n",
    "# np.allclose(similarity_matrix, similarity_matrix_slow, rtol=0, atol=0.2)"
   ]
  },
  {
   "cell_type": "code",
   "execution_count": 10,
   "metadata": {},
   "outputs": [],
   "source": [
    "wandb.config.update({\"clustering_method\": \"K-MEANS\"})\n",
    "\n",
    "cluster_range = 20\n",
    "scores = []\n",
    "inertias = []\n",
    "\n",
    "\n",
    "for i in range(2, cluster_range):\n",
    "    # i = 3\n",
    "\n",
    "    cluster_labels, inertia = apply_k_means(\n",
    "        data=vector_embeddings,\n",
    "        init_method=\"k-means++\",\n",
    "        n_clusters=i,\n",
    "        random_state=random_state,\n",
    "        n_init=1,\n",
    "        device=device,\n",
    "    )\n",
    "\n",
    "    inertias.append(inertia)\n",
    "\n",
    "    score = silhouette_score(vector_embeddings, cluster_labels)\n",
    "    scores.append(score)\n",
    "\n",
    "    wandb.log({\"silhouette_score\": score, \"inertia\": inertia})\n",
    "    # print(f\"Cluster: {i}, Silhouette score: {score:.3f}\")"
   ]
  },
  {
   "cell_type": "code",
   "execution_count": 11,
   "metadata": {},
   "outputs": [
    {
     "data": {
      "image/png": "[encoded data removed]",
      "text/plain": [
       "<Figure size 1000x800 with 1 Axes>"
      ]
     },
     "metadata": {},
     "output_type": "display_data"
    }
   ],
   "source": [
    "# for cluster_id in range(num_clusters):\n",
    "#     print(f\"Cluster {cluster_id + 1}:\")\n",
    "#     cluster_text_indices = np.where(cluster_labels == cluster_id)[0]\n",
    "#     for index in cluster_text_indices:\n",
    "#         print(smiles[index])\n",
    "#     print(\"\\n\")\n",
    "\n",
    "plt.figure(figsize=(10, 8))\n",
    "# plt.plot(range(2, len(inertias)+2), inertias, marker='o', linestyle='--', label='Inertia')\n",
    "plt.plot(\n",
    "    range(2, len(inertias) + 2),\n",
    "    scores,\n",
    "    marker=\"o\",\n",
    "    linestyle=\"--\",\n",
    "    label=\"Silhoutte Score\",\n",
    ")\n",
    "plt.legend()\n",
    "plt.xlabel(\"Number of Clusters\")\n",
    "# plt.ylabel('Inertia Scores')\n",
    "plt.title(\"K-Means Clustering\")\n",
    "plt.show()"
   ]
  },
  {
   "cell_type": "markdown",
   "metadata": {},
   "source": [
    "## Butina"
   ]
  },
  {
   "cell_type": "markdown",
   "metadata": {},
   "source": [
    "### NOTES\n",
    "\n",
    "- Silhouette Score:\n",
    "\n",
    "  - 0.2 Threshold: 0.0007162032683292052 ??\n",
    "\n",
    "- The higher the threshold (distance cutoff), the more molecules are considered as similar and, therefore, clustered into less clusters. The lower the threshold, the more small clusters and “singletons” appear."
   ]
  },
  {
   "cell_type": "code",
   "execution_count": 6,
   "metadata": {},
   "outputs": [],
   "source": [
    "# threshold = 0.2\n",
    "# threshold = 0.4\n",
    "# threshold = 0.6\n",
    "threshold = 0.8"
   ]
  },
  {
   "cell_type": "code",
   "execution_count": 14,
   "metadata": {},
   "outputs": [],
   "source": [
    "# clusters = apply_butina(smiles=data[\"text\"], method=\"generic\", distance_metric=\"euclidian\",threshold=0.8)\n",
    "cluster_labels = apply_butina(\n",
    "    smiles=data[\"text\"], method=\"ecfp\", distance_metric=\"tanimoto\", threshold=0.8\n",
    ")\n",
    "\n",
    "\n",
    "# TODO: Needs vector embeddings\n",
    "silhouette_score = silhouette_score(ecfps, cluster_labels, metric=\"jaccard\")\n",
    "print(\"Silhouette Score: \", silhouette_score)"
   ]
  },
  {
   "cell_type": "markdown",
   "metadata": {},
   "source": [
    "## QPI\n"
   ]
  },
  {
   "cell_type": "code",
   "execution_count": null,
   "metadata": {},
   "outputs": [],
   "source": [
    "# FIXME: Not working\n",
    "def quality_partition_index(clusters, distances):\n",
    "    intra_cluster_distances = [\n",
    "        min([distances[i][j] for j in cluster]) for i, cluster in enumerate(clusters)\n",
    "    ]\n",
    "    min_intra_cluster_distance = min(intra_cluster_distances)\n",
    "    max_inter_cluster_distance = max(\n",
    "        [distances[i][j] for i in range(len(distances)) for j in range(i)]\n",
    "    )\n",
    "\n",
    "    return min_intra_cluster_distance / max_inter_cluster_distance\n",
    "\n",
    "\n",
    "qpi = quality_partition_index(clusters, distances)\n",
    "print(\"Quality Partition Index: \", qpi)"
   ]
  },
  {
   "cell_type": "markdown",
   "metadata": {},
   "source": [
    "# END WANDB\n"
   ]
  },
  {
   "cell_type": "code",
   "execution_count": 10,
   "metadata": {},
   "outputs": [
    {
     "data": {
      "text/html": [
       "Waiting for W&B process to finish... <strong style=\"color:green\">(success).</strong>"
      ],
      "text/plain": [
       "<IPython.core.display.HTML object>"
      ]
     },
     "metadata": {},
     "output_type": "display_data"
    },
    {
     "data": {
      "application/vnd.jupyter.widget-view+json": {
       "model_id": "b1ede397a43e49efa85e65fb2c59e735",
       "version_major": 2,
       "version_minor": 0
      },
      "text/plain": [
       "VBox(children=(Label(value='0.003 MB of 0.020 MB uploaded (0.000 MB deduped)\\r'), FloatProgress(value=0.135041…"
      ]
     },
     "metadata": {},
     "output_type": "display_data"
    },
    {
     "data": {
      "text/html": [
       "<style>\n",
       "    table.wandb td:nth-child(1) { padding: 0 10px; text-align: left ; width: auto;} td:nth-child(2) {text-align: left ; width: 100%}\n",
       "    .wandb-row { display: flex; flex-direction: row; flex-wrap: wrap; justify-content: flex-start; width: 100% }\n",
       "    .wandb-col { display: flex; flex-direction: column; flex-basis: 100%; flex: 1; padding: 10px; }\n",
       "    </style>\n",
       "<div class=\"wandb-row\"><div class=\"wandb-col\"><h3>Run history:</h3><br/><table class=\"wandb\"><tr><td>inertia</td><td>█▇▆▇▅▅▄▃▂▂▂▂▁▁▁▁▁▁</td></tr><tr><td>silhouette_score</td><td>██▁▅▁▁▁▂▁▁▁▁▁▂▁▂▂▂</td></tr></table><br/></div><div class=\"wandb-col\"><h3>Run summary:</h3><br/><table class=\"wandb\"><tr><td>inertia</td><td>10633.25977</td></tr><tr><td>silhouette_score</td><td>0.27417</td></tr></table><br/></div></div>"
      ],
      "text/plain": [
       "<IPython.core.display.HTML object>"
      ]
     },
     "metadata": {},
     "output_type": "display_data"
    },
    {
     "data": {
      "text/html": [
       " View run <strong style=\"color:#cdcd00\">sage-bird-3</strong> at: <a href='https://wandb.ai/ilkersigirci/Cluster-Experiments/runs/788iz3cg' target=\"_blank\">https://wandb.ai/ilkersigirci/Cluster-Experiments/runs/788iz3cg</a><br/>Synced 5 W&B file(s), 0 media file(s), 0 artifact file(s) and 0 other file(s)"
      ],
      "text/plain": [
       "<IPython.core.display.HTML object>"
      ]
     },
     "metadata": {},
     "output_type": "display_data"
    },
    {
     "data": {
      "text/html": [
       "Find logs at: <code>./wandb/run-20230811_233729-788iz3cg/logs</code>"
      ],
      "text/plain": [
       "<IPython.core.display.HTML object>"
      ]
     },
     "metadata": {},
     "output_type": "display_data"
    }
   ],
   "source": [
    "if wandb.run is not None:\n",
    "    wandb.finish()"
   ]
  }
 ],
 "metadata": {
  "kernelspec": {
   "display_name": "thesis-work",
   "language": "python",
   "name": "python3"
  },
  "language_info": {
   "codemirror_mode": {
    "name": "ipython",
    "version": 3
   },
   "file_extension": ".py",
   "mimetype": "text/x-python",
   "name": "python",
   "nbconvert_exporter": "python",
   "pygments_lexer": "ipython3",
   "version": "3.10.12"
  },
  "orig_nbformat": 4
 },
 "nbformat": 4,
 "nbformat_minor": 2
}
