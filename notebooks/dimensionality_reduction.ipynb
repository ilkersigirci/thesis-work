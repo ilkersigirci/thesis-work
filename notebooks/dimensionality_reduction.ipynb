{
 "cells": [
  {
   "cell_type": "code",
   "execution_count": 1,
   "metadata": {},
   "outputs": [
    {
     "name": "stderr",
     "output_type": "stream",
     "text": [
      "2023-08-21 21:07:58.233393: I tensorflow/core/platform/cpu_feature_guard.cc:182] This TensorFlow binary is optimized to use available CPU instructions in performance-critical operations.\n",
      "To enable the following instructions: AVX2 FMA, in other operations, rebuild TensorFlow with the appropriate compiler flags.\n",
      "2023-08-21 21:07:58.714329: W tensorflow/compiler/tf2tensorrt/utils/py_utils.cc:38] TF-TRT Warning: Could not find TensorRT\n",
      "2023-08-21 21:07:59.328274: I tensorflow/compiler/xla/stream_executor/cuda/cuda_gpu_executor.cc:995] successful NUMA node read from SysFS had negative value (-1), but there must be at least one NUMA node, so returning NUMA node zero. See more at https://github.com/torvalds/linux/blob/v6.0/Documentation/ABI/testing/sysfs-bus-pci#L344-L355\n",
      "2023-08-21 21:07:59.364060: I tensorflow/compiler/xla/stream_executor/cuda/cuda_gpu_executor.cc:995] successful NUMA node read from SysFS had negative value (-1), but there must be at least one NUMA node, so returning NUMA node zero. See more at https://github.com/torvalds/linux/blob/v6.0/Documentation/ABI/testing/sysfs-bus-pci#L344-L355\n",
      "2023-08-21 21:07:59.364229: I tensorflow/compiler/xla/stream_executor/cuda/cuda_gpu_executor.cc:995] successful NUMA node read from SysFS had negative value (-1), but there must be at least one NUMA node, so returning NUMA node zero. See more at https://github.com/torvalds/linux/blob/v6.0/Documentation/ABI/testing/sysfs-bus-pci#L344-L355\n"
     ]
    }
   ],
   "source": [
    "import os\n",
    "\n",
    "os.environ[\"TF_CPP_MIN_LOG_LEVEL\"] = \"0\"\n",
    "os.environ[\"TF_FORCE_GPU_ALLOW_GROWTH\"] = \"true\"\n",
    "\n",
    "# os.environ['XLA_PYTHON_CLIENT_PREALLOCATE'] ='false'\n",
    "# os.environ['XLA_PYTHON_CLIENT_ALLOCATOR']='platform'\n",
    "\n",
    "# Disable GPU\n",
    "import tensorflow as tf\n",
    "\n",
    "tf.config.set_visible_devices([], \"GPU\")\n",
    "# os.environ['CUDA_VISIBLE_DEVICES'] = ''  # Use GPU 0 for PyTorch"
   ]
  },
  {
   "cell_type": "code",
   "execution_count": 2,
   "metadata": {},
   "outputs": [
    {
     "data": {
      "text/plain": [
       "[PhysicalDevice(name='/physical_device:GPU:0', device_type='GPU')]"
      ]
     },
     "execution_count": 2,
     "metadata": {},
     "output_type": "execute_result"
    }
   ],
   "source": [
    "tf.config.list_physical_devices(\"GPU\")"
   ]
  },
  {
   "cell_type": "code",
   "execution_count": 3,
   "metadata": {},
   "outputs": [
    {
     "name": "stderr",
     "output_type": "stream",
     "text": [
      "/home/ilker/miniconda3/envs/thesis-work/lib/python3.10/site-packages/cudf/utils/gpu_utils.py:148: UserWarning: No NVIDIA GPU detected\n",
      "  warnings.warn(\"No NVIDIA GPU detected\")\n"
     ]
    },
    {
     "ename": "CudaSupportError",
     "evalue": "Error at driver init: Call to cuInit results in CUDA_ERROR_NO_DEVICE (100)",
     "output_type": "error",
     "traceback": [
      "\u001b[0;31m---------------------------------------------------------------------------\u001b[0m",
      "\u001b[0;31mCudaAPIError\u001b[0m                              Traceback (most recent call last)",
      "File \u001b[0;32m~/miniconda3/envs/thesis-work/lib/python3.10/site-packages/numba/cuda/cudadrv/driver.py:247\u001b[0m, in \u001b[0;36mDriver.ensure_initialized\u001b[0;34m(self)\u001b[0m\n\u001b[1;32m    246\u001b[0m     _logger\u001b[39m.\u001b[39minfo(\u001b[39m'\u001b[39m\u001b[39minit\u001b[39m\u001b[39m'\u001b[39m)\n\u001b[0;32m--> 247\u001b[0m     \u001b[39mself\u001b[39;49m\u001b[39m.\u001b[39;49mcuInit(\u001b[39m0\u001b[39;49m)\n\u001b[1;32m    248\u001b[0m \u001b[39mexcept\u001b[39;00m CudaAPIError \u001b[39mas\u001b[39;00m e:\n",
      "File \u001b[0;32m~/miniconda3/envs/thesis-work/lib/python3.10/site-packages/numba/cuda/cudadrv/driver.py:320\u001b[0m, in \u001b[0;36mDriver._ctypes_wrap_fn.<locals>.safe_cuda_api_call\u001b[0;34m(*args)\u001b[0m\n\u001b[1;32m    319\u001b[0m retcode \u001b[39m=\u001b[39m libfn(\u001b[39m*\u001b[39margs)\n\u001b[0;32m--> 320\u001b[0m \u001b[39mself\u001b[39;49m\u001b[39m.\u001b[39;49m_check_ctypes_error(fname, retcode)\n",
      "File \u001b[0;32m~/miniconda3/envs/thesis-work/lib/python3.10/site-packages/numba/cuda/cudadrv/driver.py:388\u001b[0m, in \u001b[0;36mDriver._check_ctypes_error\u001b[0;34m(self, fname, retcode)\u001b[0m\n\u001b[1;32m    387\u001b[0m     \u001b[39mself\u001b[39m\u001b[39m.\u001b[39m_detect_fork()\n\u001b[0;32m--> 388\u001b[0m \u001b[39mraise\u001b[39;00m CudaAPIError(retcode, msg)\n",
      "\u001b[0;31mCudaAPIError\u001b[0m: [100] Call to cuInit results in CUDA_ERROR_NO_DEVICE",
      "\nDuring handling of the above exception, another exception occurred:\n",
      "\u001b[0;31mCudaSupportError\u001b[0m                          Traceback (most recent call last)",
      "Cell \u001b[0;32mIn[3], line 2\u001b[0m\n\u001b[1;32m      1\u001b[0m \u001b[39mimport\u001b[39;00m \u001b[39mumap\u001b[39;00m\n\u001b[0;32m----> 2\u001b[0m \u001b[39mimport\u001b[39;00m \u001b[39mcuml\u001b[39;00m\n\u001b[1;32m      3\u001b[0m \u001b[39mimport\u001b[39;00m \u001b[39mpandas\u001b[39;00m \u001b[39mas\u001b[39;00m \u001b[39mpd\u001b[39;00m\n\u001b[1;32m      4\u001b[0m \u001b[39mimport\u001b[39;00m \u001b[39mdatashader\u001b[39;00m \u001b[39mas\u001b[39;00m \u001b[39mds\u001b[39;00m\n",
      "File \u001b[0;32m~/miniconda3/envs/thesis-work/lib/python3.10/site-packages/cuml/__init__.py:17\u001b[0m\n\u001b[1;32m      1\u001b[0m \u001b[39m#\u001b[39;00m\n\u001b[1;32m      2\u001b[0m \u001b[39m# Copyright (c) 2022-2023, NVIDIA CORPORATION.\u001b[39;00m\n\u001b[1;32m      3\u001b[0m \u001b[39m#\u001b[39;00m\n\u001b[0;32m   (...)\u001b[0m\n\u001b[1;32m     14\u001b[0m \u001b[39m# limitations under the License.\u001b[39;00m\n\u001b[1;32m     15\u001b[0m \u001b[39m#\u001b[39;00m\n\u001b[0;32m---> 17\u001b[0m \u001b[39mfrom\u001b[39;00m \u001b[39mcuml\u001b[39;00m\u001b[39m.\u001b[39;00m\u001b[39minternals\u001b[39;00m\u001b[39m.\u001b[39;00m\u001b[39mbase\u001b[39;00m \u001b[39mimport\u001b[39;00m Base, UniversalBase\n\u001b[1;32m     19\u001b[0m \u001b[39m# GPU only packages\u001b[39;00m\n\u001b[1;32m     21\u001b[0m \u001b[39mimport\u001b[39;00m \u001b[39mcuml\u001b[39;00m\u001b[39m.\u001b[39;00m\u001b[39mcommon\u001b[39;00m\u001b[39m.\u001b[39;00m\u001b[39mcuda\u001b[39;00m \u001b[39mas\u001b[39;00m \u001b[39mcuda\u001b[39;00m\n",
      "File \u001b[0;32m~/miniconda3/envs/thesis-work/lib/python3.10/site-packages/cuml/internals/__init__.py:17\u001b[0m\n\u001b[1;32m      1\u001b[0m \u001b[39m#\u001b[39;00m\n\u001b[1;32m      2\u001b[0m \u001b[39m# Copyright (c) 2019-2023, NVIDIA CORPORATION.\u001b[39;00m\n\u001b[1;32m      3\u001b[0m \u001b[39m#\u001b[39;00m\n\u001b[0;32m   (...)\u001b[0m\n\u001b[1;32m     14\u001b[0m \u001b[39m# limitations under the License.\u001b[39;00m\n\u001b[1;32m     15\u001b[0m \u001b[39m#\u001b[39;00m\n\u001b[0;32m---> 17\u001b[0m \u001b[39mfrom\u001b[39;00m \u001b[39mcuml\u001b[39;00m\u001b[39m.\u001b[39;00m\u001b[39minternals\u001b[39;00m\u001b[39m.\u001b[39;00m\u001b[39mbase_helpers\u001b[39;00m \u001b[39mimport\u001b[39;00m BaseMetaClass, _tags_class_and_instance\n\u001b[1;32m     18\u001b[0m \u001b[39mfrom\u001b[39;00m \u001b[39mcuml\u001b[39;00m\u001b[39m.\u001b[39;00m\u001b[39minternals\u001b[39;00m\u001b[39m.\u001b[39;00m\u001b[39mapi_decorators\u001b[39;00m \u001b[39mimport\u001b[39;00m (\n\u001b[1;32m     19\u001b[0m     _deprecate_pos_args,\n\u001b[1;32m     20\u001b[0m     api_base_fit_transform,\n\u001b[0;32m   (...)\u001b[0m\n\u001b[1;32m     32\u001b[0m     exit_internal_api,\n\u001b[1;32m     33\u001b[0m )\n\u001b[1;32m     34\u001b[0m \u001b[39mfrom\u001b[39;00m \u001b[39mcuml\u001b[39;00m\u001b[39m.\u001b[39;00m\u001b[39minternals\u001b[39;00m\u001b[39m.\u001b[39;00m\u001b[39mapi_context_managers\u001b[39;00m \u001b[39mimport\u001b[39;00m (\n\u001b[1;32m     35\u001b[0m     in_internal_api,\n\u001b[1;32m     36\u001b[0m     set_api_output_dtype,\n\u001b[1;32m     37\u001b[0m     set_api_output_type,\n\u001b[1;32m     38\u001b[0m )\n",
      "File \u001b[0;32m~/miniconda3/envs/thesis-work/lib/python3.10/site-packages/cuml/internals/base_helpers.py:20\u001b[0m\n\u001b[1;32m     17\u001b[0m \u001b[39mfrom\u001b[39;00m \u001b[39minspect\u001b[39;00m \u001b[39mimport\u001b[39;00m Parameter, signature\n\u001b[1;32m     18\u001b[0m \u001b[39mimport\u001b[39;00m \u001b[39mtyping\u001b[39;00m\n\u001b[0;32m---> 20\u001b[0m \u001b[39mfrom\u001b[39;00m \u001b[39mcuml\u001b[39;00m\u001b[39m.\u001b[39;00m\u001b[39minternals\u001b[39;00m\u001b[39m.\u001b[39;00m\u001b[39mapi_decorators\u001b[39;00m \u001b[39mimport\u001b[39;00m (\n\u001b[1;32m     21\u001b[0m     api_base_return_generic,\n\u001b[1;32m     22\u001b[0m     api_base_return_array,\n\u001b[1;32m     23\u001b[0m     api_base_return_sparse_array,\n\u001b[1;32m     24\u001b[0m     api_base_return_any,\n\u001b[1;32m     25\u001b[0m     api_return_any,\n\u001b[1;32m     26\u001b[0m     _deprecate_pos_args,\n\u001b[1;32m     27\u001b[0m )\n\u001b[1;32m     28\u001b[0m \u001b[39mfrom\u001b[39;00m \u001b[39mcuml\u001b[39;00m\u001b[39m.\u001b[39;00m\u001b[39minternals\u001b[39;00m\u001b[39m.\u001b[39;00m\u001b[39marray\u001b[39;00m \u001b[39mimport\u001b[39;00m CumlArray\n\u001b[1;32m     29\u001b[0m \u001b[39mfrom\u001b[39;00m \u001b[39mcuml\u001b[39;00m\u001b[39m.\u001b[39;00m\u001b[39minternals\u001b[39;00m\u001b[39m.\u001b[39;00m\u001b[39marray_sparse\u001b[39;00m \u001b[39mimport\u001b[39;00m SparseCumlArray\n",
      "File \u001b[0;32m~/miniconda3/envs/thesis-work/lib/python3.10/site-packages/cuml/internals/api_decorators.py:24\u001b[0m\n\u001b[1;32m     21\u001b[0m \u001b[39mimport\u001b[39;00m \u001b[39mwarnings\u001b[39;00m\n\u001b[1;32m     23\u001b[0m \u001b[39m# TODO: Try to resolve circular import that makes this necessary:\u001b[39;00m\n\u001b[0;32m---> 24\u001b[0m \u001b[39mfrom\u001b[39;00m \u001b[39mcuml\u001b[39;00m\u001b[39m.\u001b[39;00m\u001b[39minternals\u001b[39;00m \u001b[39mimport\u001b[39;00m input_utils \u001b[39mas\u001b[39;00m iu\n\u001b[1;32m     25\u001b[0m \u001b[39mfrom\u001b[39;00m \u001b[39mcuml\u001b[39;00m\u001b[39m.\u001b[39;00m\u001b[39minternals\u001b[39;00m\u001b[39m.\u001b[39;00m\u001b[39mapi_context_managers\u001b[39;00m \u001b[39mimport\u001b[39;00m BaseReturnAnyCM\n\u001b[1;32m     26\u001b[0m \u001b[39mfrom\u001b[39;00m \u001b[39mcuml\u001b[39;00m\u001b[39m.\u001b[39;00m\u001b[39minternals\u001b[39;00m\u001b[39m.\u001b[39;00m\u001b[39mapi_context_managers\u001b[39;00m \u001b[39mimport\u001b[39;00m BaseReturnArrayCM\n",
      "File \u001b[0;32m~/miniconda3/envs/thesis-work/lib/python3.10/site-packages/cuml/internals/input_utils.py:19\u001b[0m\n\u001b[1;32m      1\u001b[0m \u001b[39m#\u001b[39;00m\n\u001b[1;32m      2\u001b[0m \u001b[39m# Copyright (c) 2019-2023, NVIDIA CORPORATION.\u001b[39;00m\n\u001b[1;32m      3\u001b[0m \u001b[39m#\u001b[39;00m\n\u001b[0;32m   (...)\u001b[0m\n\u001b[1;32m     14\u001b[0m \u001b[39m# limitations under the License.\u001b[39;00m\n\u001b[1;32m     15\u001b[0m \u001b[39m#\u001b[39;00m\n\u001b[1;32m     17\u001b[0m \u001b[39mfrom\u001b[39;00m \u001b[39mcollections\u001b[39;00m \u001b[39mimport\u001b[39;00m namedtuple\n\u001b[0;32m---> 19\u001b[0m \u001b[39mfrom\u001b[39;00m \u001b[39mcuml\u001b[39;00m\u001b[39m.\u001b[39;00m\u001b[39minternals\u001b[39;00m\u001b[39m.\u001b[39;00m\u001b[39marray\u001b[39;00m \u001b[39mimport\u001b[39;00m CumlArray\n\u001b[1;32m     20\u001b[0m \u001b[39mfrom\u001b[39;00m \u001b[39mcuml\u001b[39;00m\u001b[39m.\u001b[39;00m\u001b[39minternals\u001b[39;00m\u001b[39m.\u001b[39;00m\u001b[39marray_sparse\u001b[39;00m \u001b[39mimport\u001b[39;00m SparseCumlArray\n\u001b[1;32m     21\u001b[0m \u001b[39mfrom\u001b[39;00m \u001b[39mcuml\u001b[39;00m\u001b[39m.\u001b[39;00m\u001b[39minternals\u001b[39;00m\u001b[39m.\u001b[39;00m\u001b[39mglobal_settings\u001b[39;00m \u001b[39mimport\u001b[39;00m GlobalSettings\n",
      "File \u001b[0;32m~/miniconda3/envs/thesis-work/lib/python3.10/site-packages/cuml/internals/array.py:22\u001b[0m\n\u001b[1;32m     19\u001b[0m \u001b[39mimport\u001b[39;00m \u001b[39moperator\u001b[39;00m\n\u001b[1;32m     20\u001b[0m \u001b[39mimport\u001b[39;00m \u001b[39mpickle\u001b[39;00m\n\u001b[0;32m---> 22\u001b[0m \u001b[39mfrom\u001b[39;00m \u001b[39mcuml\u001b[39;00m\u001b[39m.\u001b[39;00m\u001b[39minternals\u001b[39;00m\u001b[39m.\u001b[39;00m\u001b[39mglobal_settings\u001b[39;00m \u001b[39mimport\u001b[39;00m GlobalSettings\n\u001b[1;32m     23\u001b[0m \u001b[39mfrom\u001b[39;00m \u001b[39mcuml\u001b[39;00m\u001b[39m.\u001b[39;00m\u001b[39minternals\u001b[39;00m\u001b[39m.\u001b[39;00m\u001b[39mlogger\u001b[39;00m \u001b[39mimport\u001b[39;00m debug\n\u001b[1;32m     24\u001b[0m \u001b[39mfrom\u001b[39;00m \u001b[39mcuml\u001b[39;00m\u001b[39m.\u001b[39;00m\u001b[39minternals\u001b[39;00m\u001b[39m.\u001b[39;00m\u001b[39mmem_type\u001b[39;00m \u001b[39mimport\u001b[39;00m MemoryType, MemoryTypeError\n",
      "File \u001b[0;32m~/miniconda3/envs/thesis-work/lib/python3.10/site-packages/cuml/internals/global_settings.py:20\u001b[0m\n\u001b[1;32m     18\u001b[0m \u001b[39mimport\u001b[39;00m \u001b[39mthreading\u001b[39;00m\n\u001b[1;32m     19\u001b[0m \u001b[39mfrom\u001b[39;00m \u001b[39mcuml\u001b[39;00m\u001b[39m.\u001b[39;00m\u001b[39minternals\u001b[39;00m\u001b[39m.\u001b[39;00m\u001b[39mavailable_devices\u001b[39;00m \u001b[39mimport\u001b[39;00m is_cuda_available\n\u001b[0;32m---> 20\u001b[0m \u001b[39mfrom\u001b[39;00m \u001b[39mcuml\u001b[39;00m\u001b[39m.\u001b[39;00m\u001b[39minternals\u001b[39;00m\u001b[39m.\u001b[39;00m\u001b[39mdevice_type\u001b[39;00m \u001b[39mimport\u001b[39;00m DeviceType\n\u001b[1;32m     21\u001b[0m \u001b[39mfrom\u001b[39;00m \u001b[39mcuml\u001b[39;00m\u001b[39m.\u001b[39;00m\u001b[39minternals\u001b[39;00m\u001b[39m.\u001b[39;00m\u001b[39mlogger\u001b[39;00m \u001b[39mimport\u001b[39;00m warn\n\u001b[1;32m     22\u001b[0m \u001b[39mfrom\u001b[39;00m \u001b[39mcuml\u001b[39;00m\u001b[39m.\u001b[39;00m\u001b[39minternals\u001b[39;00m\u001b[39m.\u001b[39;00m\u001b[39mmem_type\u001b[39;00m \u001b[39mimport\u001b[39;00m MemoryType\n",
      "File \u001b[0;32m~/miniconda3/envs/thesis-work/lib/python3.10/site-packages/cuml/internals/device_type.py:19\u001b[0m\n\u001b[1;32m      1\u001b[0m \u001b[39m#\u001b[39;00m\n\u001b[1;32m      2\u001b[0m \u001b[39m# Copyright (c) 2022-2023, NVIDIA CORPORATION.\u001b[39;00m\n\u001b[1;32m      3\u001b[0m \u001b[39m#\u001b[39;00m\n\u001b[0;32m   (...)\u001b[0m\n\u001b[1;32m     14\u001b[0m \u001b[39m# limitations under the License.\u001b[39;00m\n\u001b[1;32m     15\u001b[0m \u001b[39m#\u001b[39;00m\n\u001b[1;32m     18\u001b[0m \u001b[39mfrom\u001b[39;00m \u001b[39menum\u001b[39;00m \u001b[39mimport\u001b[39;00m Enum, auto\n\u001b[0;32m---> 19\u001b[0m \u001b[39mfrom\u001b[39;00m \u001b[39mcuml\u001b[39;00m\u001b[39m.\u001b[39;00m\u001b[39minternals\u001b[39;00m\u001b[39m.\u001b[39;00m\u001b[39mmem_type\u001b[39;00m \u001b[39mimport\u001b[39;00m MemoryType\n\u001b[1;32m     22\u001b[0m \u001b[39mclass\u001b[39;00m \u001b[39mDeviceTypeError\u001b[39;00m(\u001b[39mException\u001b[39;00m):\n\u001b[1;32m     23\u001b[0m \u001b[39m    \u001b[39m\u001b[39m\"\"\"An exception thrown to indicate bad device type selection\"\"\"\u001b[39;00m\n",
      "File \u001b[0;32m~/miniconda3/envs/thesis-work/lib/python3.10/site-packages/cuml/internals/mem_type.py:22\u001b[0m\n\u001b[1;32m     19\u001b[0m \u001b[39mfrom\u001b[39;00m \u001b[39mcuml\u001b[39;00m\u001b[39m.\u001b[39;00m\u001b[39minternals\u001b[39;00m\u001b[39m.\u001b[39;00m\u001b[39mdevice_support\u001b[39;00m \u001b[39mimport\u001b[39;00m GPU_ENABLED\n\u001b[1;32m     20\u001b[0m \u001b[39mfrom\u001b[39;00m \u001b[39mcuml\u001b[39;00m\u001b[39m.\u001b[39;00m\u001b[39minternals\u001b[39;00m\u001b[39m.\u001b[39;00m\u001b[39msafe_imports\u001b[39;00m \u001b[39mimport\u001b[39;00m cpu_only_import, gpu_only_import\n\u001b[0;32m---> 22\u001b[0m cudf \u001b[39m=\u001b[39m gpu_only_import(\u001b[39m\"\u001b[39;49m\u001b[39mcudf\u001b[39;49m\u001b[39m\"\u001b[39;49m)\n\u001b[1;32m     23\u001b[0m cp \u001b[39m=\u001b[39m gpu_only_import(\u001b[39m\"\u001b[39m\u001b[39mcupy\u001b[39m\u001b[39m\"\u001b[39m)\n\u001b[1;32m     24\u001b[0m cpx_sparse \u001b[39m=\u001b[39m gpu_only_import(\u001b[39m\"\u001b[39m\u001b[39mcupyx.scipy.sparse\u001b[39m\u001b[39m\"\u001b[39m)\n",
      "File \u001b[0;32m~/miniconda3/envs/thesis-work/lib/python3.10/site-packages/cuml/internals/safe_imports.py:353\u001b[0m, in \u001b[0;36mgpu_only_import\u001b[0;34m(module, alt)\u001b[0m\n\u001b[1;32m    327\u001b[0m \u001b[39m\u001b[39m\u001b[39m\"\"\"A function used to import modules required only in GPU installs\u001b[39;00m\n\u001b[1;32m    328\u001b[0m \n\u001b[1;32m    329\u001b[0m \u001b[39mThis function will attempt to import a module with the given name, but it\u001b[39;00m\n\u001b[0;32m   (...)\u001b[0m\n\u001b[1;32m    350\u001b[0m \u001b[39m    UnavailableMeta.\u001b[39;00m\n\u001b[1;32m    351\u001b[0m \u001b[39m\"\"\"\u001b[39;00m\n\u001b[1;32m    352\u001b[0m \u001b[39mif\u001b[39;00m GPU_ENABLED:\n\u001b[0;32m--> 353\u001b[0m     \u001b[39mreturn\u001b[39;00m importlib\u001b[39m.\u001b[39;49mimport_module(module)\n\u001b[1;32m    354\u001b[0m \u001b[39melse\u001b[39;00m:\n\u001b[1;32m    355\u001b[0m     \u001b[39mreturn\u001b[39;00m safe_import(\n\u001b[1;32m    356\u001b[0m         module,\n\u001b[1;32m    357\u001b[0m         msg\u001b[39m=\u001b[39m\u001b[39mf\u001b[39m\u001b[39m\"\u001b[39m\u001b[39m{\u001b[39;00mmodule\u001b[39m}\u001b[39;00m\u001b[39m is not installed in non GPU-enabled installations\u001b[39m\u001b[39m\"\u001b[39m,\n\u001b[1;32m    358\u001b[0m         alt\u001b[39m=\u001b[39malt,\n\u001b[1;32m    359\u001b[0m     )\n",
      "File \u001b[0;32m~/miniconda3/envs/thesis-work/lib/python3.10/importlib/__init__.py:126\u001b[0m, in \u001b[0;36mimport_module\u001b[0;34m(name, package)\u001b[0m\n\u001b[1;32m    124\u001b[0m             \u001b[39mbreak\u001b[39;00m\n\u001b[1;32m    125\u001b[0m         level \u001b[39m+\u001b[39m\u001b[39m=\u001b[39m \u001b[39m1\u001b[39m\n\u001b[0;32m--> 126\u001b[0m \u001b[39mreturn\u001b[39;00m _bootstrap\u001b[39m.\u001b[39;49m_gcd_import(name[level:], package, level)\n",
      "File \u001b[0;32m~/miniconda3/envs/thesis-work/lib/python3.10/site-packages/cudf/__init__.py:21\u001b[0m\n\u001b[1;32m     15\u001b[0m \u001b[39mfrom\u001b[39;00m \u001b[39mcudf\u001b[39;00m\u001b[39m.\u001b[39;00m\u001b[39mapi\u001b[39;00m\u001b[39m.\u001b[39;00m\u001b[39mextensions\u001b[39;00m \u001b[39mimport\u001b[39;00m (\n\u001b[1;32m     16\u001b[0m     register_dataframe_accessor,\n\u001b[1;32m     17\u001b[0m     register_index_accessor,\n\u001b[1;32m     18\u001b[0m     register_series_accessor,\n\u001b[1;32m     19\u001b[0m )\n\u001b[1;32m     20\u001b[0m \u001b[39mfrom\u001b[39;00m \u001b[39mcudf\u001b[39;00m\u001b[39m.\u001b[39;00m\u001b[39mapi\u001b[39;00m\u001b[39m.\u001b[39;00m\u001b[39mtypes\u001b[39;00m \u001b[39mimport\u001b[39;00m dtype\n\u001b[0;32m---> 21\u001b[0m \u001b[39mfrom\u001b[39;00m \u001b[39mcudf\u001b[39;00m\u001b[39m.\u001b[39;00m\u001b[39mcore\u001b[39;00m\u001b[39m.\u001b[39;00m\u001b[39malgorithms\u001b[39;00m \u001b[39mimport\u001b[39;00m factorize\n\u001b[1;32m     22\u001b[0m \u001b[39mfrom\u001b[39;00m \u001b[39mcudf\u001b[39;00m\u001b[39m.\u001b[39;00m\u001b[39mcore\u001b[39;00m\u001b[39m.\u001b[39;00m\u001b[39mcut\u001b[39;00m \u001b[39mimport\u001b[39;00m cut\n\u001b[1;32m     23\u001b[0m \u001b[39mfrom\u001b[39;00m \u001b[39mcudf\u001b[39;00m\u001b[39m.\u001b[39;00m\u001b[39mcore\u001b[39;00m\u001b[39m.\u001b[39;00m\u001b[39mdataframe\u001b[39;00m \u001b[39mimport\u001b[39;00m DataFrame, from_dataframe, from_pandas, merge\n",
      "File \u001b[0;32m~/miniconda3/envs/thesis-work/lib/python3.10/site-packages/cudf/core/algorithms.py:9\u001b[0m\n\u001b[1;32m      7\u001b[0m \u001b[39mfrom\u001b[39;00m \u001b[39mcudf\u001b[39;00m\u001b[39m.\u001b[39;00m\u001b[39mcore\u001b[39;00m\u001b[39m.\u001b[39;00m\u001b[39mcolumn\u001b[39;00m \u001b[39mimport\u001b[39;00m as_column\n\u001b[1;32m      8\u001b[0m \u001b[39mfrom\u001b[39;00m \u001b[39mcudf\u001b[39;00m\u001b[39m.\u001b[39;00m\u001b[39mcore\u001b[39;00m\u001b[39m.\u001b[39;00m\u001b[39mindex\u001b[39;00m \u001b[39mimport\u001b[39;00m Index, RangeIndex\n\u001b[0;32m----> 9\u001b[0m \u001b[39mfrom\u001b[39;00m \u001b[39mcudf\u001b[39;00m\u001b[39m.\u001b[39;00m\u001b[39mcore\u001b[39;00m\u001b[39m.\u001b[39;00m\u001b[39mindexed_frame\u001b[39;00m \u001b[39mimport\u001b[39;00m IndexedFrame\n\u001b[1;32m     10\u001b[0m \u001b[39mfrom\u001b[39;00m \u001b[39mcudf\u001b[39;00m\u001b[39m.\u001b[39;00m\u001b[39mcore\u001b[39;00m\u001b[39m.\u001b[39;00m\u001b[39mscalar\u001b[39;00m \u001b[39mimport\u001b[39;00m Scalar\n\u001b[1;32m     11\u001b[0m \u001b[39mfrom\u001b[39;00m \u001b[39mcudf\u001b[39;00m\u001b[39m.\u001b[39;00m\u001b[39mcore\u001b[39;00m\u001b[39m.\u001b[39;00m\u001b[39mseries\u001b[39;00m \u001b[39mimport\u001b[39;00m Series\n",
      "File \u001b[0;32m~/miniconda3/envs/thesis-work/lib/python3.10/site-packages/cudf/core/indexed_frame.py:57\u001b[0m\n\u001b[1;32m     55\u001b[0m \u001b[39mfrom\u001b[39;00m \u001b[39mcudf\u001b[39;00m\u001b[39m.\u001b[39;00m\u001b[39mcore\u001b[39;00m\u001b[39m.\u001b[39;00m\u001b[39mdtypes\u001b[39;00m \u001b[39mimport\u001b[39;00m ListDtype\n\u001b[1;32m     56\u001b[0m \u001b[39mfrom\u001b[39;00m \u001b[39mcudf\u001b[39;00m\u001b[39m.\u001b[39;00m\u001b[39mcore\u001b[39;00m\u001b[39m.\u001b[39;00m\u001b[39mframe\u001b[39;00m \u001b[39mimport\u001b[39;00m Frame\n\u001b[0;32m---> 57\u001b[0m \u001b[39mfrom\u001b[39;00m \u001b[39mcudf\u001b[39;00m\u001b[39m.\u001b[39;00m\u001b[39mcore\u001b[39;00m\u001b[39m.\u001b[39;00m\u001b[39mgroupby\u001b[39;00m\u001b[39m.\u001b[39;00m\u001b[39mgroupby\u001b[39;00m \u001b[39mimport\u001b[39;00m GroupBy\n\u001b[1;32m     58\u001b[0m \u001b[39mfrom\u001b[39;00m \u001b[39mcudf\u001b[39;00m\u001b[39m.\u001b[39;00m\u001b[39mcore\u001b[39;00m\u001b[39m.\u001b[39;00m\u001b[39mindex\u001b[39;00m \u001b[39mimport\u001b[39;00m Index, RangeIndex, _index_from_columns\n\u001b[1;32m     59\u001b[0m \u001b[39mfrom\u001b[39;00m \u001b[39mcudf\u001b[39;00m\u001b[39m.\u001b[39;00m\u001b[39mcore\u001b[39;00m\u001b[39m.\u001b[39;00m\u001b[39mmissing\u001b[39;00m \u001b[39mimport\u001b[39;00m NA\n",
      "File \u001b[0;32m~/miniconda3/envs/thesis-work/lib/python3.10/site-packages/cudf/core/groupby/__init__.py:3\u001b[0m\n\u001b[1;32m      1\u001b[0m \u001b[39m# Copyright (c) 2020-2023, NVIDIA CORPORATION.\u001b[39;00m\n\u001b[0;32m----> 3\u001b[0m \u001b[39mfrom\u001b[39;00m \u001b[39mcudf\u001b[39;00m\u001b[39m.\u001b[39;00m\u001b[39mcore\u001b[39;00m\u001b[39m.\u001b[39;00m\u001b[39mgroupby\u001b[39;00m\u001b[39m.\u001b[39;00m\u001b[39mgroupby\u001b[39;00m \u001b[39mimport\u001b[39;00m GroupBy, Grouper\n\u001b[1;32m      5\u001b[0m __all__ \u001b[39m=\u001b[39m [\n\u001b[1;32m      6\u001b[0m     \u001b[39m\"\u001b[39m\u001b[39mGroupBy\u001b[39m\u001b[39m\"\u001b[39m,\n\u001b[1;32m      7\u001b[0m     \u001b[39m\"\u001b[39m\u001b[39mGrouper\u001b[39m\u001b[39m\"\u001b[39m,\n\u001b[1;32m      8\u001b[0m ]\n",
      "File \u001b[0;32m~/miniconda3/envs/thesis-work/lib/python3.10/site-packages/cudf/core/groupby/groupby.py:28\u001b[0m\n\u001b[1;32m     26\u001b[0m \u001b[39mfrom\u001b[39;00m \u001b[39mcudf\u001b[39;00m\u001b[39m.\u001b[39;00m\u001b[39mcore\u001b[39;00m\u001b[39m.\u001b[39;00m\u001b[39mmixins\u001b[39;00m \u001b[39mimport\u001b[39;00m Reducible, Scannable\n\u001b[1;32m     27\u001b[0m \u001b[39mfrom\u001b[39;00m \u001b[39mcudf\u001b[39;00m\u001b[39m.\u001b[39;00m\u001b[39mcore\u001b[39;00m\u001b[39m.\u001b[39;00m\u001b[39mmultiindex\u001b[39;00m \u001b[39mimport\u001b[39;00m MultiIndex\n\u001b[0;32m---> 28\u001b[0m \u001b[39mfrom\u001b[39;00m \u001b[39mcudf\u001b[39;00m\u001b[39m.\u001b[39;00m\u001b[39mcore\u001b[39;00m\u001b[39m.\u001b[39;00m\u001b[39mudf\u001b[39;00m\u001b[39m.\u001b[39;00m\u001b[39mgroupby_utils\u001b[39;00m \u001b[39mimport\u001b[39;00m jit_groupby_apply\n\u001b[1;32m     29\u001b[0m \u001b[39mfrom\u001b[39;00m \u001b[39mcudf\u001b[39;00m\u001b[39m.\u001b[39;00m\u001b[39mutils\u001b[39;00m\u001b[39m.\u001b[39;00m\u001b[39mutils\u001b[39;00m \u001b[39mimport\u001b[39;00m GetAttrGetItemMixin, _cudf_nvtx_annotate\n\u001b[1;32m     32\u001b[0m \u001b[39m# The three functions below return the quantiles [25%, 50%, 75%]\u001b[39;00m\n\u001b[1;32m     33\u001b[0m \u001b[39m# respectively, which are called in the describe() method to output\u001b[39;00m\n\u001b[1;32m     34\u001b[0m \u001b[39m# the summary stats of a GroupBy object\u001b[39;00m\n",
      "File \u001b[0;32m~/miniconda3/envs/thesis-work/lib/python3.10/site-packages/cudf/core/udf/groupby_utils.py:11\u001b[0m\n\u001b[1;32m      8\u001b[0m \u001b[39mfrom\u001b[39;00m \u001b[39mnumba\u001b[39;00m\u001b[39m.\u001b[39;00m\u001b[39mnp\u001b[39;00m \u001b[39mimport\u001b[39;00m numpy_support\n\u001b[1;32m      9\u001b[0m \u001b[39mfrom\u001b[39;00m \u001b[39mnumba\u001b[39;00m\u001b[39m.\u001b[39;00m\u001b[39mtypes\u001b[39;00m \u001b[39mimport\u001b[39;00m Record\n\u001b[0;32m---> 11\u001b[0m \u001b[39mimport\u001b[39;00m \u001b[39mcudf\u001b[39;00m\u001b[39m.\u001b[39;00m\u001b[39mcore\u001b[39;00m\u001b[39m.\u001b[39;00m\u001b[39mudf\u001b[39;00m\u001b[39m.\u001b[39;00m\u001b[39mutils\u001b[39;00m\n\u001b[1;32m     12\u001b[0m \u001b[39mfrom\u001b[39;00m \u001b[39mcudf\u001b[39;00m\u001b[39m.\u001b[39;00m\u001b[39mcore\u001b[39;00m\u001b[39m.\u001b[39;00m\u001b[39mudf\u001b[39;00m\u001b[39m.\u001b[39;00m\u001b[39mgroupby_typing\u001b[39;00m \u001b[39mimport\u001b[39;00m (\n\u001b[1;32m     13\u001b[0m     SUPPORTED_GROUPBY_NUMPY_TYPES,\n\u001b[1;32m     14\u001b[0m     Group,\n\u001b[1;32m     15\u001b[0m     GroupType,\n\u001b[1;32m     16\u001b[0m )\n\u001b[1;32m     17\u001b[0m \u001b[39mfrom\u001b[39;00m \u001b[39mcudf\u001b[39;00m\u001b[39m.\u001b[39;00m\u001b[39mcore\u001b[39;00m\u001b[39m.\u001b[39;00m\u001b[39mudf\u001b[39;00m\u001b[39m.\u001b[39;00m\u001b[39mtemplates\u001b[39;00m \u001b[39mimport\u001b[39;00m (\n\u001b[1;32m     18\u001b[0m     group_initializer_template,\n\u001b[1;32m     19\u001b[0m     groupby_apply_kernel_template,\n\u001b[1;32m     20\u001b[0m )\n",
      "File \u001b[0;32m~/miniconda3/envs/thesis-work/lib/python3.10/site-packages/cudf/core/udf/utils.py:121\u001b[0m\n\u001b[1;32m    117\u001b[0m     \u001b[39melse\u001b[39;00m:\n\u001b[1;32m    118\u001b[0m         \u001b[39mreturn\u001b[39;00m regular_result[\u001b[39m1\u001b[39m]\n\u001b[0;32m--> 121\u001b[0m _PTX_FILE \u001b[39m=\u001b[39m _get_ptx_file(os\u001b[39m.\u001b[39;49mpath\u001b[39m.\u001b[39;49mdirname(\u001b[39m__file__\u001b[39;49m), \u001b[39m\"\u001b[39;49m\u001b[39mshim_\u001b[39;49m\u001b[39m\"\u001b[39;49m)\n\u001b[1;32m    124\u001b[0m \u001b[39m@_cudf_nvtx_annotate\u001b[39m\n\u001b[1;32m    125\u001b[0m \u001b[39mdef\u001b[39;00m \u001b[39m_get_udf_return_type\u001b[39m(argty, func: Callable, args\u001b[39m=\u001b[39m()):\n\u001b[1;32m    126\u001b[0m \u001b[39m    \u001b[39m\u001b[39m\"\"\"\u001b[39;00m\n\u001b[1;32m    127\u001b[0m \u001b[39m    Get the return type of a masked UDF for a given set of argument dtypes. It\u001b[39;00m\n\u001b[1;32m    128\u001b[0m \u001b[39m    is assumed that the function consumes a dictionary whose keys are strings\u001b[39;00m\n\u001b[0;32m   (...)\u001b[0m\n\u001b[1;32m    136\u001b[0m \u001b[39m    compute the answer for that row.\u001b[39;00m\n\u001b[1;32m    137\u001b[0m \u001b[39m    \"\"\"\u001b[39;00m\n",
      "File \u001b[0;32m~/miniconda3/envs/thesis-work/lib/python3.10/site-packages/cudf/core/udf/utils.py:87\u001b[0m, in \u001b[0;36m_get_ptx_file\u001b[0;34m(path, prefix)\u001b[0m\n\u001b[1;32m     85\u001b[0m     cc \u001b[39m=\u001b[39m \u001b[39mint\u001b[39m(os\u001b[39m.\u001b[39menviron\u001b[39m.\u001b[39mget(\u001b[39m\"\u001b[39m\u001b[39mSTRINGS_UDF_CC\u001b[39m\u001b[39m\"\u001b[39m, \u001b[39m\"\u001b[39m\u001b[39m60\u001b[39m\u001b[39m\"\u001b[39m))\n\u001b[1;32m     86\u001b[0m \u001b[39melse\u001b[39;00m:\n\u001b[0;32m---> 87\u001b[0m     dev \u001b[39m=\u001b[39m cuda\u001b[39m.\u001b[39;49mget_current_device()\n\u001b[1;32m     89\u001b[0m     \u001b[39m# Load the highest compute capability file available that is less than\u001b[39;00m\n\u001b[1;32m     90\u001b[0m     \u001b[39m# the current device's.\u001b[39;00m\n\u001b[1;32m     91\u001b[0m     cc \u001b[39m=\u001b[39m \u001b[39mint\u001b[39m(\u001b[39m\"\u001b[39m\u001b[39m\"\u001b[39m\u001b[39m.\u001b[39mjoin(\u001b[39mstr\u001b[39m(x) \u001b[39mfor\u001b[39;00m x \u001b[39min\u001b[39;00m dev\u001b[39m.\u001b[39mcompute_capability))\n",
      "File \u001b[0;32m~/miniconda3/envs/thesis-work/lib/python3.10/site-packages/numba/cuda/api.py:435\u001b[0m, in \u001b[0;36mget_current_device\u001b[0;34m()\u001b[0m\n\u001b[1;32m    433\u001b[0m \u001b[39mdef\u001b[39;00m \u001b[39mget_current_device\u001b[39m():\n\u001b[1;32m    434\u001b[0m     \u001b[39m\"\u001b[39m\u001b[39mGet current device associated with the current thread\u001b[39m\u001b[39m\"\u001b[39m\n\u001b[0;32m--> 435\u001b[0m     \u001b[39mreturn\u001b[39;00m current_context()\u001b[39m.\u001b[39mdevice\n",
      "File \u001b[0;32m~/miniconda3/envs/thesis-work/lib/python3.10/site-packages/numba/cuda/cudadrv/devices.py:220\u001b[0m, in \u001b[0;36mget_context\u001b[0;34m(devnum)\u001b[0m\n\u001b[1;32m    216\u001b[0m \u001b[39mdef\u001b[39;00m \u001b[39mget_context\u001b[39m(devnum\u001b[39m=\u001b[39m\u001b[39mNone\u001b[39;00m):\n\u001b[1;32m    217\u001b[0m \u001b[39m    \u001b[39m\u001b[39m\"\"\"Get the current device or use a device by device number, and\u001b[39;00m\n\u001b[1;32m    218\u001b[0m \u001b[39m    return the CUDA context.\u001b[39;00m\n\u001b[1;32m    219\u001b[0m \u001b[39m    \"\"\"\u001b[39;00m\n\u001b[0;32m--> 220\u001b[0m     \u001b[39mreturn\u001b[39;00m _runtime\u001b[39m.\u001b[39;49mget_or_create_context(devnum)\n",
      "File \u001b[0;32m~/miniconda3/envs/thesis-work/lib/python3.10/site-packages/numba/cuda/cudadrv/devices.py:138\u001b[0m, in \u001b[0;36m_Runtime.get_or_create_context\u001b[0;34m(self, devnum)\u001b[0m\n\u001b[1;32m    136\u001b[0m attached_ctx \u001b[39m=\u001b[39m \u001b[39mself\u001b[39m\u001b[39m.\u001b[39m_get_attached_context()\n\u001b[1;32m    137\u001b[0m \u001b[39mif\u001b[39;00m attached_ctx \u001b[39mis\u001b[39;00m \u001b[39mNone\u001b[39;00m:\n\u001b[0;32m--> 138\u001b[0m     \u001b[39mreturn\u001b[39;00m \u001b[39mself\u001b[39;49m\u001b[39m.\u001b[39;49m_get_or_create_context_uncached(devnum)\n\u001b[1;32m    139\u001b[0m \u001b[39melse\u001b[39;00m:\n\u001b[1;32m    140\u001b[0m     \u001b[39mreturn\u001b[39;00m attached_ctx\n",
      "File \u001b[0;32m~/miniconda3/envs/thesis-work/lib/python3.10/site-packages/numba/cuda/cudadrv/devices.py:153\u001b[0m, in \u001b[0;36m_Runtime._get_or_create_context_uncached\u001b[0;34m(self, devnum)\u001b[0m\n\u001b[1;32m    147\u001b[0m \u001b[39m\u001b[39m\u001b[39m\"\"\"See also ``get_or_create_context(devnum)``.\u001b[39;00m\n\u001b[1;32m    148\u001b[0m \u001b[39mThis version does not read the cache.\u001b[39;00m\n\u001b[1;32m    149\u001b[0m \u001b[39m\"\"\"\u001b[39;00m\n\u001b[1;32m    150\u001b[0m \u001b[39mwith\u001b[39;00m \u001b[39mself\u001b[39m\u001b[39m.\u001b[39m_lock:\n\u001b[1;32m    151\u001b[0m     \u001b[39m# Try to get the active context in the CUDA stack or\u001b[39;00m\n\u001b[1;32m    152\u001b[0m     \u001b[39m# activate GPU-0 with the primary context\u001b[39;00m\n\u001b[0;32m--> 153\u001b[0m     \u001b[39mwith\u001b[39;00m driver\u001b[39m.\u001b[39mget_active_context() \u001b[39mas\u001b[39;00m ac:\n\u001b[1;32m    154\u001b[0m         \u001b[39mif\u001b[39;00m \u001b[39mnot\u001b[39;00m ac:\n\u001b[1;32m    155\u001b[0m             \u001b[39mreturn\u001b[39;00m \u001b[39mself\u001b[39m\u001b[39m.\u001b[39m_activate_context_for(\u001b[39m0\u001b[39m)\n",
      "File \u001b[0;32m~/miniconda3/envs/thesis-work/lib/python3.10/site-packages/numba/cuda/cudadrv/driver.py:488\u001b[0m, in \u001b[0;36m_ActiveContext.__enter__\u001b[0;34m(self)\u001b[0m\n\u001b[1;32m    486\u001b[0m \u001b[39melse\u001b[39;00m:\n\u001b[1;32m    487\u001b[0m     hctx \u001b[39m=\u001b[39m drvapi\u001b[39m.\u001b[39mcu_context(\u001b[39m0\u001b[39m)\n\u001b[0;32m--> 488\u001b[0m     driver\u001b[39m.\u001b[39;49mcuCtxGetCurrent(byref(hctx))\n\u001b[1;32m    489\u001b[0m     hctx \u001b[39m=\u001b[39m hctx \u001b[39mif\u001b[39;00m hctx\u001b[39m.\u001b[39mvalue \u001b[39melse\u001b[39;00m \u001b[39mNone\u001b[39;00m\n\u001b[1;32m    491\u001b[0m \u001b[39mif\u001b[39;00m hctx \u001b[39mis\u001b[39;00m \u001b[39mNone\u001b[39;00m:\n",
      "File \u001b[0;32m~/miniconda3/envs/thesis-work/lib/python3.10/site-packages/numba/cuda/cudadrv/driver.py:285\u001b[0m, in \u001b[0;36mDriver.__getattr__\u001b[0;34m(self, fname)\u001b[0m\n\u001b[1;32m    283\u001b[0m \u001b[39mdef\u001b[39;00m \u001b[39m__getattr__\u001b[39m(\u001b[39mself\u001b[39m, fname):\n\u001b[1;32m    284\u001b[0m     \u001b[39m# First request of a driver API function\u001b[39;00m\n\u001b[0;32m--> 285\u001b[0m     \u001b[39mself\u001b[39;49m\u001b[39m.\u001b[39;49mensure_initialized()\n\u001b[1;32m    287\u001b[0m     \u001b[39mif\u001b[39;00m \u001b[39mself\u001b[39m\u001b[39m.\u001b[39minitialization_error \u001b[39mis\u001b[39;00m \u001b[39mnot\u001b[39;00m \u001b[39mNone\u001b[39;00m:\n\u001b[1;32m    288\u001b[0m         \u001b[39mraise\u001b[39;00m CudaSupportError(\u001b[39m\"\u001b[39m\u001b[39mError at driver init: \u001b[39m\u001b[39m\\n\u001b[39;00m\u001b[39m%s\u001b[39;00m\u001b[39m:\u001b[39m\u001b[39m\"\u001b[39m \u001b[39m%\u001b[39m\n\u001b[1;32m    289\u001b[0m                                \u001b[39mself\u001b[39m\u001b[39m.\u001b[39minitialization_error)\n",
      "File \u001b[0;32m~/miniconda3/envs/thesis-work/lib/python3.10/site-packages/numba/cuda/cudadrv/driver.py:251\u001b[0m, in \u001b[0;36mDriver.ensure_initialized\u001b[0;34m(self)\u001b[0m\n\u001b[1;32m    249\u001b[0m     description \u001b[39m=\u001b[39m \u001b[39mf\u001b[39m\u001b[39m\"\u001b[39m\u001b[39m{\u001b[39;00me\u001b[39m.\u001b[39mmsg\u001b[39m}\u001b[39;00m\u001b[39m (\u001b[39m\u001b[39m{\u001b[39;00me\u001b[39m.\u001b[39mcode\u001b[39m}\u001b[39;00m\u001b[39m)\u001b[39m\u001b[39m\"\u001b[39m\n\u001b[1;32m    250\u001b[0m     \u001b[39mself\u001b[39m\u001b[39m.\u001b[39minitialization_error \u001b[39m=\u001b[39m description\n\u001b[0;32m--> 251\u001b[0m     \u001b[39mraise\u001b[39;00m CudaSupportError(\u001b[39mf\u001b[39m\u001b[39m\"\u001b[39m\u001b[39mError at driver init: \u001b[39m\u001b[39m{\u001b[39;00mdescription\u001b[39m}\u001b[39;00m\u001b[39m\"\u001b[39m)\n\u001b[1;32m    252\u001b[0m \u001b[39melse\u001b[39;00m:\n\u001b[1;32m    253\u001b[0m     \u001b[39mself\u001b[39m\u001b[39m.\u001b[39mpid \u001b[39m=\u001b[39m _getpid()\n",
      "\u001b[0;31mCudaSupportError\u001b[0m: Error at driver init: Call to cuInit results in CUDA_ERROR_NO_DEVICE (100)"
     ]
    }
   ],
   "source": [
    "import umap\n",
    "import cuml\n",
    "import pandas as pd\n",
    "import datashader as ds\n",
    "import datashader.transfer_functions as ds_tf\n",
    "import matplotlib.pyplot as plt\n",
    "from tensorflow.keras.datasets import mnist\n",
    "import datashader.utils as ds_utils\n",
    "from umap.parametric_umap import ParametricUMAP\n",
    "import numpy as np"
   ]
  },
  {
   "cell_type": "code",
   "execution_count": 3,
   "metadata": {},
   "outputs": [],
   "source": [
    "pal = [\n",
    "    \"#9e0142\",\n",
    "    \"#d8434e\",\n",
    "    \"#f67a49\",\n",
    "    \"#fdbf6f\",\n",
    "    \"#feeda1\",\n",
    "    \"#f1f9a9\",\n",
    "    \"#bfe5a0\",\n",
    "    \"#74c7a5\",\n",
    "    \"#378ebb\",\n",
    "    \"#5e4fa2\",\n",
    "]\n",
    "color_key = {str(d): c for d, c in enumerate(pal)}"
   ]
  },
  {
   "cell_type": "markdown",
   "metadata": {},
   "source": [
    "## UMAP\n",
    "\n",
    "- [bert-loves-chemisrty example](https://github.com/seyonechithrananda/bert-loves-chemistry/blob/master/chemberta/visualization/ChemBERTA_dimensionaliy_reduction_BBBP.ipynb)\n",
    "\n",
    "### TIMES:\n",
    "\n",
    "- Kinase (68k): 3 min 20s\n",
    "  - n_neighbors=50, n_components=2\n"
   ]
  },
  {
   "cell_type": "code",
   "execution_count": null,
   "metadata": {},
   "outputs": [],
   "source": [
    "reducer = umap.UMAP(\n",
    "    n_neighbors=15, n_components=2, n_epochs=500, min_dist=0.1, random_state=42\n",
    ")\n",
    "reducer = cuml.UMAP(n_neighbors=15, n_components=2, n_epochs=500, min_dist=0.1)\n",
    "\n",
    "embedding = reducer.fit_transform(data)\n",
    "\n",
    "df = pd.DataFrame(embedding, columns=(\"x\", \"y\"))\n",
    "df[\"class\"] = pd.Series([str(x) for x in target], dtype=\"category\")\n",
    "\n",
    "cvs = ds.Canvas(plot_width=400, plot_height=400)\n",
    "agg = cvs.points(df, \"x\", \"y\", ds.count_cat(\"class\"))\n",
    "img = ds_tf.shade(agg, color_key=color_key, how=\"eq_hist\")\n",
    "\n",
    "ds_utils.export_image(img, filename=\"fashion-mnist\", background=\"white\")\n",
    "\n",
    "image = plt.imread(\"fashion-mnist.png\")\n",
    "fig, ax = plt.subplots(figsize=(12, 12))\n",
    "plt.imshow(image)\n",
    "plt.setp(ax, xticks=[], yticks=[])\n",
    "plt.title(\n",
    "    \"Fashion MNIST data embedded\\n\"\n",
    "    \"into two dimensions by UMAP\\n\"\n",
    "    \"visualised with Datashader\",\n",
    "    fontsize=12,\n",
    ")\n",
    "\n",
    "plt.show()"
   ]
  },
  {
   "cell_type": "markdown",
   "metadata": {},
   "source": [
    "## PARAMETRIC UMAP\n"
   ]
  },
  {
   "cell_type": "markdown",
   "metadata": {},
   "source": [
    "### Dataset"
   ]
  },
  {
   "cell_type": "code",
   "execution_count": null,
   "metadata": {},
   "outputs": [],
   "source": [
    "(train_images, Y_train), (test_images, Y_test) = mnist.load_data()\n",
    "train_images = train_images.reshape((train_images.shape[0], -1)) / 255.0\n",
    "test_images = test_images.reshape((test_images.shape[0], -1)) / 255.0"
   ]
  },
  {
   "cell_type": "markdown",
   "metadata": {},
   "source": [
    "### Encoder-Decoder Network"
   ]
  },
  {
   "cell_type": "code",
   "execution_count": 4,
   "metadata": {},
   "outputs": [],
   "source": [
    "dims = (28, 28, 1)\n",
    "n_components = 2"
   ]
  },
  {
   "cell_type": "code",
   "execution_count": 5,
   "metadata": {},
   "outputs": [],
   "source": [
    "encoder = tf.keras.Sequential(\n",
    "    [\n",
    "        tf.keras.layers.InputLayer(input_shape=dims),\n",
    "        tf.keras.layers.Conv2D(\n",
    "            filters=64, kernel_size=3, strides=(2, 2), activation=\"relu\", padding=\"same\"\n",
    "        ),\n",
    "        tf.keras.layers.Conv2D(\n",
    "            filters=128,\n",
    "            kernel_size=3,\n",
    "            strides=(2, 2),\n",
    "            activation=\"relu\",\n",
    "            padding=\"same\",\n",
    "        ),\n",
    "        tf.keras.layers.Flatten(),\n",
    "        tf.keras.layers.Dense(units=512, activation=\"relu\"),\n",
    "        tf.keras.layers.Dense(units=512, activation=\"relu\"),\n",
    "        tf.keras.layers.Dense(units=n_components),\n",
    "    ]\n",
    ")\n",
    "# encoder.summary()"
   ]
  },
  {
   "cell_type": "code",
   "execution_count": 6,
   "metadata": {},
   "outputs": [],
   "source": [
    "decoder = tf.keras.Sequential(\n",
    "    [\n",
    "        tf.keras.layers.InputLayer(input_shape=(n_components)),\n",
    "        tf.keras.layers.Dense(units=512, activation=\"relu\"),\n",
    "        tf.keras.layers.Dense(units=7 * 7 * 256, activation=\"relu\"),\n",
    "        tf.keras.layers.Reshape(target_shape=(7, 7, 256)),\n",
    "        tf.keras.layers.Conv2DTranspose(\n",
    "            filters=128,\n",
    "            kernel_size=3,\n",
    "            strides=(2, 2),\n",
    "            padding=\"SAME\",\n",
    "            activation=\"relu\",\n",
    "        ),\n",
    "        tf.keras.layers.Conv2DTranspose(\n",
    "            filters=64, kernel_size=3, strides=(2, 2), padding=\"SAME\", activation=\"relu\"\n",
    "        ),\n",
    "        tf.keras.layers.Conv2DTranspose(\n",
    "            filters=1,\n",
    "            kernel_size=3,\n",
    "            strides=(1, 1),\n",
    "            padding=\"SAME\",\n",
    "            activation=\"sigmoid\",\n",
    "        ),\n",
    "    ]\n",
    ")\n",
    "# decoder.summary()"
   ]
  },
  {
   "cell_type": "markdown",
   "metadata": {},
   "source": [
    "### Training"
   ]
  },
  {
   "cell_type": "code",
   "execution_count": 7,
   "metadata": {},
   "outputs": [
    {
     "ename": "NameError",
     "evalue": "name 'ParametricUMAP' is not defined",
     "output_type": "error",
     "traceback": [
      "\u001b[0;31m---------------------------------------------------------------------------\u001b[0m",
      "\u001b[0;31mNameError\u001b[0m                                 Traceback (most recent call last)",
      "Cell \u001b[0;32mIn[7], line 13\u001b[0m\n\u001b[1;32m      3\u001b[0m n_epochs \u001b[39m=\u001b[39m \u001b[39m50\u001b[39m\n\u001b[1;32m      4\u001b[0m \u001b[39m# n_epochs = 200\u001b[39;00m\n\u001b[1;32m      5\u001b[0m \n\u001b[1;32m      6\u001b[0m \u001b[39m# Parametric embedding\u001b[39;00m\n\u001b[0;32m   (...)\u001b[0m\n\u001b[1;32m     11\u001b[0m \n\u001b[1;32m     12\u001b[0m \u001b[39m## Encoder-decoder\u001b[39;00m\n\u001b[0;32m---> 13\u001b[0m embedder \u001b[39m=\u001b[39m ParametricUMAP(\n\u001b[1;32m     14\u001b[0m     encoder\u001b[39m=\u001b[39mencoder,\n\u001b[1;32m     15\u001b[0m     decoder\u001b[39m=\u001b[39mdecoder,\n\u001b[1;32m     16\u001b[0m     dims\u001b[39m=\u001b[39mdims,\n\u001b[1;32m     17\u001b[0m     n_training_epochs\u001b[39m=\u001b[39m\u001b[39m1\u001b[39m,\n\u001b[1;32m     18\u001b[0m     n_components\u001b[39m=\u001b[39mn_components,\n\u001b[1;32m     19\u001b[0m     parametric_reconstruction\u001b[39m=\u001b[39m \u001b[39mTrue\u001b[39;00m,\n\u001b[1;32m     20\u001b[0m     autoencoder_loss \u001b[39m=\u001b[39m \u001b[39mTrue\u001b[39;00m,\n\u001b[1;32m     21\u001b[0m     reconstruction_validation\u001b[39m=\u001b[39mtest_images,\n\u001b[1;32m     22\u001b[0m     verbose\u001b[39m=\u001b[39m\u001b[39mTrue\u001b[39;00m,\n\u001b[1;32m     23\u001b[0m )\n\u001b[1;32m     26\u001b[0m embedding \u001b[39m=\u001b[39m embedder\u001b[39m.\u001b[39mfit_transform(train_images)\n",
      "\u001b[0;31mNameError\u001b[0m: name 'ParametricUMAP' is not defined"
     ]
    }
   ],
   "source": [
    "# TODO: What is parametric_embedding?\n",
    "\n",
    "n_epochs = 50\n",
    "# n_epochs = 200\n",
    "\n",
    "# Parametric embedding\n",
    "# embedder = ParametricUMAP(n_epochs = n_epochs, parametric_embedding=True, verbose=True)\n",
    "\n",
    "# No parametric_embedding\n",
    "# embedder = ParametricUMAP(parametric_embedding=False, verbose=True)\n",
    "\n",
    "## Encoder-decoder\n",
    "embedder = ParametricUMAP(\n",
    "    encoder=encoder,\n",
    "    decoder=decoder,\n",
    "    dims=dims,\n",
    "    n_training_epochs=1,\n",
    "    n_components=n_components,\n",
    "    parametric_reconstruction=True,\n",
    "    autoencoder_loss=True,\n",
    "    reconstruction_validation=test_images,\n",
    "    verbose=True,\n",
    ")\n",
    "\n",
    "\n",
    "embedding = embedder.fit_transform(train_images)"
   ]
  },
  {
   "cell_type": "markdown",
   "metadata": {},
   "source": [
    "### Plots"
   ]
  },
  {
   "cell_type": "code",
   "execution_count": 8,
   "metadata": {},
   "outputs": [
    {
     "ename": "NameError",
     "evalue": "name 'embedder' is not defined",
     "output_type": "error",
     "traceback": [
      "\u001b[0;31m---------------------------------------------------------------------------\u001b[0m",
      "\u001b[0;31mNameError\u001b[0m                                 Traceback (most recent call last)",
      "Cell \u001b[0;32mIn[8], line 1\u001b[0m\n\u001b[0;32m----> 1\u001b[0m embedder\u001b[39m.\u001b[39m_history\u001b[39m.\u001b[39mkeys()\n",
      "\u001b[0;31mNameError\u001b[0m: name 'embedder' is not defined"
     ]
    }
   ],
   "source": [
    "embedder._history.keys()"
   ]
  },
  {
   "cell_type": "code",
   "execution_count": null,
   "metadata": {},
   "outputs": [],
   "source": [
    "fig, ax = plt.subplots(figsize=(8, 8))\n",
    "sc = ax.scatter(\n",
    "    embedding[:, 0],\n",
    "    embedding[:, 1],\n",
    "    c=Y_train.astype(int),\n",
    "    cmap=\"tab10\",\n",
    "    s=0.1,\n",
    "    alpha=0.5,\n",
    "    rasterized=True,\n",
    ")\n",
    "ax.axis(\"equal\")\n",
    "ax.set_title(\"UMAP in Tensorflow embedding\", fontsize=20)\n",
    "plt.colorbar(sc, ax=ax)"
   ]
  },
  {
   "cell_type": "code",
   "execution_count": null,
   "metadata": {},
   "outputs": [],
   "source": [
    "fig, ax = plt.subplots()\n",
    "ax.plot(embedder._history[\"loss\"])\n",
    "ax.set_ylabel(\"Cross Entropy\")\n",
    "ax.set_xlabel(\"Epoch\")"
   ]
  },
  {
   "cell_type": "markdown",
   "metadata": {},
   "source": [
    "#### Plot Encoder-Decoder Reconstruction"
   ]
  },
  {
   "cell_type": "code",
   "execution_count": null,
   "metadata": {},
   "outputs": [],
   "source": [
    "fig, ax = plt.subplots(figsize=(8, 8))\n",
    "\n",
    "ax.plot(embedder._history[\"reconstruction_loss\"], label=\"train\")\n",
    "ax.plot(embedder._history[\"val_reconstruction_loss\"], label=\"valid\")\n",
    "ax.legend()\n",
    "ax.set_ylabel(\"Cross Entropy\")\n",
    "ax.set_xlabel(\"Epoch\")"
   ]
  },
  {
   "cell_type": "code",
   "execution_count": null,
   "metadata": {},
   "outputs": [],
   "source": [
    "test_images_recon = embedder.inverse_transform(embedder.transform(test_images))\n",
    "\n",
    "nex = 10\n",
    "fig, axs = plt.subplots(ncols=10, nrows=2, figsize=(nex, 2))\n",
    "for i in range(nex):\n",
    "    axs[0, i].matshow(np.squeeze(test_images[i].reshape(28, 28, 1)), cmap=plt.cm.Greys)\n",
    "    axs[1, i].matshow(\n",
    "        tf.nn.sigmoid(np.squeeze(test_images_recon[i].reshape(28, 28, 1))),\n",
    "        cmap=plt.cm.Greys,\n",
    "    )\n",
    "for ax in axs.flatten():\n",
    "    ax.axis(\"off\")"
   ]
  },
  {
   "cell_type": "markdown",
   "metadata": {},
   "source": [
    "### Save/Load Model"
   ]
  },
  {
   "cell_type": "code",
   "execution_count": null,
   "metadata": {},
   "outputs": [],
   "source": [
    "from umap.parametric_umap import load_ParametricUMAP\n",
    "\n",
    "embedder.save(\"/tmp/model\")\n",
    "# embedder = load_ParametricUMAP('/tmp/model')"
   ]
  }
 ],
 "metadata": {
  "kernelspec": {
   "display_name": "thesis-work",
   "language": "python",
   "name": "python3"
  },
  "language_info": {
   "codemirror_mode": {
    "name": "ipython",
    "version": 3
   },
   "file_extension": ".py",
   "mimetype": "text/x-python",
   "name": "python",
   "nbconvert_exporter": "python",
   "pygments_lexer": "ipython3",
   "version": "3.10.12"
  },
  "orig_nbformat": 4
 },
 "nbformat": 4,
 "nbformat_minor": 2
}
