{
    "cells": [
        {
            "cell_type": "markdown",
            "metadata": {},
            "source": [
                "## From similarity matrix"
            ]
        },
        {
            "cell_type": "code",
            "execution_count": null,
            "metadata": {},
            "outputs": [],
            "source": [
                "import wandb\n",
                "\n",
                "if wandb.run is not None:\n",
                "    # Stop run\n",
                "    wandb.run.finish()\n",
                "    print(\"Finished run.\")"
            ]
        },
        {
            "cell_type": "code",
            "execution_count": null,
            "metadata": {},
            "outputs": [],
            "source": [
                "import numpy as np\n",
                "import igraph as ig\n",
                "import leidenalg\n",
                "import matplotlib.pyplot as plt\n",
                "\n",
                "# Generate some random data\n",
                "X = np.random.rand(100, 2)\n",
                "\n",
                "# Compute the similarity matrix\n",
                "similarity_matrix = np.exp(-np.sum((X[:, None, :] - X[None, :, :]) ** 2, axis=-1))\n",
                "\n",
                "# Convert the similarity matrix to an igraph.Graph object\n",
                "graph = ig.Graph.Weighted_Adjacency(similarity_matrix.tolist())\n",
                "\n",
                "# Cluster the graph using the Leiden algorithm\n",
                "partition = leidenalg.find_partition(graph, leidenalg.ModularityVertexPartition)\n",
                "\n",
                "# Get the cluster assignments\n",
                "clusters = partition.membership\n",
                "print(f\"Number of clusters: {len(set(partition.membership))}\")\n",
                "\n",
                "# Plot the data points with different colors for each cluster\n",
                "plt.scatter(X[:, 0], X[:, 1], c=clusters)\n",
                "plt.show()"
            ]
        },
        {
            "cell_type": "markdown",
            "metadata": {},
            "source": [
                "## With cuML - cugraph"
            ]
        },
        {
            "cell_type": "code",
            "execution_count": 6,
            "metadata": {},
            "outputs": [
                {
                    "ename": "TypeError",
                    "evalue": "Graph.from_cudf_adjlist() missing 1 required positional argument: 'index_col'",
                    "output_type": "error",
                    "traceback": [
                        "\u001b[0;31m---------------------------------------------------------------------------\u001b[0m",
                        "\u001b[0;31mTypeError\u001b[0m                                 Traceback (most recent call last)",
                        "Cell \u001b[0;32mIn[6], line 20\u001b[0m\n\u001b[1;32m     18\u001b[0m \u001b[39m# Create a cugraph Graph object from the distance DataFrame\u001b[39;00m\n\u001b[1;32m     19\u001b[0m graph \u001b[39m=\u001b[39m cugraph\u001b[39m.\u001b[39mGraph()\n\u001b[0;32m---> 20\u001b[0m graph\u001b[39m.\u001b[39;49mfrom_cudf_adjlist(distances_df)\n\u001b[1;32m     22\u001b[0m \u001b[39m# Perform graph clustering using the Leiden method\u001b[39;00m\n\u001b[1;32m     23\u001b[0m parts, modularity \u001b[39m=\u001b[39m cugraph\u001b[39m.\u001b[39mleiden(graph)\n",
                        "\u001b[0;31mTypeError\u001b[0m: Graph.from_cudf_adjlist() missing 1 required positional argument: 'index_col'"
                    ]
                }
            ],
            "source": [
                "import cudf\n",
                "import cugraph\n",
                "import numpy as np\n",
                "from scipy.spatial.distance import pdist, squareform\n",
                "\n",
                "# Create a sample NumPy array\n",
                "X = np.array([[0, 1], [1, 0], [2, 1], [1, 2], [3, 2], [2, 3]])\n",
                "\n",
                "# Compute the pairwise distances between the points using pdist\n",
                "distances = pdist(X)\n",
                "\n",
                "# Convert the pairwise distances to a distance matrix using squareform\n",
                "dist_matrix = squareform(distances)\n",
                "\n",
                "# Convert the distance matrix to a cuDF DataFrame\n",
                "distances_df = cudf.DataFrame(dist_matrix)\n",
                "\n",
                "# Create a cugraph Graph object from the distance DataFrame\n",
                "graph = cugraph.Graph()\n",
                "graph.from_cudf_adjlist(distances_df)\n",
                "\n",
                "# Perform graph clustering using the Leiden method\n",
                "parts, modularity = cugraph.leiden(graph)\n",
                "\n",
                "# Print the results\n",
                "print(\"Cluster assignments:\", parts)\n",
                "print(\"Modularity score:\", modularity)"
            ]
        },
        {
            "cell_type": "code",
            "execution_count": 4,
            "metadata": {},
            "outputs": [
                {
                    "ename": "AttributeError",
                    "evalue": "module 'cugraph' has no attribute 'pairwise_distances'",
                    "output_type": "error",
                    "traceback": [
                        "\u001b[0;31m---------------------------------------------------------------------------\u001b[0m",
                        "\u001b[0;31mAttributeError\u001b[0m                            Traceback (most recent call last)",
                        "Cell \u001b[0;32mIn[4], line 9\u001b[0m\n\u001b[1;32m      6\u001b[0m X \u001b[39m=\u001b[39m np\u001b[39m.\u001b[39marray([[\u001b[39m0\u001b[39m, \u001b[39m1\u001b[39m], [\u001b[39m1\u001b[39m, \u001b[39m0\u001b[39m], [\u001b[39m2\u001b[39m, \u001b[39m1\u001b[39m], [\u001b[39m1\u001b[39m, \u001b[39m2\u001b[39m], [\u001b[39m3\u001b[39m, \u001b[39m2\u001b[39m], [\u001b[39m2\u001b[39m, \u001b[39m3\u001b[39m]])\n\u001b[1;32m      8\u001b[0m \u001b[39m# Compute the pairwise distances between the points\u001b[39;00m\n\u001b[0;32m----> 9\u001b[0m distances \u001b[39m=\u001b[39m cugraph\u001b[39m.\u001b[39;49mpairwise_distances(cudf\u001b[39m.\u001b[39mDataFrame(X))\n\u001b[1;32m     11\u001b[0m \u001b[39m# Create a cugraph Graph object from the distance DataFrame\u001b[39;00m\n\u001b[1;32m     12\u001b[0m graph \u001b[39m=\u001b[39m cugraph\u001b[39m.\u001b[39mGraph()\n",
                        "\u001b[0;31mAttributeError\u001b[0m: module 'cugraph' has no attribute 'pairwise_distances'"
                    ]
                }
            ],
            "source": [
                "import cudf\n",
                "import cugraph\n",
                "import numpy as np\n",
                "\n",
                "# Create a sample NumPy array\n",
                "X = np.array([[0, 1], [1, 0], [2, 1], [1, 2], [3, 2], [2, 3]])\n",
                "\n",
                "# Compute the pairwise distances between the points\n",
                "distances = cugraph.pairwise_distances(cudf.DataFrame(X))\n",
                "\n",
                "# Create a cugraph Graph object from the distance DataFrame\n",
                "graph = cugraph.Graph()\n",
                "graph.from_cudf_adjlist(distances)\n",
                "\n",
                "# Perform graph clustering using the Leiden method\n",
                "parts, modularity = cugraph.leiden(graph)\n",
                "\n",
                "# Print the results\n",
                "print(\"Cluster assignments:\", parts)\n",
                "print(\"Modularity score:\", modularity)"
            ]
        },
        {
            "cell_type": "code",
            "execution_count": null,
            "metadata": {},
            "outputs": [],
            "source": [
                "import cugraph\n",
                "from cugraph.datasets import karate\n",
                "\n",
                "G = karate.get_graph(download=True)\n",
                "parts, modularity_score = cugraph.leiden(G)"
            ]
        },
        {
            "cell_type": "code",
            "execution_count": null,
            "metadata": {},
            "outputs": [],
            "source": [
                "import cudf\n",
                "import cugraph\n",
                "import numpy as np\n",
                "\n",
                "# Load the distance matrix into a NumPy array\n",
                "distances = np.load(\"distances.npy\")\n",
                "\n",
                "# Convert the distance matrix to a cuDF DataFrame\n",
                "distances_df = cudf.DataFrame(distances)\n",
                "\n",
                "# Create a cugraph Graph object from the distance DataFrame\n",
                "graph = cugraph.Graph()\n",
                "graph.from_cudf_adjlist(distances_df)\n",
                "\n",
                "# Perform graph clustering using the Louvain method\n",
                "parts, modularity = cugraph.louvain(graph)\n",
                "\n",
                "# Print the results\n",
                "print(\"Cluster assignments:\", parts)\n",
                "print(\"Modularity score:\", modularity)"
            ]
        },
        {
            "cell_type": "code",
            "execution_count": null,
            "metadata": {},
            "outputs": [],
            "source": [
                "import numpy as np\n",
                "import pandas as pd\n",
                "from typing import Optional\n",
                "\n",
                "\n",
                "def leiden(\n",
                "    adata: AnnData,\n",
                "    resolution: float = 1.0,\n",
                "    n_iterations: int = 100,\n",
                "    use_weights: bool = True,\n",
                "    neighbors_key: Optional[int] = None,\n",
                "    key_added: str = \"leiden\",\n",
                ") -> None:\n",
                "    \"\"\"\n",
                "    Performs Leiden Clustering using cuGraph\n",
                "\n",
                "    Parameters\n",
                "    ----------\n",
                "        adata :\n",
                "            annData object with 'neighbors' field.\n",
                "\n",
                "        resolution\n",
                "            A parameter value controlling the coarseness of the clustering.\n",
                "            Higher values lead to more clusters.\n",
                "\n",
                "        n_iterations\n",
                "            This controls the maximum number of levels/iterations of the Louvain algorithm.\n",
                "            When specified the algorithm will terminate after no more than the specified number of iterations.\n",
                "            No error occurs when the algorithm terminates early in this manner.\n",
                "\n",
                "        use_weights\n",
                "            If `True`, edge weights from the graph are used in the computation\n",
                "            (placing more emphasis on stronger edges).\n",
                "\n",
                "        neighbors_key\n",
                "            If not specified, `leiden` looks at `.obsp['connectivities']` for neighbors connectivities\n",
                "            If specified, `leiden` looks at `.obsp['neighbors_key_ connectivities']` for neighbors connectivities\n",
                "\n",
                "        key_added\n",
                "            `adata.obs` key under which to add the cluster labels.\n",
                "\n",
                "    \"\"\"\n",
                "    # Adjacency graph\n",
                "\n",
                "    if neighbors_key:\n",
                "        adjacency = adata.obsp[neighbors_key + \"_connectivities\"]\n",
                "    else:\n",
                "        adjacency = adata.obsp[\"connectivities\"]\n",
                "    offsets = cudf.Series(adjacency.indptr)\n",
                "    indices = cudf.Series(adjacency.indices)\n",
                "    if use_weights:\n",
                "        weights = cudf.Series(adjacency.data)\n",
                "    else:\n",
                "        weights = None\n",
                "\n",
                "    g = Graph()\n",
                "\n",
                "    g.from_cudf_adjlist(offsets, indices, weights)\n",
                "\n",
                "    # Cluster\n",
                "    leiden_parts, _ = culeiden(g, resolution=resolution, max_iter=n_iterations)\n",
                "\n",
                "    # Format output\n",
                "    groups = (\n",
                "        leiden_parts.to_pandas().sort_values(\"vertex\")[[\"partition\"]].to_numpy().ravel()\n",
                "    )\n",
                "\n",
                "    adata.obs[key_added] = pd.Categorical(\n",
                "        values=groups.astype(\"U\"),\n",
                "        categories=natsorted(map(str, np.unique(groups))),\n",
                "    )\n",
                "    # store information on the clustering parameters\n",
                "    adata.uns[\"leiden\"] = {}\n",
                "    adata.uns[\"leiden\"][\"params\"] = dict(\n",
                "        resolution=resolution,\n",
                "        n_iterations=n_iterations,\n",
                "    )"
            ]
        }
    ],
    "metadata": {
        "kernelspec": {
            "display_name": "thesis-work",
            "language": "python",
            "name": "python3"
        },
        "language_info": {
            "codemirror_mode": {
                "name": "ipython",
                "version": 3
            },
            "file_extension": ".py",
            "mimetype": "text/x-python",
            "name": "python",
            "nbconvert_exporter": "python",
            "pygments_lexer": "ipython3",
            "version": "3.10.12"
        },
        "orig_nbformat": 4
    },
    "nbformat": 4,
    "nbformat_minor": 2
}