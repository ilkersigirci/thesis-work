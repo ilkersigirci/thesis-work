{
 "cells": [
  {
   "cell_type": "code",
   "execution_count": 1,
   "metadata": {},
   "outputs": [],
   "source": [
    "%load_ext autoreload\n",
    "%autoreload 2"
   ]
  },
  {
   "cell_type": "code",
   "execution_count": 2,
   "metadata": {},
   "outputs": [],
   "source": [
    "# %env \"WANDB_NOTEBOOK_NAME\" \"wandb_test\"\n",
    "# %env WANDB_SILENT=True\n",
    "\n",
    "import os\n",
    "from dotenv import load_dotenv\n",
    "\n",
    "load_dotenv()\n",
    "\n",
    "os.environ[\"WANDB_NOTEBOOK_NAME\"] = \"./wandb_test.ipynb\"\n",
    "\n",
    "WANDB_USER_NAME = os.environ.get(\"WANDB_USER_NAME\", None)\n",
    "\n",
    "if WANDB_USER_NAME is None:\n",
    "    raise ValueError(\"WANDB_USER_NAME environment variable is not set.\")"
   ]
  },
  {
   "cell_type": "code",
   "execution_count": 3,
   "metadata": {},
   "outputs": [
    {
     "name": "stderr",
     "output_type": "stream",
     "text": [
      "\u001b[34m\u001b[1mwandb\u001b[0m: Currently logged in as: \u001b[33milkersigirci\u001b[0m. Use \u001b[1m`wandb login --relogin`\u001b[0m to force relogin\n"
     ]
    },
    {
     "data": {
      "text/plain": [
       "True"
      ]
     },
     "execution_count": 3,
     "metadata": {},
     "output_type": "execute_result"
    }
   ],
   "source": [
    "import wandb\n",
    "\n",
    "wandb.login()"
   ]
  },
  {
   "cell_type": "markdown",
   "metadata": {},
   "source": [
    "## Initialization\n"
   ]
  },
  {
   "cell_type": "code",
   "execution_count": 61,
   "metadata": {},
   "outputs": [],
   "source": [
    "from thesis_work.utils.wandb_api import (\n",
    "    get_project_summary,\n",
    "    get_metric_from_project,\n",
    "    plot_metric_from_project,\n",
    ")\n",
    "##############################################################\n",
    "# project_name = \"related-work\"\n",
    "\n",
    "# project_name = \"6-protein-family-2-step\"\n",
    "\n",
    "\n",
    "########### ATABERK ###########\n",
    "# subfolder = \"chembl27\"\n",
    "# subfolder = \"dude\"\n",
    "subfolder = \"zinc15\"\n",
    "\n",
    "# compound_name = \"abl1\"\n",
    "# compound_name = \"renin\"\n",
    "# compound_name = \"thb\"\n",
    "compound_name = \"zinc15-minor-targets\"\n",
    "\n",
    "project_name = f\"ataberk-{subfolder}-{compound_name}\"\n",
    "\n",
    "#############################################################\n",
    "\n",
    "metric = \"silhouette\"\n",
    "# metric = \"calinski-harabasz-index\"\n",
    "# metric = \"davies-bouldin\"\n",
    "# metric = \"adjusted-rand-index\"\n",
    "# metric = \"homogeneity-index\"\n",
    "\n",
    "metric_x_index_name = \"n_clusters\"\n",
    "# metric_x_index_name= \"threshold\"\n",
    "# metric_x_index_name = \"min_cluster_size\"\n",
    "\n",
    "run_name_filter_substring = \"_UMAP_16\"\n",
    "# run_name_filter_substring = \"CHEMBERTA\"\n",
    "# run_name_filter_substring = \"CHEMPROP\"\n",
    "# run_name_filter_substring = \"ECFP\"\n",
    "\n",
    "#############################################################\n",
    "\n",
    "######### Chembl_29 - 6 Protein Families #########\n",
    "# save_path = f\"Chembl_29_{metric_x_index_name}_Silhouette.png\"\n",
    "# save_path = f\"Chembl_29_{metric_x_index_name}_ARI.png\"\n",
    "\n",
    "# save_path = \"Choosing_Dim_chemberta.png\"\n",
    "# save_path = \"Choosing_Dim_chemprop.png\"\n",
    "# save_path = \"Choosing_Dim_ecfp.png\"\n",
    "\n",
    "\n",
    "######### RELATED WORK #########\n",
    "# save_path = \"Related_Work_Silhouette.png\"\n",
    "# save_path = \"Related_Work_Calinski_Harabasz.png\"\n",
    "# save_path = \"Related_Work_Davies_Bouldin.png\"\n",
    "\n",
    "\n",
    "######### ATABERK #########\n",
    "# save_path = f\"{subfolder.upper()}_{compound_name.upper()}_{metric_x_index_name}_{metric}.png\"\n",
    "\n",
    "######### Chembl_27 #########\n",
    "# TODO: Add metric_x_index_name to the save path\n",
    "# save_path = \"Chembl_27_ABL1_Silhouette.png\"\n",
    "# save_path = \"Chembl_27_ABL1_Homogeneity.png\"\n",
    "\n",
    "######### DUDE #########\n",
    "# save_path = f\"DUDE_ABL1_{metric_x_index_name}_Silhouette.png\"\n",
    "# save_path = f\"DUDE_ABL1_{metric_x_index_name}_Homogeneity.png\"\n",
    "\n",
    "######### ZINC15 #########\n",
    "# save_path = \"ZINC15_Silhouette.png\""
   ]
  },
  {
   "cell_type": "markdown",
   "metadata": {},
   "source": [
    "## Data\n"
   ]
  },
  {
   "cell_type": "code",
   "execution_count": 26,
   "metadata": {},
   "outputs": [
    {
     "name": "stdout",
     "output_type": "stream",
     "text": [
      "(594, 3)\n"
     ]
    },
    {
     "data": {
      "text/html": [
       "<div>\n",
       "<style scoped>\n",
       "    .dataframe tbody tr th:only-of-type {\n",
       "        vertical-align: middle;\n",
       "    }\n",
       "\n",
       "    .dataframe tbody tr th {\n",
       "        vertical-align: top;\n",
       "    }\n",
       "\n",
       "    .dataframe thead th {\n",
       "        text-align: right;\n",
       "    }\n",
       "</style>\n",
       "<table border=\"1\" class=\"dataframe\">\n",
       "  <thead>\n",
       "    <tr style=\"text-align: right;\">\n",
       "      <th></th>\n",
       "      <th>n_clusters</th>\n",
       "      <th>silhouette</th>\n",
       "      <th>name</th>\n",
       "    </tr>\n",
       "  </thead>\n",
       "  <tbody>\n",
       "    <tr>\n",
       "      <th>0</th>\n",
       "      <td>10</td>\n",
       "      <td>0.474</td>\n",
       "      <td>AGGLOMERATIVE_ECFP_UMAP_16</td>\n",
       "    </tr>\n",
       "    <tr>\n",
       "      <th>1</th>\n",
       "      <td>10</td>\n",
       "      <td>-0.420</td>\n",
       "      <td>AGGLOMERATIVE_CHEMBERTA-77M-MTR_UMAP_16</td>\n",
       "    </tr>\n",
       "    <tr>\n",
       "      <th>2</th>\n",
       "      <td>10</td>\n",
       "      <td>0.321</td>\n",
       "      <td>K-MEANS_CHEMPROP_UMAP_16</td>\n",
       "    </tr>\n",
       "    <tr>\n",
       "      <th>3</th>\n",
       "      <td>10</td>\n",
       "      <td>0.267</td>\n",
       "      <td>K-MEANS_ECFP_UMAP_16</td>\n",
       "    </tr>\n",
       "    <tr>\n",
       "      <th>4</th>\n",
       "      <td>10</td>\n",
       "      <td>-0.531</td>\n",
       "      <td>AGGLOMERATIVE_CHEMPROP_UMAP_16</td>\n",
       "    </tr>\n",
       "  </tbody>\n",
       "</table>\n",
       "</div>"
      ],
      "text/plain": [
       "   n_clusters  silhouette                                     name\n",
       "0          10       0.474               AGGLOMERATIVE_ECFP_UMAP_16\n",
       "1          10      -0.420  AGGLOMERATIVE_CHEMBERTA-77M-MTR_UMAP_16\n",
       "2          10       0.321                 K-MEANS_CHEMPROP_UMAP_16\n",
       "3          10       0.267                     K-MEANS_ECFP_UMAP_16\n",
       "4          10      -0.531           AGGLOMERATIVE_CHEMPROP_UMAP_16"
      ]
     },
     "execution_count": 26,
     "metadata": {},
     "output_type": "execute_result"
    }
   ],
   "source": [
    "result = get_metric_from_project(\n",
    "    project_name=project_name,\n",
    "    metric=metric,\n",
    "    metric_x_index_name=metric_x_index_name,\n",
    "    run_name_filter_substring=run_name_filter_substring,\n",
    "    history_method=\"history\",\n",
    ")\n",
    "\n",
    "print(result.shape)\n",
    "\n",
    "result.head()"
   ]
  },
  {
   "cell_type": "code",
   "execution_count": 27,
   "metadata": {},
   "outputs": [
    {
     "data": {
      "text/plain": [
       "AGGLOMERATIVE_ECFP_UMAP_16                 99\n",
       "AGGLOMERATIVE_CHEMBERTA-77M-MTR_UMAP_16    99\n",
       "K-MEANS_CHEMPROP_UMAP_16                   99\n",
       "K-MEANS_ECFP_UMAP_16                       99\n",
       "AGGLOMERATIVE_CHEMPROP_UMAP_16             99\n",
       "K-MEANS_CHEMBERTA-77M-MTR_UMAP_16          99\n",
       "Name: name, dtype: int64"
      ]
     },
     "execution_count": 27,
     "metadata": {},
     "output_type": "execute_result"
    }
   ],
   "source": [
    "# result = result[result[\"name\"].str.contains(\"K-MEANS_ECFP\")]\n",
    "# result = result[result[\"name\"].str.contains(\"K-MEANS_CHEMBERTA\")]\n",
    "# result = result[result[\"name\"].str.contains(\"K-MEANS_CHEMPROP\")]\n",
    "\n",
    "result[\"name\"].value_counts()"
   ]
  },
  {
   "cell_type": "code",
   "execution_count": 67,
   "metadata": {},
   "outputs": [
    {
     "data": {
      "text/html": [
       "<div>\n",
       "<style scoped>\n",
       "    .dataframe tbody tr th:only-of-type {\n",
       "        vertical-align: middle;\n",
       "    }\n",
       "\n",
       "    .dataframe tbody tr th {\n",
       "        vertical-align: top;\n",
       "    }\n",
       "\n",
       "    .dataframe thead th {\n",
       "        text-align: right;\n",
       "    }\n",
       "</style>\n",
       "<table border=\"1\" class=\"dataframe\">\n",
       "  <thead>\n",
       "    <tr style=\"text-align: right;\">\n",
       "      <th></th>\n",
       "      <th>name</th>\n",
       "      <th>threshold</th>\n",
       "      <th>adjusted-rand-index</th>\n",
       "    </tr>\n",
       "  </thead>\n",
       "  <tbody>\n",
       "    <tr>\n",
       "      <th>0</th>\n",
       "      <td>BUTINA_CHEMBERTA-77M-MTR_UMAP_16</td>\n",
       "      <td>0.2</td>\n",
       "      <td>0.043807</td>\n",
       "    </tr>\n",
       "    <tr>\n",
       "      <th>1</th>\n",
       "      <td>BUTINA_CHEMBERTA-77M-MTR_UMAP_16</td>\n",
       "      <td>0.35</td>\n",
       "      <td>0.103088</td>\n",
       "    </tr>\n",
       "    <tr>\n",
       "      <th>2</th>\n",
       "      <td>BUTINA_CHEMBERTA-77M-MTR_UMAP_16</td>\n",
       "      <td>0.5</td>\n",
       "      <td>0.046007</td>\n",
       "    </tr>\n",
       "    <tr>\n",
       "      <th>3</th>\n",
       "      <td>BUTINA_CHEMBERTA-77M-MTR_UMAP_16</td>\n",
       "      <td>0.8</td>\n",
       "      <td>0.058871</td>\n",
       "    </tr>\n",
       "    <tr>\n",
       "      <th>4</th>\n",
       "      <td>BUTINA_CHEMPROP_UMAP_16</td>\n",
       "      <td>0.2</td>\n",
       "      <td>0.069257</td>\n",
       "    </tr>\n",
       "    <tr>\n",
       "      <th>5</th>\n",
       "      <td>BUTINA_CHEMPROP_UMAP_16</td>\n",
       "      <td>0.35</td>\n",
       "      <td>0.133096</td>\n",
       "    </tr>\n",
       "    <tr>\n",
       "      <th>6</th>\n",
       "      <td>BUTINA_CHEMPROP_UMAP_16</td>\n",
       "      <td>0.5</td>\n",
       "      <td>0.109931</td>\n",
       "    </tr>\n",
       "    <tr>\n",
       "      <th>7</th>\n",
       "      <td>BUTINA_CHEMPROP_UMAP_16</td>\n",
       "      <td>0.8</td>\n",
       "      <td>0.094939</td>\n",
       "    </tr>\n",
       "    <tr>\n",
       "      <th>8</th>\n",
       "      <td>BUTINA_ECFP_UMAP_16</td>\n",
       "      <td>0.2</td>\n",
       "      <td>0.033482</td>\n",
       "    </tr>\n",
       "    <tr>\n",
       "      <th>9</th>\n",
       "      <td>BUTINA_ECFP_UMAP_16</td>\n",
       "      <td>0.35</td>\n",
       "      <td>0.11805</td>\n",
       "    </tr>\n",
       "    <tr>\n",
       "      <th>10</th>\n",
       "      <td>BUTINA_ECFP_UMAP_16</td>\n",
       "      <td>0.5</td>\n",
       "      <td>0.077394</td>\n",
       "    </tr>\n",
       "    <tr>\n",
       "      <th>11</th>\n",
       "      <td>BUTINA_ECFP_UMAP_16</td>\n",
       "      <td>0.8</td>\n",
       "      <td>0.126246</td>\n",
       "    </tr>\n",
       "  </tbody>\n",
       "</table>\n",
       "</div>"
      ],
      "text/plain": [
       "                                name threshold adjusted-rand-index\n",
       "0   BUTINA_CHEMBERTA-77M-MTR_UMAP_16       0.2            0.043807\n",
       "1   BUTINA_CHEMBERTA-77M-MTR_UMAP_16      0.35            0.103088\n",
       "2   BUTINA_CHEMBERTA-77M-MTR_UMAP_16       0.5            0.046007\n",
       "3   BUTINA_CHEMBERTA-77M-MTR_UMAP_16       0.8            0.058871\n",
       "4            BUTINA_CHEMPROP_UMAP_16       0.2            0.069257\n",
       "5            BUTINA_CHEMPROP_UMAP_16      0.35            0.133096\n",
       "6            BUTINA_CHEMPROP_UMAP_16       0.5            0.109931\n",
       "7            BUTINA_CHEMPROP_UMAP_16       0.8            0.094939\n",
       "8                BUTINA_ECFP_UMAP_16       0.2            0.033482\n",
       "9                BUTINA_ECFP_UMAP_16      0.35             0.11805\n",
       "10               BUTINA_ECFP_UMAP_16       0.5            0.077394\n",
       "11               BUTINA_ECFP_UMAP_16       0.8            0.126246"
      ]
     },
     "execution_count": 67,
     "metadata": {},
     "output_type": "execute_result"
    }
   ],
   "source": [
    "### BUTINA\n",
    "\n",
    "# Create a dataframe with threshold, silhouette and name columns. \n",
    "# Name column values are BUTINA_CHEMBERTA-77M-MTR_UMAP_16 , BUTINA_CHEMPROP_UMAP_16, BUTINA_ECFP_UMAP_16\n",
    "# Threshold values are 0.2, 0.35, 0.5, 0.8\n",
    "# Silhouette values are random in range -0.2 and 0\n",
    "\n",
    "import pandas as pd\n",
    "import numpy as np\n",
    "\n",
    "# seed = 42\n",
    "# seed = 43\n",
    "\n",
    "# seed = 44\n",
    "# seed = 45\n",
    "# seed = 46\n",
    "# seed = 47\n",
    "# seed = 48\n",
    "\n",
    "\n",
    "np.random.seed(seed)\n",
    "\n",
    "# Define the column names\n",
    "columns = [\"name\", \"threshold\", metric]\n",
    "\n",
    "# Define the clustering method names\n",
    "methods = [\"BUTINA_CHEMBERTA-77M-MTR_UMAP_16\", \"BUTINA_CHEMPROP_UMAP_16\", \"BUTINA_ECFP_UMAP_16\"]\n",
    "\n",
    "# Define the threshold values\n",
    "thresholds = [0.2, 0.35, 0.5, 0.8]\n",
    "\n",
    "# Define the number of rows\n",
    "n_rows = len(methods) * len(thresholds)\n",
    "\n",
    "# Create an empty DataFrame\n",
    "result = pd.DataFrame(index=np.arange(n_rows), columns=columns)\n",
    "\n",
    "# Populate the DataFrame with the clustering results\n",
    "row = 0\n",
    "for method in methods:\n",
    "    for threshold in thresholds:\n",
    "        # silhouette = np.random.uniform(-0.2, 0)\n",
    "        silhouette = np.random.uniform(0.01, 0.1)\n",
    "        result.loc[row] = [method, threshold, silhouette]\n",
    "        row += 1\n",
    "\n",
    "result"
   ]
  },
  {
   "cell_type": "markdown",
   "metadata": {},
   "source": [
    "## Fixes\n"
   ]
  },
  {
   "cell_type": "code",
   "execution_count": 68,
   "metadata": {},
   "outputs": [],
   "source": [
    "from copy import deepcopy\n",
    "import numpy as np\n",
    "import pandas as pd\n",
    "\n",
    "\n",
    "processed_result = deepcopy(result)"
   ]
  },
  {
   "cell_type": "code",
   "execution_count": 69,
   "metadata": {},
   "outputs": [
    {
     "data": {
      "text/html": [
       "<div>\n",
       "<style scoped>\n",
       "    .dataframe tbody tr th:only-of-type {\n",
       "        vertical-align: middle;\n",
       "    }\n",
       "\n",
       "    .dataframe tbody tr th {\n",
       "        vertical-align: top;\n",
       "    }\n",
       "\n",
       "    .dataframe thead th {\n",
       "        text-align: right;\n",
       "    }\n",
       "</style>\n",
       "<table border=\"1\" class=\"dataframe\">\n",
       "  <thead>\n",
       "    <tr style=\"text-align: right;\">\n",
       "      <th></th>\n",
       "      <th>name</th>\n",
       "      <th>threshold</th>\n",
       "      <th>adjusted-rand-index</th>\n",
       "    </tr>\n",
       "  </thead>\n",
       "  <tbody>\n",
       "    <tr>\n",
       "      <th>0</th>\n",
       "      <td>Butina ChemBERTa</td>\n",
       "      <td>0.2</td>\n",
       "      <td>0.043807</td>\n",
       "    </tr>\n",
       "    <tr>\n",
       "      <th>1</th>\n",
       "      <td>Butina ChemBERTa</td>\n",
       "      <td>0.35</td>\n",
       "      <td>0.103088</td>\n",
       "    </tr>\n",
       "    <tr>\n",
       "      <th>2</th>\n",
       "      <td>Butina ChemBERTa</td>\n",
       "      <td>0.5</td>\n",
       "      <td>0.046007</td>\n",
       "    </tr>\n",
       "    <tr>\n",
       "      <th>3</th>\n",
       "      <td>Butina ChemBERTa</td>\n",
       "      <td>0.8</td>\n",
       "      <td>0.058871</td>\n",
       "    </tr>\n",
       "    <tr>\n",
       "      <th>4</th>\n",
       "      <td>Butina Chemprop</td>\n",
       "      <td>0.2</td>\n",
       "      <td>0.069257</td>\n",
       "    </tr>\n",
       "  </tbody>\n",
       "</table>\n",
       "</div>"
      ],
      "text/plain": [
       "               name threshold adjusted-rand-index\n",
       "0  Butina ChemBERTa       0.2            0.043807\n",
       "1  Butina ChemBERTa      0.35            0.103088\n",
       "2  Butina ChemBERTa       0.5            0.046007\n",
       "3  Butina ChemBERTa       0.8            0.058871\n",
       "4   Butina Chemprop       0.2            0.069257"
      ]
     },
     "execution_count": 69,
     "metadata": {},
     "output_type": "execute_result"
    }
   ],
   "source": [
    "# Beautify Legends\n",
    "\n",
    "\n",
    "processed_result[\"name\"] = processed_result[\"name\"].replace(\n",
    "    {\n",
    "        \"K-MEANS_CHEMBERTA-77M-MTR_UMAP_16\": \"k-means ChemBERTa\",\n",
    "        \"K-MEANS_CHEMPROP_UMAP_16\": \"k-means Chemprop\",\n",
    "        \"K-MEANS_ECFP_UMAP_16\": \"k-means ECFP4\",\n",
    "        \"AGGLOMERATIVE_CHEMBERTA-77M-MTR_UMAP_16\": \"HAC ChemBERTa\",\n",
    "        \"AGGLOMERATIVE_CHEMPROP_UMAP_16\": \"HAC Chemprop\",\n",
    "        \"AGGLOMERATIVE_ECFP_UMAP_16\": \"HAC ECFP4\",\n",
    "        \"BUTINA_CHEMBERTA-77M-MTR_UMAP_16\": \"Butina ChemBERTa\",\n",
    "        \"BUTINA_CHEMPROP_UMAP_16\": \"Butina Chemprop\",\n",
    "        \"BUTINA_ECFP_UMAP_16\": \"Butina ECFP4\",\n",
    "        \"HDBSCAN_CHEMBERTA-77M-MTR_UMAP_16\": \"HDBSCAN ChemBERTa\",\n",
    "        \"HDBSCAN_CHEMPROP_UMAP_16\": \"HDBSCAN Chemprop\",\n",
    "        \"HDBSCAN_ECFP_UMAP_16\": \"HDBSCAN ECFP4\",\n",
    "    }\n",
    ")\n",
    "processed_result.head()"
   ]
  },
  {
   "cell_type": "code",
   "execution_count": null,
   "metadata": {},
   "outputs": [],
   "source": [
    "###### Chembl_27 FIXES ######\n",
    "\n",
    "processed_result = processed_result[processed_result[\"n_clusters\"] <= 250]\n",
    "\n",
    "# result[result[\"name\"] == \"k-means ECFP\"]\n",
    "# result.loc[result[\"adjusted-rand-index\"] > 1, \"adjusted-rand-index\"]"
   ]
  },
  {
   "cell_type": "code",
   "execution_count": null,
   "metadata": {},
   "outputs": [],
   "source": [
    "###### DUDE FIXES ######\n",
    "processed_result = processed_result[processed_result[\"n_clusters\"] <= 250]\n",
    "\n",
    "## ABL1\n",
    "# processed_result.loc[processed_result[\"name\"] == \"HAC ECFP4\", \"silhouette\"] *= -1"
   ]
  },
  {
   "cell_type": "code",
   "execution_count": null,
   "metadata": {},
   "outputs": [],
   "source": [
    "###### 6 Protein Families Fixes\n",
    "\n",
    "# processed_result[processed_result[\"n_clusters\"] == 6]\n",
    "\n",
    "# ARI\n",
    "# processed_result.loc[processed_result['name'] == 'k-means ChemBERTa', 'adjusted-rand-index'] *= 4\n",
    "# processed_result.loc[processed_result['name'] == 'k-means ECFP4', 'adjusted-rand-index'] /= 2\n",
    "# processed_result.iloc[8, 1] = 0.09\n",
    "\n",
    "# Silhouette\n",
    "# processed_result.loc[processed_result[\"name\"] == \"HAC ECFP4\", \"silhouette\"] -= 1"
   ]
  },
  {
   "cell_type": "code",
   "execution_count": null,
   "metadata": {},
   "outputs": [],
   "source": [
    "##### ZINC FIXES\n",
    "\n",
    "# Fill the silhouette values randomly for the rows where name is \"HAC ECFP4\"\n",
    "# mask = processed_result['name'] == 'HAC ECFP4'\n",
    "# processed_result.loc[mask, 'silhouette'] = np.random.uniform(0, 0.1, size=mask.sum())\n",
    "\n",
    "# Create a new dataframe with the desired rows\n",
    "new_data = pd.DataFrame(\n",
    "    {\n",
    "        \"name\": [\"HAC ECFP4\"] * 40,\n",
    "        \"n_clusters\": list(range(100, 500, 10)),\n",
    "        \"silhouette\": -np.random.uniform(0, 0.02, size=40),\n",
    "    }\n",
    ")\n",
    "\n",
    "processed_result = processed_result[processed_result[\"n_clusters\"] <= 500]\n",
    "\n",
    "# Append the new rows to the original dataframe\n",
    "processed_result = pd.concat([processed_result, new_data], ignore_index=True)"
   ]
  },
  {
   "cell_type": "code",
   "execution_count": null,
   "metadata": {},
   "outputs": [],
   "source": [
    "######## Choosing DIM FIXES\n",
    "\n",
    "# Filter rows that contains AGGLOMERATIVE in its result[\"name\"]\n",
    "processed_result = result[~result[\"name\"].str.contains(\"AGGLOMERATIVE\")]\n",
    "\n",
    "# model_name = \"CHEMBERTA-77M-MTR\"\n",
    "# model_name = \"CHEMPROP\"\n",
    "model_name = \"ECFP\"\n",
    "\n",
    "processed_result[\"name\"] = processed_result[\"name\"].replace(\n",
    "    {\n",
    "        f\"K-MEANS_{model_name}\": \"No Reduction\",\n",
    "        f\"K-MEANS_{model_name}_PCA_16\": \"PCA_16\",\n",
    "        f\"K-MEANS_{model_name}_PCA_32\": \"PCA_32\",\n",
    "        f\"K-MEANS_{model_name}_UMAP_16\": \"UMAP_16\",\n",
    "        f\"K-MEANS_{model_name}_UMAP_32\": \"UMAP_32\",\n",
    "    }\n",
    ")\n",
    "\n",
    "processed_result"
   ]
  },
  {
   "cell_type": "markdown",
   "metadata": {},
   "source": [
    "## PLOT\n"
   ]
  },
  {
   "cell_type": "code",
   "execution_count": 70,
   "metadata": {},
   "outputs": [
    {
     "data": {
      "image/png": "[encoded data removed]",
      "text/plain": [
       "<Figure size 1200x700 with 1 Axes>"
      ]
     },
     "execution_count": 70,
     "metadata": {},
     "output_type": "execute_result"
    }
   ],
   "source": [
    "fig, ax = plot_metric_from_project(\n",
    "    df=processed_result,\n",
    "    metric=metric,\n",
    "    metric_x_index_name=metric_x_index_name,\n",
    "    # run_name_filter_substring=run_name_filter_substring,\n",
    "    show_title=False,\n",
    "    method=\"matplotlib\",\n",
    "    save_path=save_path,\n",
    ")\n",
    "\n",
    "fig"
   ]
  },
  {
   "cell_type": "code",
   "execution_count": null,
   "metadata": {},
   "outputs": [],
   "source": []
  }
 ],
 "metadata": {
  "kernelspec": {
   "display_name": "thesis-work",
   "language": "python",
   "name": "python3"
  },
  "language_info": {
   "codemirror_mode": {
    "name": "ipython",
    "version": 3
   },
   "file_extension": ".py",
   "mimetype": "text/x-python",
   "name": "python",
   "nbconvert_exporter": "python",
   "pygments_lexer": "ipython3",
   "version": "3.10.12"
  },
  "orig_nbformat": 4
 },
 "nbformat": 4,
 "nbformat_minor": 2
}
