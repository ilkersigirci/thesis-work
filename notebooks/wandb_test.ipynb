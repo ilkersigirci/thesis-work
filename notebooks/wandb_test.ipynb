{
 "cells": [
  {
   "cell_type": "code",
   "execution_count": 1,
   "metadata": {},
   "outputs": [],
   "source": [
    "# %env \"WANDB_NOTEBOOK_NAME\" \"wandb_test\"\n",
    "# %env WANDB_SILENT=True\n",
    "\n",
    "import os\n",
    "\n",
    "os.environ[\"WANDB_NOTEBOOK_NAME\"] = \"./wandb_test.ipynb\""
   ]
  },
  {
   "cell_type": "code",
   "execution_count": 1,
   "metadata": {},
   "outputs": [
    {
     "name": "stderr",
     "output_type": "stream",
     "text": [
      "Failed to detect the name of this notebook, you can set it manually with the WANDB_NOTEBOOK_NAME environment variable to enable code saving.\n",
      "\u001b[34m\u001b[1mwandb\u001b[0m: Currently logged in as: \u001b[33milkersigirci\u001b[0m. Use \u001b[1m`wandb login --relogin`\u001b[0m to force relogin\n"
     ]
    },
    {
     "data": {
      "text/plain": [
       "True"
      ]
     },
     "execution_count": 1,
     "metadata": {},
     "output_type": "execute_result"
    }
   ],
   "source": [
    "import wandb\n",
    "\n",
    "wandb.login()"
   ]
  },
  {
   "cell_type": "code",
   "execution_count": 3,
   "metadata": {},
   "outputs": [
    {
     "data": {
      "text/html": [
       "wandb version 0.15.8 is available!  To upgrade, please run:\n",
       " $ pip install wandb --upgrade"
      ],
      "text/plain": [
       "<IPython.core.display.HTML object>"
      ]
     },
     "metadata": {},
     "output_type": "display_data"
    },
    {
     "data": {
      "text/html": [
       "Tracking run with wandb version 0.13.11"
      ],
      "text/plain": [
       "<IPython.core.display.HTML object>"
      ]
     },
     "metadata": {},
     "output_type": "display_data"
    },
    {
     "data": {
      "text/html": [
       "Run data is saved locally in <code>/home/ilker/Documents/MyRepos/thesis-work/notebooks/wandb/run-20230811_230815-gjqe0rlz</code>"
      ],
      "text/plain": [
       "<IPython.core.display.HTML object>"
      ]
     },
     "metadata": {},
     "output_type": "display_data"
    },
    {
     "data": {
      "text/html": [
       "Syncing run <strong><a href='https://wandb.ai/ilkersigirci/wandb-test-project_1/runs/gjqe0rlz' target=\"_blank\">swept-thunder-3</a></strong> to <a href='https://wandb.ai/ilkersigirci/wandb-test-project_1' target=\"_blank\">Weights & Biases</a> (<a href='https://wandb.me/run' target=\"_blank\">docs</a>)<br/>"
      ],
      "text/plain": [
       "<IPython.core.display.HTML object>"
      ]
     },
     "metadata": {},
     "output_type": "display_data"
    },
    {
     "data": {
      "text/html": [
       " View project at <a href='https://wandb.ai/ilkersigirci/wandb-test-project_1' target=\"_blank\">https://wandb.ai/ilkersigirci/wandb-test-project_1</a>"
      ],
      "text/plain": [
       "<IPython.core.display.HTML object>"
      ]
     },
     "metadata": {},
     "output_type": "display_data"
    },
    {
     "data": {
      "text/html": [
       " View run at <a href='https://wandb.ai/ilkersigirci/wandb-test-project_1/runs/gjqe0rlz' target=\"_blank\">https://wandb.ai/ilkersigirci/wandb-test-project_1/runs/gjqe0rlz</a>"
      ],
      "text/plain": [
       "<IPython.core.display.HTML object>"
      ]
     },
     "metadata": {},
     "output_type": "display_data"
    }
   ],
   "source": [
    "project_name = \"wandb-test-project_1\"\n",
    "\n",
    "\n",
    "run = wandb.init(\n",
    "    project=project_name,\n",
    "    config={\n",
    "        \"dim_reduction\": \"UMAP\",\n",
    "        \"reduced_dimension\": 2,\n",
    "        \"dataset\": \"OurMixed Dataset\",\n",
    "        \"dataset_size\": 1000,\n",
    "    },\n",
    "    # name=\"wandb-test-run_1\",\n",
    ")"
   ]
  },
  {
   "cell_type": "code",
   "execution_count": 6,
   "metadata": {},
   "outputs": [],
   "source": [
    "import time\n",
    "\n",
    "for ii in range(4):\n",
    "    wandb.log({\"acc\": 1 - 2**-ii, \"loss\": 2**-ii})\n",
    "    time.sleep(0.5)"
   ]
  },
  {
   "cell_type": "code",
   "execution_count": 5,
   "metadata": {},
   "outputs": [],
   "source": [
    "wandb.config.update({\"new_config\": 50})"
   ]
  },
  {
   "cell_type": "code",
   "execution_count": null,
   "metadata": {},
   "outputs": [],
   "source": [
    "# run.display(height=720)\n",
    "\n",
    "# %%wandb"
   ]
  },
  {
   "cell_type": "code",
   "execution_count": 7,
   "metadata": {},
   "outputs": [
    {
     "data": {
      "text/html": [
       "Waiting for W&B process to finish... <strong style=\"color:green\">(success).</strong>"
      ],
      "text/plain": [
       "<IPython.core.display.HTML object>"
      ]
     },
     "metadata": {},
     "output_type": "display_data"
    },
    {
     "data": {
      "application/vnd.jupyter.widget-view+json": {
       "model_id": "46b1762c6265461184e27ed58d179b90",
       "version_major": 2,
       "version_minor": 0
      },
      "text/plain": [
       "VBox(children=(Label(value='0.003 MB of 0.020 MB uploaded (0.000 MB deduped)\\r'), FloatProgress(value=0.139270…"
      ]
     },
     "metadata": {},
     "output_type": "display_data"
    },
    {
     "data": {
      "text/html": [
       "<style>\n",
       "    table.wandb td:nth-child(1) { padding: 0 10px; text-align: left ; width: auto;} td:nth-child(2) {text-align: left ; width: 100%}\n",
       "    .wandb-row { display: flex; flex-direction: row; flex-wrap: wrap; justify-content: flex-start; width: 100% }\n",
       "    .wandb-col { display: flex; flex-direction: column; flex-basis: 100%; flex: 1; padding: 10px; }\n",
       "    </style>\n",
       "<div class=\"wandb-row\"><div class=\"wandb-col\"><h3>Run history:</h3><br/><table class=\"wandb\"><tr><td>acc</td><td>▁▅▆▇███</td></tr><tr><td>loss</td><td>█▄▃▂▁▁▁</td></tr></table><br/></div><div class=\"wandb-col\"><h3>Run summary:</h3><br/><table class=\"wandb\"><tr><td>acc</td><td>0.98438</td></tr><tr><td>loss</td><td>0.01562</td></tr></table><br/></div></div>"
      ],
      "text/plain": [
       "<IPython.core.display.HTML object>"
      ]
     },
     "metadata": {},
     "output_type": "display_data"
    },
    {
     "data": {
      "text/html": [
       " View run <strong style=\"color:#cdcd00\">swept-thunder-3</strong> at: <a href='https://wandb.ai/ilkersigirci/wandb-test-project_1/runs/gjqe0rlz' target=\"_blank\">https://wandb.ai/ilkersigirci/wandb-test-project_1/runs/gjqe0rlz</a><br/>Synced 5 W&B file(s), 0 media file(s), 0 artifact file(s) and 0 other file(s)"
      ],
      "text/plain": [
       "<IPython.core.display.HTML object>"
      ]
     },
     "metadata": {},
     "output_type": "display_data"
    },
    {
     "data": {
      "text/html": [
       "Find logs at: <code>./wandb/run-20230811_230815-gjqe0rlz/logs</code>"
      ],
      "text/plain": [
       "<IPython.core.display.HTML object>"
      ]
     },
     "metadata": {},
     "output_type": "display_data"
    }
   ],
   "source": [
    "if wandb.run is not None:\n",
    "    wandb.finish()"
   ]
  },
  {
   "cell_type": "markdown",
   "metadata": {},
   "source": [
    "## Get data with api"
   ]
  },
  {
   "cell_type": "code",
   "execution_count": 9,
   "metadata": {},
   "outputs": [
    {
     "data": {
      "text/html": [
       "<div>\n",
       "<style scoped>\n",
       "    .dataframe tbody tr th:only-of-type {\n",
       "        vertical-align: middle;\n",
       "    }\n",
       "\n",
       "    .dataframe tbody tr th {\n",
       "        vertical-align: top;\n",
       "    }\n",
       "\n",
       "    .dataframe thead th {\n",
       "        text-align: right;\n",
       "    }\n",
       "</style>\n",
       "<table border=\"1\" class=\"dataframe\">\n",
       "  <thead>\n",
       "    <tr style=\"text-align: right;\">\n",
       "      <th></th>\n",
       "      <th>summary</th>\n",
       "      <th>config</th>\n",
       "      <th>name</th>\n",
       "    </tr>\n",
       "  </thead>\n",
       "  <tbody>\n",
       "    <tr>\n",
       "      <th>0</th>\n",
       "      <td>{'calinski-harabasz-index': 1284.0690417626374...</td>\n",
       "      <td>{'nBits': 2048, 'device': 'cuda', 'metric': 'j...</td>\n",
       "      <td>\\n        K-MEANS_\\n        ecfp\\n    _UMAP_16</td>\n",
       "    </tr>\n",
       "    <tr>\n",
       "      <th>1</th>\n",
       "      <td>{'davies-bouldin': 1.1197070679239831, 'Origin...</td>\n",
       "      <td>{'device': 'cuda', 'metric': 'euclidean', 'min...</td>\n",
       "      <td>\\n        HDBSCAN_\\n        ChemBERTa-77M-MTR\\...</td>\n",
       "    </tr>\n",
       "    <tr>\n",
       "      <th>2</th>\n",
       "      <td>{'_timestamp': 1692426619.974498, 'Original La...</td>\n",
       "      <td>{'nBits': 2048, 'device': 'cuda', 'metric': 'e...</td>\n",
       "      <td>\\n        K-MEANS_\\n        ecfp\\n    _UMAP_64</td>\n",
       "    </tr>\n",
       "    <tr>\n",
       "      <th>3</th>\n",
       "      <td>{'Original Labels': {'size': 114577, '_type': ...</td>\n",
       "      <td>{'nBits': 2048, 'device': 'cuda', 'metric': 'e...</td>\n",
       "      <td>\\n        K-MEANS_\\n        ecfp\\n    _UMAP_32</td>\n",
       "    </tr>\n",
       "    <tr>\n",
       "      <th>4</th>\n",
       "      <td>{'calinski-harabasz-index': 1425.5383243864278...</td>\n",
       "      <td>{'nBits': 2048, 'device': 'cuda', 'metric': 'e...</td>\n",
       "      <td>\\n        K-MEANS_\\n        ecfp\\n    _UMAP_16</td>\n",
       "    </tr>\n",
       "    <tr>\n",
       "      <th>5</th>\n",
       "      <td>{'_wandb': {'runtime': 85}, '_runtime': 87.204...</td>\n",
       "      <td>{'device': 'cuda', 'metric': 'euclidean', 'min...</td>\n",
       "      <td>\\n        K-MEANS_\\n        chemprop\\n    _UMA...</td>\n",
       "    </tr>\n",
       "    <tr>\n",
       "      <th>6</th>\n",
       "      <td>{'n_clusters': 95, 'silhouette': 0.36756744980...</td>\n",
       "      <td>{'device': 'cuda', 'metric': 'euclidean', 'min...</td>\n",
       "      <td>\\n        K-MEANS_\\n        ChemBERTa-77M-MTR\\...</td>\n",
       "    </tr>\n",
       "    <tr>\n",
       "      <th>7</th>\n",
       "      <td>{'_step': 94, '_wandb': {'runtime': 56}, 'iner...</td>\n",
       "      <td>{'device': 'cuda', 'metric': 'euclidean', 'min...</td>\n",
       "      <td>\\n        K-MEANS_\\n        ChemBERTa-77M-MTR\\...</td>\n",
       "    </tr>\n",
       "    <tr>\n",
       "      <th>8</th>\n",
       "      <td>{'_wandb': {'runtime': 56}, 'n_clusters': 95, ...</td>\n",
       "      <td>{'device': 'cuda', 'metric': 'euclidean', 'min...</td>\n",
       "      <td>\\n        K-MEANS_\\n        ChemBERTa-77M-MTR\\...</td>\n",
       "    </tr>\n",
       "  </tbody>\n",
       "</table>\n",
       "</div>"
      ],
      "text/plain": [
       "                                             summary  \\\n",
       "0  {'calinski-harabasz-index': 1284.0690417626374...   \n",
       "1  {'davies-bouldin': 1.1197070679239831, 'Origin...   \n",
       "2  {'_timestamp': 1692426619.974498, 'Original La...   \n",
       "3  {'Original Labels': {'size': 114577, '_type': ...   \n",
       "4  {'calinski-harabasz-index': 1425.5383243864278...   \n",
       "5  {'_wandb': {'runtime': 85}, '_runtime': 87.204...   \n",
       "6  {'n_clusters': 95, 'silhouette': 0.36756744980...   \n",
       "7  {'_step': 94, '_wandb': {'runtime': 56}, 'iner...   \n",
       "8  {'_wandb': {'runtime': 56}, 'n_clusters': 95, ...   \n",
       "\n",
       "                                              config  \\\n",
       "0  {'nBits': 2048, 'device': 'cuda', 'metric': 'j...   \n",
       "1  {'device': 'cuda', 'metric': 'euclidean', 'min...   \n",
       "2  {'nBits': 2048, 'device': 'cuda', 'metric': 'e...   \n",
       "3  {'nBits': 2048, 'device': 'cuda', 'metric': 'e...   \n",
       "4  {'nBits': 2048, 'device': 'cuda', 'metric': 'e...   \n",
       "5  {'device': 'cuda', 'metric': 'euclidean', 'min...   \n",
       "6  {'device': 'cuda', 'metric': 'euclidean', 'min...   \n",
       "7  {'device': 'cuda', 'metric': 'euclidean', 'min...   \n",
       "8  {'device': 'cuda', 'metric': 'euclidean', 'min...   \n",
       "\n",
       "                                                name  \n",
       "0     \\n        K-MEANS_\\n        ecfp\\n    _UMAP_16  \n",
       "1  \\n        HDBSCAN_\\n        ChemBERTa-77M-MTR\\...  \n",
       "2     \\n        K-MEANS_\\n        ecfp\\n    _UMAP_64  \n",
       "3     \\n        K-MEANS_\\n        ecfp\\n    _UMAP_32  \n",
       "4     \\n        K-MEANS_\\n        ecfp\\n    _UMAP_16  \n",
       "5  \\n        K-MEANS_\\n        chemprop\\n    _UMA...  \n",
       "6  \\n        K-MEANS_\\n        ChemBERTa-77M-MTR\\...  \n",
       "7  \\n        K-MEANS_\\n        ChemBERTa-77M-MTR\\...  \n",
       "8  \\n        K-MEANS_\\n        ChemBERTa-77M-MTR\\...  "
      ]
     },
     "execution_count": 9,
     "metadata": {},
     "output_type": "execute_result"
    }
   ],
   "source": [
    "import pandas as pd\n",
    "import wandb\n",
    "\n",
    "api = wandb.Api()\n",
    "entity, project = \"ilkersigirci\", \"related-work\"\n",
    "runs = api.runs(entity + \"/\" + project)\n",
    "\n",
    "summary_list, config_list, name_list = [], [], []\n",
    "for run in runs:\n",
    "    # .summary contains output keys/values for\n",
    "    # metrics such as accuracy.\n",
    "    #  We call ._json_dict to omit large files\n",
    "    summary_list.append(run.summary._json_dict)\n",
    "\n",
    "    # .config contains the hyperparameters.\n",
    "    #  We remove special values that start with _.\n",
    "    config_list.append({k: v for k, v in run.config.items() if not k.startswith(\"_\")})\n",
    "\n",
    "    # .name is the human-readable name of the run.\n",
    "    name_list.append(run.name)\n",
    "\n",
    "runs_df = pd.DataFrame(\n",
    "    {\"summary\": summary_list, \"config\": config_list, \"name\": name_list}\n",
    ")\n",
    "\n",
    "runs_df"
   ]
  }
 ],
 "metadata": {
  "kernelspec": {
   "display_name": "thesis-work",
   "language": "python",
   "name": "python3"
  },
  "language_info": {
   "codemirror_mode": {
    "name": "ipython",
    "version": 3
   },
   "file_extension": ".py",
   "mimetype": "text/x-python",
   "name": "python",
   "nbconvert_exporter": "python",
   "pygments_lexer": "ipython3",
   "version": "3.10.12"
  },
  "orig_nbformat": 4
 },
 "nbformat": 4,
 "nbformat_minor": 2
}
