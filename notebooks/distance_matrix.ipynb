{
 "cells": [
  {
   "cell_type": "markdown",
   "metadata": {},
   "source": [
    "# pdist vs pairwise_distances"
   ]
  },
  {
   "cell_type": "code",
   "execution_count": 11,
   "metadata": {},
   "outputs": [
    {
     "name": "stdout",
     "output_type": "stream",
     "text": [
      "Square distances (pdist):\n",
      "[[0.         0.52084027 1.10653194 0.03936829 0.64664006]\n",
      " [0.52084027 0.         0.69551554 0.50929445 0.12581602]\n",
      " [1.10653194 0.69551554 0.         1.11368655 0.61952833]\n",
      " [0.03936829 0.50929445 1.11368655 0.         0.63495678]\n",
      " [0.64664006 0.12581602 0.61952833 0.63495678 0.        ]]\n",
      "Square distances (pairwise_distances):\n",
      "[[0.         0.52084027 1.10653194 0.03936829 0.64664006]\n",
      " [0.52084027 0.         0.69551554 0.50929445 0.12581602]\n",
      " [1.10653194 0.69551554 0.         1.11368655 0.61952833]\n",
      " [0.03936829 0.50929445 1.11368655 0.         0.63495678]\n",
      " [0.64664006 0.12581602 0.61952833 0.63495678 0.        ]]\n"
     ]
    }
   ],
   "source": [
    "import numpy as np\n",
    "from scipy.spatial.distance import pdist, squareform\n",
    "from sklearn.metrics.pairwise import pairwise_distances\n",
    "\n",
    "# Generate a random set of points\n",
    "points = np.random.rand(5, 2)\n",
    "\n",
    "# Calculate the pairwise distances using pdist\n",
    "condensed_distances = pdist(points)\n",
    "square_distances = squareform(condensed_distances)\n",
    "\n",
    "# Calculate the pairwise distances using pairwise_distances\n",
    "square_distances_sklearn = pairwise_distances(points)\n",
    "\n",
    "print(\"Square distances (pdist):\")\n",
    "print(square_distances)\n",
    "\n",
    "print(\"Square distances (pairwise_distances):\")\n",
    "print(square_distances_sklearn)"
   ]
  },
  {
   "cell_type": "markdown",
   "metadata": {},
   "source": [
    "## TANIMOTO VS JACCARD"
   ]
  },
  {
   "cell_type": "code",
   "execution_count": 2,
   "metadata": {},
   "outputs": [],
   "source": [
    "import pandas as pd\n",
    "import numpy as np\n",
    "\n",
    "from thesis_work.clustering.utils import (\n",
    "    efcp_distance_matrix,\n",
    "    generic_distance_matrix,\n",
    ")\n",
    "from thesis_work.utils.utils import get_ecfp_descriptors"
   ]
  },
  {
   "cell_type": "code",
   "execution_count": 3,
   "metadata": {},
   "outputs": [],
   "source": [
    "smiles_compounds = [\n",
    "    \"O=C(Cc1cccc2ccccc12)Nc1n[nH]c2ccc(N3CCCS3(=O)=O)cc12\",\n",
    "    \"COC(=O)NC[C@@H](NC(=O)c1ccc(-c2nc(C3CCOCC3)cnc2N)cc1F)c1cccc(Br)c1\",\n",
    "    \"COc1ccccc1Nc1cc(Oc2cc(C)c(C)nc2-c2ccccn2)ccn1\",\n",
    "    \"O=C(/C=C/CN1CCCC1)N1CCOc2cc3ncnc(Nc4ccc(F)c(Cl)c4)c3cc21\",\n",
    "    \"O=C(Nc1cccc(Nc2cc3c(=O)[nH][nH]c(=O)c3cc2Cl)c1)c1cccc(Cl)c1\",\n",
    "    \"Cc1cc(CNc2nc(Nc3cc(C4CC4)[nH]n3)cc(NC3CC4CCC(C3)N4C)n2)on1\",\n",
    "    \"Cc1cc(-c2cc(O)ccc2Cl)cc2nnc(Nc3ccc(S(N)(=O)=O)cc3)nc12\",\n",
    "    \"NS(=O)(=O)c1cccc(N/C=C2\\C(=O)Nc3ccccc32)c1\",\n",
    "    \"CC(=O)Nc1ccc2cnn(-c3cc(NC4CC4)n4ncc(C#N)c4n3)c2c1\",\n",
    "    \"CS(=O)(=O)c1cccc(Nc2nccc(N(CC#N)c3c(Cl)ccc4c3OCO4)n2)c1\",\n",
    "    \"Cc1cnc(-c2ccnc(C(C)(C)O)n2)cc1-n1c(C)cc(OCc2ccc(F)cc2F)c(Cl)c1=O\",\n",
    "    \"Cc1ccc(C(=O)Nc2cc(C(F)(F)F)ccn2)cc1/C=C/n1cnc2cncnc21\",\n",
    "    \"CNC(=O)c1cnn2ccc(N3C[C@@H](O)C[C@@H]3c3cccc(F)c3)nc12\",\n",
    "    \"COc1cc2c(cc1OC1CCOC1)Cc1c-2n[nH]c1-c1ccc(C#N)cc1\",\n",
    "]\n",
    "\n",
    "smiles_series = pd.Series(smiles_compounds)"
   ]
  },
  {
   "cell_type": "code",
   "execution_count": 4,
   "metadata": {},
   "outputs": [
    {
     "data": {
      "text/plain": [
       "[<rdkit.DataStructs.cDataStructs.ExplicitBitVect at 0x7f2e20c39000>,\n",
       " <rdkit.DataStructs.cDataStructs.ExplicitBitVect at 0x7f2e20c39070>,\n",
       " <rdkit.DataStructs.cDataStructs.ExplicitBitVect at 0x7f2e20c390e0>,\n",
       " <rdkit.DataStructs.cDataStructs.ExplicitBitVect at 0x7f2e20c39150>,\n",
       " <rdkit.DataStructs.cDataStructs.ExplicitBitVect at 0x7f2e20c391c0>,\n",
       " <rdkit.DataStructs.cDataStructs.ExplicitBitVect at 0x7f2e20c39230>,\n",
       " <rdkit.DataStructs.cDataStructs.ExplicitBitVect at 0x7f2e20c392a0>,\n",
       " <rdkit.DataStructs.cDataStructs.ExplicitBitVect at 0x7f2e20c39310>,\n",
       " <rdkit.DataStructs.cDataStructs.ExplicitBitVect at 0x7f2e20c39380>,\n",
       " <rdkit.DataStructs.cDataStructs.ExplicitBitVect at 0x7f2e20c393f0>,\n",
       " <rdkit.DataStructs.cDataStructs.ExplicitBitVect at 0x7f2e20c39460>,\n",
       " <rdkit.DataStructs.cDataStructs.ExplicitBitVect at 0x7f2e20c394d0>,\n",
       " <rdkit.DataStructs.cDataStructs.ExplicitBitVect at 0x7f2e20c39540>,\n",
       " <rdkit.DataStructs.cDataStructs.ExplicitBitVect at 0x7f2e20c395b0>]"
      ]
     },
     "execution_count": 4,
     "metadata": {},
     "output_type": "execute_result"
    }
   ],
   "source": [
    "return_type = \"original\"  # BUTINA\n",
    "# return_type = \"numpy\" # OTHERS\n",
    "\n",
    "vector_embeddings = get_ecfp_descriptors(\n",
    "    smiles_series=smiles_series,\n",
    "    radius=2,\n",
    "    nBits=2048,\n",
    "    inner_return_type=return_type,\n",
    ")\n",
    "\n",
    "vector_embeddings"
   ]
  },
  {
   "cell_type": "code",
   "execution_count": 5,
   "metadata": {},
   "outputs": [
    {
     "data": {
      "text/plain": [
       "array([0.87826087, 0.90721649, 0.87155963, 0.85046729, 0.85245902,\n",
       "       0.91666667, 0.85057471, 0.89622642, 0.89411765, 0.81914894,\n",
       "       0.87254902, 0.87179487, 0.8877551 , 0.9137931 , 0.93814433,\n",
       "       0.90909091, 0.88392857, 0.87912088, 0.83333333, 0.85714286,\n",
       "       0.9009901 , 0.88505747, 0.90384615, 0.91666667, 0.90909091,\n",
       "       0.83561644, 0.94736842, 0.79220779, 0.87      , 0.86956522,\n",
       "       0.90816327, 0.88288288, 0.87777778, 0.87378641, 0.87628866,\n",
       "       0.8988764 , 0.85849057, 0.85950413, 0.87254902, 0.83185841,\n",
       "       0.82795699, 0.89285714, 0.79381443, 0.82222222, 0.85981308,\n",
       "       0.88888889, 0.85833333, 0.83673469, 0.84070796, 0.90909091,\n",
       "       0.91150442, 0.8627451 , 0.93939394, 0.9       , 0.86842105,\n",
       "       0.8952381 , 0.88235294, 0.84210526, 0.84545455, 0.83146067,\n",
       "       0.90825688, 0.85714286, 0.90217391, 0.85294118, 0.88392857,\n",
       "       0.8411215 , 0.85858586, 0.80733945, 0.88541667, 0.87272727,\n",
       "       0.87777778, 0.8952381 , 0.8989899 , 0.8988764 , 0.8       ,\n",
       "       0.89090909, 0.85849057, 0.85294118, 0.89320388, 0.84070796,\n",
       "       0.85106383, 0.92241379, 0.94845361, 0.86407767, 0.92156863,\n",
       "       0.92391304, 0.86138614, 0.90178571, 0.92982456, 0.94642857,\n",
       "       0.91509434])"
      ]
     },
     "execution_count": 5,
     "metadata": {},
     "output_type": "execute_result"
    }
   ],
   "source": [
    "distance_matrix_rdkit = efcp_distance_matrix(\n",
    "    ecfps=vector_embeddings, method=\"fast\", return_upper_tringular=True\n",
    ")\n",
    "\n",
    "distance_matrix_rdkit"
   ]
  },
  {
   "cell_type": "code",
   "execution_count": 4,
   "metadata": {},
   "outputs": [
    {
     "data": {
      "text/plain": [
       "array([[0., 0., 0., ..., 0., 0., 0.],\n",
       "       [0., 1., 0., ..., 0., 0., 0.],\n",
       "       [0., 0., 0., ..., 0., 0., 0.],\n",
       "       ...,\n",
       "       [0., 0., 0., ..., 0., 0., 0.],\n",
       "       [0., 0., 0., ..., 0., 0., 0.],\n",
       "       [0., 0., 0., ..., 0., 0., 0.]], dtype=float32)"
      ]
     },
     "execution_count": 4,
     "metadata": {},
     "output_type": "execute_result"
    }
   ],
   "source": [
    "# return_type = \"original\" # BUTINA\n",
    "return_type = \"numpy\"  # OTHERS\n",
    "\n",
    "vector_embeddings_numpy = get_ecfp_descriptors(\n",
    "    smiles_series=smiles_series,\n",
    "    radius=2,\n",
    "    nBits=2048,\n",
    "    inner_return_type=return_type,\n",
    ")\n",
    "\n",
    "vector_embeddings_numpy"
   ]
  },
  {
   "cell_type": "code",
   "execution_count": 5,
   "metadata": {},
   "outputs": [
    {
     "data": {
      "text/plain": [
       "array([0.87826087, 0.90721649, 0.85046729, 0.85057471, 0.87254902,\n",
       "       0.90909091, 0.88505747, 0.87      , 0.85849057, 0.88888889,\n",
       "       0.8952381 , 0.85858586, 0.89320388, 0.87155963, 0.85245902,\n",
       "       0.89622642, 0.87179487, 0.88392857, 0.90384615, 0.86956522,\n",
       "       0.85950413, 0.85833333, 0.88235294, 0.80733945, 0.84070796,\n",
       "       0.91666667, 0.89411765, 0.8877551 , 0.87912088, 0.91666667,\n",
       "       0.90816327, 0.87254902, 0.83673469, 0.84210526, 0.88541667,\n",
       "       0.85106383, 0.81914894, 0.9137931 , 0.83333333, 0.90909091,\n",
       "       0.88288288, 0.83185841, 0.84070796, 0.84545455, 0.87272727,\n",
       "       0.92241379, 0.93814433, 0.85714286, 0.83561644, 0.87777778,\n",
       "       0.82795699, 0.90909091, 0.83146067, 0.87777778, 0.94845361,\n",
       "       0.9009901 , 0.94736842, 0.87378641, 0.89285714, 0.91150442,\n",
       "       0.90825688, 0.8952381 , 0.86407767, 0.79220779, 0.87628866,\n",
       "       0.79381443, 0.8627451 , 0.85714286, 0.8989899 , 0.92156863,\n",
       "       0.8988764 , 0.82222222, 0.93939394, 0.90217391, 0.8988764 ,\n",
       "       0.92391304, 0.85981308, 0.9       , 0.85294118, 0.8       ,\n",
       "       0.86138614, 0.86842105, 0.88392857, 0.89090909, 0.90178571,\n",
       "       0.8411215 , 0.85849057, 0.92982456, 0.85294118, 0.94642857,\n",
       "       0.91509434])"
      ]
     },
     "execution_count": 5,
     "metadata": {},
     "output_type": "execute_result"
    }
   ],
   "source": [
    "distance_matrix_sklearn = generic_distance_matrix(\n",
    "    x=vector_embeddings_numpy, metric=\"jaccard\", return_upper_tringular=True\n",
    ")\n",
    "\n",
    "distance_matrix_sklearn"
   ]
  },
  {
   "cell_type": "code",
   "execution_count": 11,
   "metadata": {},
   "outputs": [
    {
     "data": {
      "text/plain": [
       "False"
      ]
     },
     "execution_count": 11,
     "metadata": {},
     "output_type": "execute_result"
    }
   ],
   "source": [
    "distance_matrix_sklearn == distance_matrix_rdkit\n",
    "\n",
    "np.allclose(distance_matrix_sklearn, distance_matrix_rdkit)"
   ]
  }
 ],
 "metadata": {
  "kernelspec": {
   "display_name": "thesis-work",
   "language": "python",
   "name": "python3"
  },
  "language_info": {
   "codemirror_mode": {
    "name": "ipython",
    "version": 3
   },
   "file_extension": ".py",
   "mimetype": "text/x-python",
   "name": "python",
   "nbconvert_exporter": "python",
   "pygments_lexer": "ipython3",
   "version": "3.10.12"
  },
  "orig_nbformat": 4
 },
 "nbformat": 4,
 "nbformat_minor": 2
}
