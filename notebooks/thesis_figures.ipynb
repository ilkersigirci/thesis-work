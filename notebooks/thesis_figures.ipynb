{
 "cells": [
  {
   "cell_type": "code",
   "execution_count": null,
   "metadata": {},
   "outputs": [],
   "source": [
    "%load_ext autoreload\n",
    "%autoreload 2"
   ]
  },
  {
   "cell_type": "code",
   "execution_count": null,
   "metadata": {},
   "outputs": [],
   "source": [
    "# %env \"WANDB_NOTEBOOK_NAME\" \"wandb_test\"\n",
    "# %env WANDB_SILENT=True\n",
    "\n",
    "import os\n",
    "from dotenv import load_dotenv\n",
    "\n",
    "load_dotenv()\n",
    "\n",
    "os.environ[\"WANDB_NOTEBOOK_NAME\"] = \"./wandb_test.ipynb\"\n",
    "\n",
    "WANDB_USER_NAME = os.environ.get(\"WANDB_USER_NAME\", None)\n",
    "\n",
    "if WANDB_USER_NAME is None:\n",
    "    raise ValueError(\"WANDB_USER_NAME environment variable is not set.\")"
   ]
  },
  {
   "cell_type": "code",
   "execution_count": null,
   "metadata": {},
   "outputs": [],
   "source": [
    "import wandb\n",
    "\n",
    "wandb.login()"
   ]
  },
  {
   "cell_type": "markdown",
   "metadata": {},
   "source": [
    "## Initialization\n"
   ]
  },
  {
   "cell_type": "code",
   "execution_count": null,
   "metadata": {},
   "outputs": [],
   "source": [
    "from thesis_work.utils.wandb_api import (\n",
    "    get_project_summary,\n",
    "    get_metric_from_project,\n",
    "    plot_metric_from_project,\n",
    ")\n",
    "\n",
    "# project_name = \"related-work\"\n",
    "\n",
    "project_name = \"6-protein-family-2-step\"\n",
    "\n",
    "# project_name = \"ataberk-zinc15-zinc15-minor-targets\"\n",
    "\n",
    "# project_name = \"ataberk-chembl27-abl1\"\n",
    "# project_name = \"ataberk-chembl27-renin\"\n",
    "# project_name = \"ataberk-chembl27-thb\"\n",
    "\n",
    "# project_name = \"ataberk-dude-abl1\"\n",
    "# project_name = \"ataberk-dude-renin\"\n",
    "# project_name = \"ataberk-dude-thb\"\n",
    "\n",
    "#############################################################\n",
    "\n",
    "metric = \"silhouette\"\n",
    "# metric = \"calinski-harabasz-index\"\n",
    "# metric = \"davies-bouldin\"\n",
    "# metric = \"adjusted-rand-index\"\n",
    "# metric = \"homogeneity-index\"\n",
    "\n",
    "metric_x_index_name = \"n_clusters\"\n",
    "# metric_x_index_name= \"threshold\"\n",
    "\n",
    "# run_name_filter_substring = \"_UMAP_16\"\n",
    "# run_name_filter_substring = \"CHEMBERTA\"\n",
    "# run_name_filter_substring = \"CHEMPROP\"\n",
    "run_name_filter_substring = \"ECFP\"\n",
    "\n",
    "#############################################################\n",
    "\n",
    "######### Chembl_27 #########\n",
    "# save_path = \"Chembl_27_ABL1_Silhouette.png\"\n",
    "# save_path = \"Chembl_27_ABL1_Homogeneity.png\"\n",
    "# save_path = \"Chembl_27_Renin_Silhouette.png\"\n",
    "# save_path = \"Chembl_27_Renin_Homogeneity.png\"\n",
    "# save_path = \"Chembl_27_THB_Silhouette.png\"\n",
    "# save_path = \"Chembl_27_THB_Homogeneity.png\"\n",
    "\n",
    "######### DUDE #########\n",
    "# save_path = \"DUDE_ABL1_Silhouette.png\"\n",
    "# save_path = \"DUDE_ABL1_Homogeneity.png\"\n",
    "\n",
    "######### Chembl_29 - 6 Protein Families #########\n",
    "# save_path = \"Chembl_29_Silhouette.png\"\n",
    "# save_path = \"Chembl_29_ARI.png\"\n",
    "\n",
    "# save_path = \"Choosing_Dim_chemberta.png\"\n",
    "# save_path = \"Choosing_Dim_chemprop.png\"\n",
    "save_path = \"Choosing_Dim_ecfp.png\"\n",
    "\n",
    "\n",
    "######### RELATED WORK #########\n",
    "# save_path = \"Related_Work_Silhouette.png\"\n",
    "# save_path = \"Related_Work_Calinski_Harabasz.png\"\n",
    "# save_path = \"Related_Work_Davies_Bouldin.png\"\n",
    "\n",
    "######### ZINC15 #########\n",
    "# save_path = \"ZINC15_Silhouette.png\""
   ]
  },
  {
   "cell_type": "markdown",
   "metadata": {},
   "source": [
    "## Data\n"
   ]
  },
  {
   "cell_type": "code",
   "execution_count": null,
   "metadata": {},
   "outputs": [],
   "source": [
    "result = get_metric_from_project(\n",
    "    project_name=project_name,\n",
    "    metric=metric,\n",
    "    metric_x_index_name=metric_x_index_name,\n",
    "    run_name_filter_substring=run_name_filter_substring,\n",
    "    history_method=\"history\",\n",
    ")\n",
    "\n",
    "print(result.shape)\n",
    "\n",
    "result.head()"
   ]
  },
  {
   "cell_type": "code",
   "execution_count": null,
   "metadata": {},
   "outputs": [],
   "source": [
    "# result = result[result[\"name\"].str.contains(\"K-MEANS_ECFP\")]\n",
    "# result = result[result[\"name\"].str.contains(\"K-MEANS_CHEMBERTA\")]\n",
    "# result = result[result[\"name\"].str.contains(\"K-MEANS_CHEMPROP\")]\n",
    "\n",
    "result[\"name\"].value_counts()"
   ]
  },
  {
   "cell_type": "markdown",
   "metadata": {},
   "source": [
    "## Fixes\n"
   ]
  },
  {
   "cell_type": "code",
   "execution_count": null,
   "metadata": {},
   "outputs": [],
   "source": [
    "from copy import deepcopy\n",
    "import numpy as np\n",
    "import pandas as pd\n",
    "\n",
    "\n",
    "processed_result = deepcopy(result)"
   ]
  },
  {
   "cell_type": "code",
   "execution_count": null,
   "metadata": {},
   "outputs": [],
   "source": [
    "# Beautify Legends\n",
    "\n",
    "\n",
    "processed_result[\"name\"] = processed_result[\"name\"].replace(\n",
    "    {\n",
    "        \"K-MEANS_CHEMBERTA-77M-MTR_UMAP_16\": \"k-means ChemBERTa\",\n",
    "        \"K-MEANS_CHEMPROP_UMAP_16\": \"k-means Chemprop\",\n",
    "        \"K-MEANS_ECFP_UMAP_16\": \"k-means ECFP4\",\n",
    "        \"AGGLOMERATIVE_CHEMBERTA-77M-MTR_UMAP_16\": \"HAC ChemBERTa\",\n",
    "        \"AGGLOMERATIVE_CHEMPROP_UMAP_16\": \"HAC Chemprop\",\n",
    "        \"AGGLOMERATIVE_ECFP_UMAP_16\": \"HAC ECFP4\",\n",
    "    }\n",
    ")\n",
    "processed_result"
   ]
  },
  {
   "cell_type": "code",
   "execution_count": null,
   "metadata": {},
   "outputs": [],
   "source": [
    "###### Chembl_27 FIXES ######\n",
    "\n",
    "processed_result = processed_result[processed_result[\"n_clusters\"] <= 250]\n",
    "\n",
    "# result[result[\"name\"] == \"k-means ECFP\"]\n",
    "# result.loc[result[\"adjusted-rand-index\"] > 1, \"adjusted-rand-index\"]"
   ]
  },
  {
   "cell_type": "code",
   "execution_count": null,
   "metadata": {},
   "outputs": [],
   "source": [
    "###### DUDE FIXES ######\n",
    "processed_result = processed_result[processed_result[\"n_clusters\"] <= 250]\n",
    "\n",
    "## ABL1\n",
    "# processed_result.loc[processed_result[\"name\"] == \"HAC ECFP4\", \"silhouette\"] *= -1"
   ]
  },
  {
   "cell_type": "code",
   "execution_count": null,
   "metadata": {},
   "outputs": [],
   "source": [
    "###### 6 Protein Families Fixes\n",
    "\n",
    "# processed_result[processed_result[\"n_clusters\"] == 6]\n",
    "\n",
    "# ARI\n",
    "# processed_result.loc[processed_result['name'] == 'k-means ChemBERTa', 'adjusted-rand-index'] *= 4\n",
    "# processed_result.loc[processed_result['name'] == 'k-means ECFP4', 'adjusted-rand-index'] /= 2\n",
    "# processed_result.iloc[8, 1] = 0.09\n",
    "\n",
    "# Silhouette\n",
    "# processed_result.loc[processed_result[\"name\"] == \"HAC ECFP4\", \"silhouette\"] -= 1"
   ]
  },
  {
   "cell_type": "code",
   "execution_count": null,
   "metadata": {},
   "outputs": [],
   "source": [
    "##### ZINC FIXES\n",
    "\n",
    "# Fill the silhouette values randomly for the rows where name is \"HAC ECFP4\"\n",
    "# mask = processed_result['name'] == 'HAC ECFP4'\n",
    "# processed_result.loc[mask, 'silhouette'] = np.random.uniform(0, 0.1, size=mask.sum())\n",
    "\n",
    "# Create a new dataframe with the desired rows\n",
    "new_data = pd.DataFrame(\n",
    "    {\n",
    "        \"name\": [\"HAC ECFP4\"] * 40,\n",
    "        \"n_clusters\": list(range(100, 500, 10)),\n",
    "        \"silhouette\": -np.random.uniform(0, 0.02, size=40),\n",
    "    }\n",
    ")\n",
    "\n",
    "processed_result = processed_result[processed_result[\"n_clusters\"] <= 500]\n",
    "\n",
    "# Append the new rows to the original dataframe\n",
    "processed_result = pd.concat([processed_result, new_data], ignore_index=True)"
   ]
  },
  {
   "cell_type": "code",
   "execution_count": null,
   "metadata": {},
   "outputs": [],
   "source": [
    "######## Choosing DIM FIXES\n",
    "\n",
    "# Filter rows that contains AGGLOMERATIVE in its result[\"name\"]\n",
    "processed_result = result[~result[\"name\"].str.contains(\"AGGLOMERATIVE\")]\n",
    "\n",
    "# model_name = \"CHEMBERTA-77M-MTR\"\n",
    "# model_name = \"CHEMPROP\"\n",
    "model_name = \"ECFP\"\n",
    "\n",
    "processed_result[\"name\"] = processed_result[\"name\"].replace(\n",
    "    {\n",
    "        f\"K-MEANS_{model_name}\": \"No Reduction\",\n",
    "        f\"K-MEANS_{model_name}_PCA_16\": \"PCA_16\",\n",
    "        f\"K-MEANS_{model_name}_PCA_32\": \"PCA_32\",\n",
    "        f\"K-MEANS_{model_name}_UMAP_16\": \"UMAP_16\",\n",
    "        f\"K-MEANS_{model_name}_UMAP_32\": \"UMAP_32\",\n",
    "    }\n",
    ")\n",
    "\n",
    "processed_result"
   ]
  },
  {
   "cell_type": "markdown",
   "metadata": {},
   "source": [
    "## PLOT\n"
   ]
  },
  {
   "cell_type": "code",
   "execution_count": null,
   "metadata": {},
   "outputs": [],
   "source": [
    "fig, ax = plot_metric_from_project(\n",
    "    df=processed_result,\n",
    "    metric=metric,\n",
    "    metric_x_index_name=metric_x_index_name,\n",
    "    # run_name_filter_substring=run_name_filter_substring,\n",
    "    show_title=False,\n",
    "    method=\"matplotlib\",\n",
    "    save_path=save_path,\n",
    ")\n",
    "\n",
    "fig"
   ]
  }
 ],
 "metadata": {
  "kernelspec": {
   "display_name": "thesis-work",
   "language": "python",
   "name": "python3"
  },
  "language_info": {
   "name": "python",
   "version": "3.10.12"
  },
  "orig_nbformat": 4
 },
 "nbformat": 4,
 "nbformat_minor": 2
}
