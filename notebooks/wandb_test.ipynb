{
 "cells": [
  {
   "cell_type": "code",
   "execution_count": 1,
   "metadata": {},
   "outputs": [],
   "source": [
    "%load_ext autoreload\n",
    "%autoreload 2"
   ]
  },
  {
   "cell_type": "code",
   "execution_count": 2,
   "metadata": {},
   "outputs": [],
   "source": [
    "# %env \"WANDB_NOTEBOOK_NAME\" \"wandb_test\"\n",
    "# %env WANDB_SILENT=True\n",
    "\n",
    "import os\n",
    "from dotenv import load_dotenv\n",
    "\n",
    "load_dotenv()\n",
    "\n",
    "os.environ[\"WANDB_NOTEBOOK_NAME\"] = \"./wandb_test.ipynb\"\n",
    "\n",
    "WANDB_USER_NAME = os.environ.get(\"WANDB_USER_NAME\", None)\n",
    "\n",
    "if WANDB_USER_NAME is None:\n",
    "    raise ValueError(\"WANDB_USER_NAME environment variable is not set.\")"
   ]
  },
  {
   "cell_type": "code",
   "execution_count": 3,
   "metadata": {},
   "outputs": [
    {
     "name": "stderr",
     "output_type": "stream",
     "text": [
      "\u001b[34m\u001b[1mwandb\u001b[0m: Currently logged in as: \u001b[33milkersigirci\u001b[0m. Use \u001b[1m`wandb login --relogin`\u001b[0m to force relogin\n"
     ]
    },
    {
     "data": {
      "text/plain": [
       "True"
      ]
     },
     "execution_count": 3,
     "metadata": {},
     "output_type": "execute_result"
    }
   ],
   "source": [
    "import wandb\n",
    "\n",
    "wandb.login()"
   ]
  },
  {
   "cell_type": "markdown",
   "metadata": {},
   "source": [
    "## Get data with api\n"
   ]
  },
  {
   "cell_type": "markdown",
   "metadata": {},
   "source": [
    "### Playground\n"
   ]
  },
  {
   "cell_type": "code",
   "execution_count": null,
   "metadata": {},
   "outputs": [],
   "source": [
    "import pandas as pd\n",
    "import wandb\n",
    "\n",
    "# project_name = \"related-work\"\n",
    "# project_name = \"6-protein-family-2-step\"\n",
    "project_name = \"ataberk-chembl27-abl1\"\n",
    "# project_name = \"ataberk-chembl27-renin\"\n",
    "# project_name = \"ataberk-zinc15-zinc15-minor-targets\"\n",
    "\n",
    "api = wandb.Api()\n",
    "runs = api.runs(WANDB_USER_NAME + \"/\" + project_name)\n",
    "\n",
    "summary_list, config_list, name_list = [], [], []\n",
    "for run in runs:\n",
    "    summary_list.append(run.summary._json_dict)\n",
    "    config_list.append({k: v for k, v in run.config.items() if not k.startswith(\"_\")})\n",
    "    name_list.append(run.name)\n",
    "\n",
    "runs_df = pd.DataFrame(\n",
    "    {\"summary\": summary_list, \"config\": config_list, \"name\": name_list}\n",
    ")\n",
    "\n",
    "runs_df"
   ]
  },
  {
   "cell_type": "code",
   "execution_count": null,
   "metadata": {},
   "outputs": [],
   "source": [
    "for run in runs:\n",
    "    print(f\"Run name: {run.name}, len: {len(run.history())}\")"
   ]
  },
  {
   "cell_type": "code",
   "execution_count": 42,
   "metadata": {},
   "outputs": [
    {
     "data": {
      "text/html": [
       "<div>\n",
       "<style scoped>\n",
       "    .dataframe tbody tr th:only-of-type {\n",
       "        vertical-align: middle;\n",
       "    }\n",
       "\n",
       "    .dataframe tbody tr th {\n",
       "        vertical-align: top;\n",
       "    }\n",
       "\n",
       "    .dataframe thead th {\n",
       "        text-align: right;\n",
       "    }\n",
       "</style>\n",
       "<table border=\"1\" class=\"dataframe\">\n",
       "  <thead>\n",
       "    <tr style=\"text-align: right;\">\n",
       "      <th></th>\n",
       "      <th>n_clusters</th>\n",
       "      <th>silhouette</th>\n",
       "    </tr>\n",
       "  </thead>\n",
       "  <tbody>\n",
       "    <tr>\n",
       "      <th>0</th>\n",
       "      <td>10</td>\n",
       "      <td>0.005764</td>\n",
       "    </tr>\n",
       "    <tr>\n",
       "      <th>1</th>\n",
       "      <td>20</td>\n",
       "      <td>0.008050</td>\n",
       "    </tr>\n",
       "    <tr>\n",
       "      <th>2</th>\n",
       "      <td>30</td>\n",
       "      <td>-0.004362</td>\n",
       "    </tr>\n",
       "    <tr>\n",
       "      <th>3</th>\n",
       "      <td>40</td>\n",
       "      <td>-0.000858</td>\n",
       "    </tr>\n",
       "    <tr>\n",
       "      <th>4</th>\n",
       "      <td>50</td>\n",
       "      <td>-0.000694</td>\n",
       "    </tr>\n",
       "    <tr>\n",
       "      <th>...</th>\n",
       "      <td>...</td>\n",
       "      <td>...</td>\n",
       "    </tr>\n",
       "    <tr>\n",
       "      <th>94</th>\n",
       "      <td>950</td>\n",
       "      <td>0.043029</td>\n",
       "    </tr>\n",
       "    <tr>\n",
       "      <th>95</th>\n",
       "      <td>960</td>\n",
       "      <td>0.043097</td>\n",
       "    </tr>\n",
       "    <tr>\n",
       "      <th>96</th>\n",
       "      <td>970</td>\n",
       "      <td>0.047281</td>\n",
       "    </tr>\n",
       "    <tr>\n",
       "      <th>97</th>\n",
       "      <td>980</td>\n",
       "      <td>0.047111</td>\n",
       "    </tr>\n",
       "    <tr>\n",
       "      <th>98</th>\n",
       "      <td>990</td>\n",
       "      <td>0.046645</td>\n",
       "    </tr>\n",
       "  </tbody>\n",
       "</table>\n",
       "<p>99 rows × 2 columns</p>\n",
       "</div>"
      ],
      "text/plain": [
       "    n_clusters  silhouette\n",
       "0           10    0.005764\n",
       "1           20    0.008050\n",
       "2           30   -0.004362\n",
       "3           40   -0.000858\n",
       "4           50   -0.000694\n",
       "..         ...         ...\n",
       "94         950    0.043029\n",
       "95         960    0.043097\n",
       "96         970    0.047281\n",
       "97         980    0.047111\n",
       "98         990    0.046645\n",
       "\n",
       "[99 rows x 2 columns]"
      ]
     },
     "execution_count": 42,
     "metadata": {},
     "output_type": "execute_result"
    }
   ],
   "source": [
    "sample_run = runs[1]\n",
    "\n",
    "sample_history = sample_run.history(\n",
    "    samples=1000, x_axis=\"n_clusters\", keys=[\"n_clusters\", \"silhouette\"]\n",
    ")\n",
    "# sample_run.scan_history()\n",
    "sample_history"
   ]
  },
  {
   "cell_type": "code",
   "execution_count": 25,
   "metadata": {},
   "outputs": [],
   "source": [
    "for temp in sample_run.scan_history(keys=[\"xxx\", \"n_clusters\"]):\n",
    "    print(temp)"
   ]
  },
  {
   "cell_type": "code",
   "execution_count": 29,
   "metadata": {},
   "outputs": [
    {
     "data": {
      "text/html": [
       "<div>\n",
       "<style scoped>\n",
       "    .dataframe tbody tr th:only-of-type {\n",
       "        vertical-align: middle;\n",
       "    }\n",
       "\n",
       "    .dataframe tbody tr th {\n",
       "        vertical-align: top;\n",
       "    }\n",
       "\n",
       "    .dataframe thead th {\n",
       "        text-align: right;\n",
       "    }\n",
       "</style>\n",
       "<table border=\"1\" class=\"dataframe\">\n",
       "  <thead>\n",
       "    <tr style=\"text-align: right;\">\n",
       "      <th></th>\n",
       "    </tr>\n",
       "  </thead>\n",
       "  <tbody>\n",
       "  </tbody>\n",
       "</table>\n",
       "</div>"
      ],
      "text/plain": [
       "Empty DataFrame\n",
       "Columns: []\n",
       "Index: []"
      ]
     },
     "execution_count": 29,
     "metadata": {},
     "output_type": "execute_result"
    }
   ],
   "source": [
    "pd.DataFrame(sample_run.scan_history(keys=[\"xxx\", \"n_clusters\"]))"
   ]
  },
  {
   "cell_type": "code",
   "execution_count": 24,
   "metadata": {},
   "outputs": [
    {
     "name": "stdout",
     "output_type": "stream",
     "text": [
      "{'silhouette': 0.005763844586908817, 'n_clusters': 10}\n",
      "{'silhouette': 0.008049944415688515, 'n_clusters': 20}\n",
      "{'silhouette': -0.004361608996987343, 'n_clusters': 30}\n",
      "{'silhouette': -0.0008582372684031725, 'n_clusters': 40}\n",
      "{'silhouette': -0.0006943288026377559, 'n_clusters': 50}\n",
      "{'silhouette': 0.00461325328797102, 'n_clusters': 60}\n",
      "{'silhouette': 0.006196888629347086, 'n_clusters': 70}\n",
      "{'silhouette': 0.007979604415595531, 'n_clusters': 80}\n",
      "{'silhouette': 0.006264178082346916, 'n_clusters': 90}\n",
      "{'silhouette': 0.009868458844721317, 'n_clusters': 100}\n",
      "{'silhouette': -0.10038245469331741, 'n_clusters': 110}\n",
      "{'silhouette': 0.010650471784174442, 'n_clusters': 120}\n",
      "{'silhouette': 0.011038623750209808, 'n_clusters': 130}\n",
      "{'silhouette': 0.010052095167338848, 'n_clusters': 140}\n",
      "{'silhouette': -0.001592365326359868, 'n_clusters': 150}\n",
      "{'silhouette': 0.015195746906101704, 'n_clusters': 160}\n",
      "{'silhouette': 0.01219896413385868, 'n_clusters': 170}\n",
      "{'silhouette': 0.015332912094891071, 'n_clusters': 180}\n",
      "{'silhouette': 0.017240116372704506, 'n_clusters': 190}\n",
      "{'silhouette': 0.01811942085623741, 'n_clusters': 200}\n",
      "{'silhouette': 0.02026151493191719, 'n_clusters': 210}\n",
      "{'silhouette': -0.07961395382881165, 'n_clusters': 220}\n",
      "{'silhouette': -0.07596208900213242, 'n_clusters': 230}\n",
      "{'silhouette': 0.01647818088531494, 'n_clusters': 240}\n",
      "{'silhouette': 0.007413117215037346, 'n_clusters': 250}\n",
      "{'silhouette': -0.07255075871944427, 'n_clusters': 260}\n",
      "{'silhouette': 0.02590852603316307, 'n_clusters': 270}\n",
      "{'silhouette': -0.07161465287208557, 'n_clusters': 280}\n",
      "{'silhouette': 0.02297346666455269, 'n_clusters': 290}\n",
      "{'silhouette': 0.02516378089785576, 'n_clusters': 300}\n",
      "{'silhouette': 0.02603725716471672, 'n_clusters': 310}\n",
      "{'silhouette': 0.024402832612395287, 'n_clusters': 320}\n",
      "{'silhouette': 0.026615483686327934, 'n_clusters': 330}\n",
      "{'silhouette': 0.024904347956180573, 'n_clusters': 340}\n",
      "{'silhouette': 0.027799606323242188, 'n_clusters': 350}\n",
      "{'silhouette': 0.02629157155752182, 'n_clusters': 360}\n",
      "{'silhouette': 0.02933553233742714, 'n_clusters': 370}\n",
      "{'silhouette': 0.029623951762914658, 'n_clusters': 380}\n",
      "{'silhouette': 0.02586485631763935, 'n_clusters': 390}\n",
      "{'silhouette': 0.02472442388534546, 'n_clusters': 400}\n",
      "{'silhouette': 0.025691760703921318, 'n_clusters': 410}\n",
      "{'silhouette': 0.03259838744997978, 'n_clusters': 420}\n",
      "{'silhouette': 0.02667030319571495, 'n_clusters': 430}\n",
      "{'silhouette': 0.030730415135622025, 'n_clusters': 440}\n",
      "{'silhouette': 0.0329451784491539, 'n_clusters': 450}\n",
      "{'silhouette': 0.022674359381198883, 'n_clusters': 460}\n",
      "{'silhouette': 0.024756671860814095, 'n_clusters': 470}\n",
      "{'silhouette': 0.03082149848341942, 'n_clusters': 480}\n",
      "{'silhouette': 0.030840018764138222, 'n_clusters': 490}\n",
      "{'silhouette': 0.031047744676470757, 'n_clusters': 500}\n",
      "{'silhouette': 0.03433327004313469, 'n_clusters': 510}\n",
      "{'silhouette': 0.03332272171974182, 'n_clusters': 520}\n",
      "{'silhouette': 0.030032610520720482, 'n_clusters': 530}\n",
      "{'silhouette': 0.030428322032094002, 'n_clusters': 540}\n",
      "{'silhouette': 0.03245944529771805, 'n_clusters': 550}\n",
      "{'silhouette': 0.03486018255352974, 'n_clusters': 560}\n",
      "{'silhouette': 0.03450087085366249, 'n_clusters': 570}\n",
      "{'silhouette': 0.034065086394548416, 'n_clusters': 580}\n",
      "{'silhouette': 0.03528107702732086, 'n_clusters': 590}\n",
      "{'silhouette': 0.039615701884031296, 'n_clusters': 600}\n",
      "{'silhouette': 0.03610410913825035, 'n_clusters': 610}\n",
      "{'silhouette': 0.036837901920080185, 'n_clusters': 620}\n",
      "{'silhouette': 0.035386089235544205, 'n_clusters': 630}\n",
      "{'silhouette': 0.03603741526603699, 'n_clusters': 640}\n",
      "{'silhouette': 0.0384850800037384, 'n_clusters': 650}\n",
      "{'silhouette': 0.03853212669491768, 'n_clusters': 660}\n",
      "{'silhouette': 0.035026032477617264, 'n_clusters': 670}\n",
      "{'silhouette': 0.03822670504450798, 'n_clusters': 680}\n",
      "{'silhouette': 0.03745187446475029, 'n_clusters': 690}\n",
      "{'silhouette': 0.03884999081492424, 'n_clusters': 700}\n",
      "{'silhouette': 0.039727140218019485, 'n_clusters': 710}\n",
      "{'silhouette': 0.039991527795791626, 'n_clusters': 720}\n",
      "{'silhouette': 0.035190511494874954, 'n_clusters': 730}\n",
      "{'silhouette': 0.039726752787828445, 'n_clusters': 740}\n",
      "{'silhouette': 0.03567713126540184, 'n_clusters': 750}\n",
      "{'silhouette': 0.03759259358048439, 'n_clusters': 760}\n",
      "{'silhouette': 0.04046887159347534, 'n_clusters': 770}\n",
      "{'silhouette': 0.04258648678660393, 'n_clusters': 780}\n",
      "{'silhouette': 0.04076957330107689, 'n_clusters': 790}\n",
      "{'silhouette': 0.03686591610312462, 'n_clusters': 800}\n",
      "{'silhouette': 0.03918199613690376, 'n_clusters': 810}\n",
      "{'silhouette': 0.0406484454870224, 'n_clusters': 820}\n",
      "{'silhouette': 0.042577680200338364, 'n_clusters': 830}\n",
      "{'silhouette': 0.04187246039509773, 'n_clusters': 840}\n",
      "{'silhouette': 0.04399910941720009, 'n_clusters': 850}\n",
      "{'silhouette': 0.042527664452791214, 'n_clusters': 860}\n",
      "{'silhouette': 0.040811873972415924, 'n_clusters': 870}\n",
      "{'silhouette': 0.04223088175058365, 'n_clusters': 880}\n",
      "{'silhouette': 0.04309750720858574, 'n_clusters': 890}\n",
      "{'silhouette': 0.04339005425572395, 'n_clusters': 900}\n",
      "{'silhouette': 0.042698148638010025, 'n_clusters': 910}\n",
      "{'silhouette': 0.0456680953502655, 'n_clusters': 920}\n",
      "{'silhouette': 0.0379614494740963, 'n_clusters': 930}\n",
      "{'silhouette': 0.0471942275762558, 'n_clusters': 940}\n",
      "{'silhouette': 0.04302908480167389, 'n_clusters': 950}\n",
      "{'silhouette': 0.04309705272316933, 'n_clusters': 960}\n",
      "{'silhouette': 0.04728052765130997, 'n_clusters': 970}\n",
      "{'silhouette': 0.04711141809821129, 'n_clusters': 980}\n",
      "{'silhouette': 0.04664531722664833, 'n_clusters': 990}\n"
     ]
    }
   ],
   "source": [
    "for temp in sample_run.scan_history(keys=[\"silhouette\", \"n_clusters\"]):\n",
    "    print(temp)"
   ]
  },
  {
   "cell_type": "code",
   "execution_count": 28,
   "metadata": {},
   "outputs": [],
   "source": [
    "# Directly to csv\n",
    "\n",
    "# system_metrics = sample_run.history(stream=\"events\")\n",
    "# system_metrics.to_csv(\"sys_metrics.csv\")"
   ]
  },
  {
   "cell_type": "code",
   "execution_count": 83,
   "metadata": {},
   "outputs": [
    {
     "data": {
      "text/plain": [
       "False"
      ]
     },
     "execution_count": 83,
     "metadata": {},
     "output_type": "execute_result"
    }
   ],
   "source": [
    "metric_name = \"silhouette\"\n",
    "metric_x_index_name = \"n_clusters\"\n",
    "\n",
    "\n",
    "# Is metric_name and metric_x_index_name both exist in sample_history\n",
    "metric_name not in sample_history or metric_x_index_name not in sample_history"
   ]
  },
  {
   "cell_type": "code",
   "execution_count": null,
   "metadata": {},
   "outputs": [],
   "source": [
    "reduced_sample_history = (\n",
    "    sample_history[[metric_x_index_name, metric_name]].dropna().reset_index(drop=True)\n",
    ")\n",
    "reduced_sample_history[metric_x_index_name] = reduced_sample_history[\n",
    "    metric_x_index_name\n",
    "].astype(int)\n",
    "reduced_sample_history[\"name\"] = sample_run.name\n",
    "reduced_sample_history"
   ]
  },
  {
   "cell_type": "markdown",
   "metadata": {},
   "source": [
    "### Actual Code\n"
   ]
  },
  {
   "cell_type": "code",
   "execution_count": 5,
   "metadata": {},
   "outputs": [],
   "source": [
    "from thesis_work.utils.wandb_api import (\n",
    "    get_project_history,\n",
    "    get_metric_from_project,\n",
    "    plot_metric_from_project,\n",
    ")\n",
    "\n",
    "# project_name = \"related-work\"\n",
    "# project_name = \"6-protein-family-2-step\"\n",
    "project_name = \"ataberk-chembl27-renin\"\n",
    "\n",
    "metric = \"silhouette\"\n",
    "# metric = \"calinski-harabasz-index\"\n",
    "# metric = \"davies-bouldin\"\n",
    "\n",
    "metric_x_index_name = \"n_clusters\"\n",
    "\n",
    "run_name_filter_substring = \"_UMAP_16\""
   ]
  },
  {
   "cell_type": "code",
   "execution_count": null,
   "metadata": {},
   "outputs": [],
   "source": [
    "project_history = get_project_history(\n",
    "    project_name=project_name,\n",
    "    filtered_columns=[metric, metric_x_index_name],\n",
    "    run_name_filter_substring=run_name_filter_substring,\n",
    "    sample_size=1000,\n",
    ")\n",
    "project_history"
   ]
  },
  {
   "cell_type": "code",
   "execution_count": null,
   "metadata": {},
   "outputs": [],
   "source": [
    "result = get_metric_from_project(\n",
    "    project_name=project_name,\n",
    "    metric=metric,\n",
    "    metric_x_index_name=metric_x_index_name,\n",
    "    run_name_filter_substring=run_name_filter_substring,\n",
    "    history_method=\"history\",\n",
    ")\n",
    "result"
   ]
  },
  {
   "cell_type": "markdown",
   "metadata": {},
   "source": [
    "#### Plotting\n"
   ]
  },
  {
   "cell_type": "code",
   "execution_count": 18,
   "metadata": {},
   "outputs": [],
   "source": [
    "processed_result = result\n",
    "\n",
    "# processed_result = result[result[\"name\"].str.contains(\"UMAP_16\")]\n",
    "# processed_result.assign(base=processed_result['name'].apply(lambda x: 16 if '16' in x else 32))"
   ]
  },
  {
   "cell_type": "code",
   "execution_count": null,
   "metadata": {},
   "outputs": [],
   "source": [
    "fig = plot_metric_from_project(\n",
    "    df=processed_result,\n",
    "    metric=metric,\n",
    "    metric_x_index_name=metric_x_index_name,\n",
    "    run_name_filter_substring=run_name_filter_substring,\n",
    "    show_title=False,\n",
    "    method=\"matplotlib\",\n",
    "    # save_path=\"./test.png\",\n",
    ")\n",
    "\n",
    "fig"
   ]
  },
  {
   "cell_type": "markdown",
   "metadata": {},
   "source": [
    "## Figures\n"
   ]
  },
  {
   "cell_type": "code",
   "execution_count": 4,
   "metadata": {},
   "outputs": [],
   "source": [
    "from thesis_work.utils.wandb_api import (\n",
    "    get_project_summary,\n",
    "    get_metric_from_project,\n",
    "    plot_metric_from_project,\n",
    ")\n",
    "\n",
    "# project_name = \"related-work\"\n",
    "# project_name = \"6-protein-family-2-step\"\n",
    "project_name = \"ataberk-chembl27-abl1\"\n",
    "# project_name = \"ataberk-chembl27-renin\"\n",
    "# project_name = \"ataberk-chembl27-thb\"\n",
    "\n",
    "metric = \"silhouette\"\n",
    "# metric = \"calinski-harabasz-index\"\n",
    "# metric = \"davies-bouldin\"\n",
    "# metric = \"adjusted-rand-index\"\n",
    "\n",
    "metric_x_index_name = \"n_clusters\"\n",
    "# metric_x_index_name= \"threshold\"\n",
    "\n",
    "run_name_filter_substring = \"_UMAP_16\"\n",
    "# run_name_filter_substring = \"ecfp\"\n",
    "# run_name_filter_substring = \"ChemBERTa\"\n",
    "# run_name_filter_substring = \"chemprop\"\n",
    "\n",
    "# save_path = \"Chembl_27_ABL1_ARI.png\"\n",
    "# save_path = \"Related_Work_Davies_Bouldin.png\""
   ]
  },
  {
   "cell_type": "code",
   "execution_count": 5,
   "metadata": {},
   "outputs": [
    {
     "data": {
      "text/html": [
       "<div>\n",
       "<style scoped>\n",
       "    .dataframe tbody tr th:only-of-type {\n",
       "        vertical-align: middle;\n",
       "    }\n",
       "\n",
       "    .dataframe tbody tr th {\n",
       "        vertical-align: top;\n",
       "    }\n",
       "\n",
       "    .dataframe thead th {\n",
       "        text-align: right;\n",
       "    }\n",
       "</style>\n",
       "<table border=\"1\" class=\"dataframe\">\n",
       "  <thead>\n",
       "    <tr style=\"text-align: right;\">\n",
       "      <th></th>\n",
       "      <th>n_clusters</th>\n",
       "      <th>silhouette</th>\n",
       "      <th>name</th>\n",
       "    </tr>\n",
       "  </thead>\n",
       "  <tbody>\n",
       "    <tr>\n",
       "      <th>0</th>\n",
       "      <td>10</td>\n",
       "      <td>0.283</td>\n",
       "      <td>AGGLOMERATIVE_ECFP_UMAP_16</td>\n",
       "    </tr>\n",
       "    <tr>\n",
       "      <th>198</th>\n",
       "      <td>10</td>\n",
       "      <td>-0.501</td>\n",
       "      <td>AGGLOMERATIVE_CHEMBERTA-77M-MTR_UMAP_16</td>\n",
       "    </tr>\n",
       "    <tr>\n",
       "      <th>396</th>\n",
       "      <td>10</td>\n",
       "      <td>0.296</td>\n",
       "      <td>K-MEANS_CHEMPROP_UMAP_16</td>\n",
       "    </tr>\n",
       "    <tr>\n",
       "      <th>297</th>\n",
       "      <td>10</td>\n",
       "      <td>0.282</td>\n",
       "      <td>K-MEANS_ECFP_UMAP_16</td>\n",
       "    </tr>\n",
       "    <tr>\n",
       "      <th>99</th>\n",
       "      <td>10</td>\n",
       "      <td>-0.332</td>\n",
       "      <td>AGGLOMERATIVE_CHEMPROP_UMAP_16</td>\n",
       "    </tr>\n",
       "  </tbody>\n",
       "</table>\n",
       "</div>"
      ],
      "text/plain": [
       "     n_clusters  silhouette                                     name\n",
       "0            10       0.283               AGGLOMERATIVE_ECFP_UMAP_16\n",
       "198          10      -0.501  AGGLOMERATIVE_CHEMBERTA-77M-MTR_UMAP_16\n",
       "396          10       0.296                 K-MEANS_CHEMPROP_UMAP_16\n",
       "297          10       0.282                     K-MEANS_ECFP_UMAP_16\n",
       "99           10      -0.332           AGGLOMERATIVE_CHEMPROP_UMAP_16"
      ]
     },
     "execution_count": 5,
     "metadata": {},
     "output_type": "execute_result"
    }
   ],
   "source": [
    "result = get_metric_from_project(\n",
    "    project_name=project_name,\n",
    "    metric=metric,\n",
    "    metric_x_index_name=metric_x_index_name,\n",
    "    run_name_filter_substring=run_name_filter_substring,\n",
    "    history_method=\"history\",\n",
    ")\n",
    "result.head()"
   ]
  },
  {
   "cell_type": "code",
   "execution_count": 6,
   "metadata": {},
   "outputs": [
    {
     "data": {
      "text/plain": [
       "(594, 3)"
      ]
     },
     "execution_count": 6,
     "metadata": {},
     "output_type": "execute_result"
    }
   ],
   "source": [
    "result.shape"
   ]
  },
  {
   "cell_type": "code",
   "execution_count": 7,
   "metadata": {},
   "outputs": [
    {
     "data": {
      "text/plain": [
       "AGGLOMERATIVE_ECFP_UMAP_16                 99\n",
       "AGGLOMERATIVE_CHEMBERTA-77M-MTR_UMAP_16    99\n",
       "K-MEANS_CHEMPROP_UMAP_16                   99\n",
       "K-MEANS_ECFP_UMAP_16                       99\n",
       "AGGLOMERATIVE_CHEMPROP_UMAP_16             99\n",
       "K-MEANS_CHEMBERTA-77M-MTR_UMAP_16          99\n",
       "Name: name, dtype: int64"
      ]
     },
     "execution_count": 7,
     "metadata": {},
     "output_type": "execute_result"
    }
   ],
   "source": [
    "result[\"name\"].value_counts()"
   ]
  },
  {
   "cell_type": "code",
   "execution_count": 8,
   "metadata": {},
   "outputs": [],
   "source": [
    "# result = result[result[\"name\"].str.contains(\"K-MEANS_ECFP\")]\n",
    "# result = result[result[\"name\"].str.contains(\"K-MEANS_CHEMBERTA\")]\n",
    "# result = result[result[\"name\"].str.contains(\"K-MEANS_CHEMPROP\")]\n",
    "\n",
    "result = result[result[\"n_clusters\"] < 250]"
   ]
  },
  {
   "cell_type": "code",
   "execution_count": 9,
   "metadata": {},
   "outputs": [
    {
     "data": {
      "image/png": "[encoded data removed]",
      "text/plain": [
       "<Figure size 1200x700 with 1 Axes>"
      ]
     },
     "execution_count": 9,
     "metadata": {},
     "output_type": "execute_result"
    }
   ],
   "source": [
    "fig, ax = plot_metric_from_project(\n",
    "    df=result,\n",
    "    metric=metric,\n",
    "    metric_x_index_name=metric_x_index_name,\n",
    "    # run_name_filter_substring=run_name_filter_substring,\n",
    "    show_title=False,\n",
    "    method=\"matplotlib\",\n",
    "    # save_path=save_path,\n",
    ")\n",
    "\n",
    "fig"
   ]
  },
  {
   "cell_type": "code",
   "execution_count": 26,
   "metadata": {},
   "outputs": [
    {
     "name": "stdout",
     "output_type": "stream",
     "text": [
      "The size of the saved figure is 131.80 KB.\n"
     ]
    }
   ],
   "source": [
    "size = os.path.getsize(save_path) / 1024\n",
    "print(f\"The size of the saved figure is {size:.2f} KB.\")"
   ]
  }
 ],
 "metadata": {
  "kernelspec": {
   "display_name": "thesis-work",
   "language": "python",
   "name": "python3"
  },
  "language_info": {
   "codemirror_mode": {
    "name": "ipython",
    "version": 3
   },
   "file_extension": ".py",
   "mimetype": "text/x-python",
   "name": "python",
   "nbconvert_exporter": "python",
   "pygments_lexer": "ipython3",
   "version": "3.10.12"
  },
  "orig_nbformat": 4
 },
 "nbformat": 4,
 "nbformat_minor": 2
}
