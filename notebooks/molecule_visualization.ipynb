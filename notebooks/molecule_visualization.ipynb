{
 "cells": [
  {
   "cell_type": "code",
   "execution_count": 13,
   "metadata": {},
   "outputs": [
    {
     "data": {
      "image/png": "[encoded data removed]",
      "text/plain": [
       "<PIL.PngImagePlugin.PngImageFile image mode=RGB size=300x300>"
      ]
     },
     "execution_count": 13,
     "metadata": {},
     "output_type": "execute_result"
    }
   ],
   "source": [
    "from rdkit import Chem\n",
    "from rdkit.Chem import AllChem, Draw\n",
    "from rdkit.DataStructs import FingerprintSimilarity\n",
    "import numpy as np\n",
    "\n",
    "# import matplotlib.pyplot as plt\n",
    "\n",
    "CAFFEINE_SMILES = \"CN1C=NC2=C1C(=O)N(C(=O)N2C)C\"\n",
    "\n",
    "mol = Chem.MolFromSmiles(CAFFEINE_SMILES)\n",
    "Draw.MolToImage(mol)"
   ]
  },
  {
   "cell_type": "code",
   "execution_count": 29,
   "metadata": {},
   "outputs": [
    {
     "data": {
      "text/plain": [
       "[0, 2, 4, 6, 19, 45, 317, 411, 465, 476, 497, 570, 886, 916, 949]"
      ]
     },
     "execution_count": 29,
     "metadata": {},
     "output_type": "execute_result"
    }
   ],
   "source": [
    "bit_info = {}\n",
    "fp = Chem.AllChem.GetMorganFingerprintAsBitVect(\n",
    "    mol, radius=3, nBits=2048, bitInfo=bit_info, useFeatures=True\n",
    ")\n",
    "list(bit_info.keys())[:15]"
   ]
  },
  {
   "cell_type": "code",
   "execution_count": 30,
   "metadata": {},
   "outputs": [
    {
     "data": {
      "image/svg+xml": [
       "<svg xmlns=\"http://www.w3.org/2000/svg\" xmlns:rdkit=\"http://www.rdkit.org/xml\" xmlns:xlink=\"http://www.w3.org/1999/xlink\" version=\"1.1\" baseProfile=\"full\" xml:space=\"preserve\" width=\"150px\" height=\"150px\" viewBox=\"0 0 150 150\">\n",
       "<!-- END OF HEADER -->\n",
       "<rect style=\"opacity:1.0;fill:#FFFFFF;stroke:none\" width=\"150.0\" height=\"150.0\" x=\"0.0\" y=\"0.0\"> </rect>\n",
       "<ellipse cx=\"115.1\" cy=\"95.4\" rx=\"9.0\" ry=\"9.0\" class=\"atom-1\" style=\"fill:#E5E533;fill-rule:evenodd;stroke:#E5E533;stroke-width:1.0px;stroke-linecap:butt;stroke-linejoin:miter;stroke-opacity:1\"/>\n",
       "<ellipse cx=\"126.9\" cy=\"52.0\" rx=\"9.0\" ry=\"9.0\" class=\"atom-2\" style=\"fill:#9999E5;fill-rule:evenodd;stroke:#9999E5;stroke-width:1.0px;stroke-linecap:butt;stroke-linejoin:miter;stroke-opacity:1\"/>\n",
       "<ellipse cx=\"89.3\" cy=\"27.3\" rx=\"9.0\" ry=\"9.0\" class=\"atom-3\" style=\"fill:#E5E533;fill-rule:evenodd;stroke:#E5E533;stroke-width:1.0px;stroke-linecap:butt;stroke-linejoin:miter;stroke-opacity:1\"/>\n",
       "<ellipse cx=\"54.2\" cy=\"55.4\" rx=\"9.0\" ry=\"9.0\" class=\"atom-4\" style=\"fill:#E5E533;fill-rule:evenodd;stroke:#E5E533;stroke-width:1.0px;stroke-linecap:butt;stroke-linejoin:miter;stroke-opacity:1\"/>\n",
       "<ellipse cx=\"70.1\" cy=\"97.5\" rx=\"9.0\" ry=\"9.0\" class=\"atom-5\" style=\"fill:#E5E533;fill-rule:evenodd;stroke:#E5E533;stroke-width:1.0px;stroke-linecap:butt;stroke-linejoin:miter;stroke-opacity:1\"/>\n",
       "<path class=\"bond-0 atom-0 atom-1\" d=\"M 143.2,130.5 L 132.3,116.9\" style=\"fill:none;fill-rule:evenodd;stroke:#000000;stroke-width:2.0px;stroke-linecap:butt;stroke-linejoin:miter;stroke-opacity:1\"/>\n",
       "<path class=\"bond-0 atom-0 atom-1\" d=\"M 132.3,116.9 L 121.3,103.2\" style=\"fill:none;fill-rule:evenodd;stroke:#0000FF;stroke-width:2.0px;stroke-linecap:butt;stroke-linejoin:miter;stroke-opacity:1\"/>\n",
       "<path class=\"bond-1 atom-1 atom-2\" d=\"M 117.2,87.5 L 122.1,69.8\" style=\"fill:none;fill-rule:evenodd;stroke:#0000FF;stroke-width:2.0px;stroke-linecap:butt;stroke-linejoin:miter;stroke-opacity:1\"/>\n",
       "<path class=\"bond-1 atom-1 atom-2\" d=\"M 122.1,69.8 L 126.9,52.0\" style=\"fill:none;fill-rule:evenodd;stroke:#000000;stroke-width:2.0px;stroke-linecap:butt;stroke-linejoin:miter;stroke-opacity:1\"/>\n",
       "<path class=\"bond-2 atom-2 atom-3\" d=\"M 126.9,52.0 L 111.3,41.7\" style=\"fill:none;fill-rule:evenodd;stroke:#000000;stroke-width:2.0px;stroke-linecap:butt;stroke-linejoin:miter;stroke-opacity:1\"/>\n",
       "<path class=\"bond-2 atom-2 atom-3\" d=\"M 111.3,41.7 L 95.6,31.5\" style=\"fill:none;fill-rule:evenodd;stroke:#0000FF;stroke-width:2.0px;stroke-linecap:butt;stroke-linejoin:miter;stroke-opacity:1\"/>\n",
       "<path class=\"bond-2 atom-2 atom-3\" d=\"M 119.1,55.0 L 105.5,46.0\" style=\"fill:none;fill-rule:evenodd;stroke:#000000;stroke-width:2.0px;stroke-linecap:butt;stroke-linejoin:miter;stroke-opacity:1\"/>\n",
       "<path class=\"bond-2 atom-2 atom-3\" d=\"M 105.5,46.0 L 91.9,37.1\" style=\"fill:none;fill-rule:evenodd;stroke:#0000FF;stroke-width:2.0px;stroke-linecap:butt;stroke-linejoin:miter;stroke-opacity:1\"/>\n",
       "<path class=\"bond-3 atom-3 atom-4\" d=\"M 83.0,32.4 L 68.6,43.9\" style=\"fill:none;fill-rule:evenodd;stroke:#0000FF;stroke-width:2.0px;stroke-linecap:butt;stroke-linejoin:miter;stroke-opacity:1\"/>\n",
       "<path class=\"bond-3 atom-3 atom-4\" d=\"M 68.6,43.9 L 54.2,55.4\" style=\"fill:none;fill-rule:evenodd;stroke:#000000;stroke-width:2.0px;stroke-linecap:butt;stroke-linejoin:miter;stroke-opacity:1\"/>\n",
       "<path class=\"bond-4 atom-4 atom-5\" d=\"M 54.2,55.4 L 70.1,97.5\" style=\"fill:none;fill-rule:evenodd;stroke:#E5E5E5;stroke-width:2.4px;stroke-linecap:butt;stroke-linejoin:miter;stroke-opacity:1\"/>\n",
       "<path class=\"bond-4 atom-4 atom-5\" d=\"M 62.3,57.6 L 74.7,90.5\" style=\"fill:none;fill-rule:evenodd;stroke:#E5E5E5;stroke-width:2.4px;stroke-linecap:butt;stroke-linejoin:miter;stroke-opacity:1\"/>\n",
       "<path class=\"bond-5 atom-5 atom-6\" d=\"M 70.1,97.5 L 46.1,126.8\" style=\"fill:none;fill-rule:evenodd;stroke:#E5E5E5;stroke-width:2.4px;stroke-linecap:butt;stroke-linejoin:miter;stroke-opacity:1\"/>\n",
       "<path class=\"bond-6 atom-5 atom-1\" d=\"M 70.1,97.5 L 89.4,96.6\" style=\"fill:none;fill-rule:evenodd;stroke:#000000;stroke-width:2.0px;stroke-linecap:butt;stroke-linejoin:miter;stroke-opacity:1\"/>\n",
       "<path class=\"bond-6 atom-5 atom-1\" d=\"M 89.4,96.6 L 108.7,95.7\" style=\"fill:none;fill-rule:evenodd;stroke:#0000FF;stroke-width:2.0px;stroke-linecap:butt;stroke-linejoin:miter;stroke-opacity:1\"/>\n",
       "<path class=\"bond-7 atom-7 atom-4\" d=\"M 14.3,48.9 L 54.2,55.4\" style=\"fill:none;fill-rule:evenodd;stroke:#E5E5E5;stroke-width:2.4px;stroke-linecap:butt;stroke-linejoin:miter;stroke-opacity:1\"/>\n",
       "<path d=\"M 126.7,52.9 L 126.9,52.0 L 126.1,51.5\" style=\"fill:none;stroke:#000000;stroke-width:2.0px;stroke-linecap:butt;stroke-linejoin:miter;stroke-opacity:1;\"/>\n",
       "<path class=\"atom-1\" d=\"M 112.2 89.0 L 116.4 95.8 Q 116.8 96.4, 117.5 97.6 Q 118.2 98.8, 118.2 98.9 L 118.2 89.0 L 119.9 89.0 L 119.9 101.8 L 118.1 101.8 L 113.7 94.4 Q 113.1 93.5, 112.6 92.5 Q 112.0 91.5, 111.9 91.2 L 111.9 101.8 L 110.2 101.8 L 110.2 89.0 L 112.2 89.0 \" fill=\"#0000FF\"/>\n",
       "<path class=\"atom-3\" d=\"M 86.5 20.9 L 90.7 27.7 Q 91.1 28.4, 91.8 29.6 Q 92.4 30.8, 92.5 30.8 L 92.5 20.9 L 94.1 20.9 L 94.1 33.7 L 92.4 33.7 L 87.9 26.3 Q 87.4 25.4, 86.8 24.5 Q 86.3 23.5, 86.1 23.2 L 86.1 33.7 L 84.5 33.7 L 84.5 20.9 L 86.5 20.9 \" fill=\"#0000FF\"/>\n",
       "<path class=\"atom-6\" d=\"M 39.2 130.9 L 41.1 129.0 L 38.6 128.5 L 39.0 127.2 L 41.3 128.4 L 41.0 125.9 L 42.3 125.9 L 41.9 128.4 L 44.3 127.3 L 44.7 128.5 L 42.1 129.0 L 43.9 130.9 L 42.8 131.7 L 41.6 129.3 L 40.3 131.7 L 39.2 130.9 \" fill=\"#191919\"/>\n",
       "<path class=\"atom-7\" d=\"M 7.4 46.8 L 9.3 44.9 L 6.8 44.4 L 7.2 43.1 L 9.5 44.2 L 9.2 41.7 L 10.5 41.7 L 10.1 44.2 L 12.4 43.1 L 12.8 44.4 L 10.3 44.8 L 12.1 46.7 L 11.0 47.5 L 9.8 45.2 L 8.5 47.5 L 7.4 46.8 \" fill=\"#191919\"/>\n",
       "</svg>"
      ],
      "text/plain": [
       "<IPython.core.display.SVG object>"
      ]
     },
     "execution_count": 30,
     "metadata": {},
     "output_type": "execute_result"
    }
   ],
   "source": [
    "Draw.DrawMorganBit(mol, 317, bit_info, useSVG=True)"
   ]
  }
 ],
 "metadata": {
  "kernelspec": {
   "display_name": "thesis-work",
   "language": "python",
   "name": "python3"
  },
  "language_info": {
   "codemirror_mode": {
    "name": "ipython",
    "version": 3
   },
   "file_extension": ".py",
   "mimetype": "text/x-python",
   "name": "python",
   "nbconvert_exporter": "python",
   "pygments_lexer": "ipython3",
   "version": "3.10.12"
  },
  "orig_nbformat": 4
 },
 "nbformat": 4,
 "nbformat_minor": 2
}
