{
 "cells": [
  {
   "cell_type": "markdown",
   "metadata": {},
   "source": [
    "## NOTES\n",
    "\n",
    "- [Basic Molecular Representation for Machine Learning - Medium](https://towardsdatascience.com/basic-molecular-representation-for-machine-learning-b6be52e9ff76)\n",
    "- - [Stackoverflow method](https://stackoverflow.com/questions/66131399/extracting-layer-output-from-classification-model-of-simpletransformer)\n"
   ]
  },
  {
   "cell_type": "markdown",
   "metadata": {},
   "source": [
    "## DATA"
   ]
  },
  {
   "cell_type": "code",
   "execution_count": 10,
   "metadata": {},
   "outputs": [],
   "source": [
    "# List of SMILES compounds - Kinase\n",
    "smiles_compounds = [\n",
    "    \"O=C(Cc1cccc2ccccc12)Nc1n[nH]c2ccc(N3CCCS3(=O)=O)cc12\",\n",
    "    \"COC(=O)NC[C@@H](NC(=O)c1ccc(-c2nc(C3CCOCC3)cnc2N)cc1F)c1cccc(Br)c1\",\n",
    "    \"COc1ccccc1Nc1cc(Oc2cc(C)c(C)nc2-c2ccccn2)ccn1\",\n",
    "    \"O=C(/C=C/CN1CCCC1)N1CCOc2cc3ncnc(Nc4ccc(F)c(Cl)c4)c3cc21\",\n",
    "    \"O=C(Nc1cccc(Nc2cc3c(=O)[nH][nH]c(=O)c3cc2Cl)c1)c1cccc(Cl)c1\",\n",
    "    \"Cc1cc(CNc2nc(Nc3cc(C4CC4)[nH]n3)cc(NC3CC4CCC(C3)N4C)n2)on1\", \n",
    "    \"Cc1cc(-c2cc(O)ccc2Cl)cc2nnc(Nc3ccc(S(N)(=O)=O)cc3)nc12\",\n",
    "    \"NS(=O)(=O)c1cccc(N/C=C2\\C(=O)Nc3ccccc32)c1\",\n",
    "    \"CC(=O)Nc1ccc2cnn(-c3cc(NC4CC4)n4ncc(C#N)c4n3)c2c1\",\n",
    "    \"CS(=O)(=O)c1cccc(Nc2nccc(N(CC#N)c3c(Cl)ccc4c3OCO4)n2)c1\",\n",
    "    \"Cc1cnc(-c2ccnc(C(C)(C)O)n2)cc1-n1c(C)cc(OCc2ccc(F)cc2F)c(Cl)c1=O\",\n",
    "    \"Cc1ccc(C(=O)Nc2cc(C(F)(F)F)ccn2)cc1/C=C/n1cnc2cncnc21\",\n",
    "    \"CNC(=O)c1cnn2ccc(N3C[C@@H](O)C[C@@H]3c3cccc(F)c3)nc12\",\n",
    "    \"COc1cc2c(cc1OC1CCOC1)Cc1c-2n[nH]c1-c1ccc(C#N)cc1\"\n",
    "]"
   ]
  },
  {
   "cell_type": "code",
   "execution_count": 1,
   "metadata": {},
   "outputs": [],
   "source": [
    "import pandas as pd\n",
    "\n",
    "protein_type = \"gpcr\"\n",
    "# protein_type = \"kinase\"\n",
    "# protein_type = \"protease\"\n",
    "\n",
    "\n",
    "df_path = f\"../thesis_work/data/{protein_type}_smiles.csv\"\n",
    "df_path_vector = f\"../thesis_work/data/{protein_type}_smiles_vector.csv\"\n",
    "\n",
    "smiles_df = pd.read_csv(df_path, usecols=[\"smiles\"])\n",
    "# smiles_compounds = smiles_df[\"smiles\"].to_numpy().tolist()\n",
    "# smiles_compounds = smiles_df[:1_000]"
   ]
  },
  {
   "cell_type": "code",
   "execution_count": 2,
   "metadata": {},
   "outputs": [
    {
     "data": {
      "text/html": [
       "<div>\n",
       "<style scoped>\n",
       "    .dataframe tbody tr th:only-of-type {\n",
       "        vertical-align: middle;\n",
       "    }\n",
       "\n",
       "    .dataframe tbody tr th {\n",
       "        vertical-align: top;\n",
       "    }\n",
       "\n",
       "    .dataframe thead th {\n",
       "        text-align: right;\n",
       "    }\n",
       "</style>\n",
       "<table border=\"1\" class=\"dataframe\">\n",
       "  <thead>\n",
       "    <tr style=\"text-align: right;\">\n",
       "      <th></th>\n",
       "      <th>smiles</th>\n",
       "    </tr>\n",
       "  </thead>\n",
       "  <tbody>\n",
       "    <tr>\n",
       "      <th>0</th>\n",
       "      <td>O=C(C1CC12CCN(C1CCOCC1)CC2)N1CCN(C2CCCCCC2)CC1</td>\n",
       "    </tr>\n",
       "    <tr>\n",
       "      <th>1</th>\n",
       "      <td>CC(C)c1nc(C(F)(F)F)cnc1N[C@H]1CCC[C@@H]1NC(=O)...</td>\n",
       "    </tr>\n",
       "    <tr>\n",
       "      <th>2</th>\n",
       "      <td>CC(C)N1CCN(C(=O)OC2CCN(c3ccc(C(F)(F)F)cn3)CC2)CC1</td>\n",
       "    </tr>\n",
       "    <tr>\n",
       "      <th>3</th>\n",
       "      <td>Cc1ccc2c(=O)c(C(=O)NC3CCCCC3)cn(Cc3ccc(F)cc3)c2n1</td>\n",
       "    </tr>\n",
       "    <tr>\n",
       "      <th>4</th>\n",
       "      <td>CCn1nc(C)cc1CCOC(=O)N1CCc2ncsc2C1c1cc(Cl)ccc1O...</td>\n",
       "    </tr>\n",
       "    <tr>\n",
       "      <th>...</th>\n",
       "      <td>...</td>\n",
       "    </tr>\n",
       "    <tr>\n",
       "      <th>68004</th>\n",
       "      <td>COCC(c1ccc(Cl)cc1)C1CCN(S(=O)(=O)c2c(C)n[nH]c2...</td>\n",
       "    </tr>\n",
       "    <tr>\n",
       "      <th>68005</th>\n",
       "      <td>O=C(Nc1ccccc1)NS(=O)(=O)c1ccc(OCCCN2CCCCC2)cc1</td>\n",
       "    </tr>\n",
       "    <tr>\n",
       "      <th>68006</th>\n",
       "      <td>O=C(N[C@H](Cc1ccc(Cl)cc1)C(=O)N1CCC(Cn2cncn2)(...</td>\n",
       "    </tr>\n",
       "    <tr>\n",
       "      <th>68007</th>\n",
       "      <td>c1cc(CN2CCOCC2)cc(OCC2CN(C3CC3)CCO2)c1</td>\n",
       "    </tr>\n",
       "    <tr>\n",
       "      <th>68008</th>\n",
       "      <td>O=C(NCc1ccc(-c2ccc(Cl)cc2)cc1)Nc1ccc(CN2CCCCC2...</td>\n",
       "    </tr>\n",
       "  </tbody>\n",
       "</table>\n",
       "<p>68009 rows × 1 columns</p>\n",
       "</div>"
      ],
      "text/plain": [
       "                                                  smiles\n",
       "0         O=C(C1CC12CCN(C1CCOCC1)CC2)N1CCN(C2CCCCCC2)CC1\n",
       "1      CC(C)c1nc(C(F)(F)F)cnc1N[C@H]1CCC[C@@H]1NC(=O)...\n",
       "2      CC(C)N1CCN(C(=O)OC2CCN(c3ccc(C(F)(F)F)cn3)CC2)CC1\n",
       "3      Cc1ccc2c(=O)c(C(=O)NC3CCCCC3)cn(Cc3ccc(F)cc3)c2n1\n",
       "4      CCn1nc(C)cc1CCOC(=O)N1CCc2ncsc2C1c1cc(Cl)ccc1O...\n",
       "...                                                  ...\n",
       "68004  COCC(c1ccc(Cl)cc1)C1CCN(S(=O)(=O)c2c(C)n[nH]c2...\n",
       "68005     O=C(Nc1ccccc1)NS(=O)(=O)c1ccc(OCCCN2CCCCC2)cc1\n",
       "68006  O=C(N[C@H](Cc1ccc(Cl)cc1)C(=O)N1CCC(Cn2cncn2)(...\n",
       "68007             c1cc(CN2CCOCC2)cc(OCC2CN(C3CC3)CCO2)c1\n",
       "68008  O=C(NCc1ccc(-c2ccc(Cl)cc2)cc1)Nc1ccc(CN2CCCCC2...\n",
       "\n",
       "[68009 rows x 1 columns]"
      ]
     },
     "execution_count": 2,
     "metadata": {},
     "output_type": "execute_result"
    }
   ],
   "source": [
    "smiles_df"
   ]
  },
  {
   "cell_type": "markdown",
   "metadata": {},
   "source": [
    "## Utility Functions"
   ]
  },
  {
   "cell_type": "code",
   "execution_count": null,
   "metadata": {},
   "outputs": [],
   "source": [
    "# From: https://discuss.huggingface.co/t/generate-raw-word-embeddings-using-transformer-models-like-bert-for-downstream-process/2958/2\n",
    "\n",
    "import numpy as np\n",
    "import torch\n",
    "from transformers import AutoTokenizer, AutoModel\n",
    " \n",
    " \n",
    "def get_word_idx(sent: str, word: str):\n",
    "    return sent.split(\" \").index(word)\n",
    "\n",
    "\n",
    "def get_hidden_states(encoded, token_ids_word, model, layers):\n",
    "    \"\"\"Push input IDs through model. Stack and sum `layers` (last four by default).\n",
    "    Select only those subword token outputs that belong to our word of interest\n",
    "    and average them.\"\"\"\n",
    "    with torch.no_grad():\n",
    "        output = model(**encoded)\n",
    "\n",
    "    # Get all hidden states\n",
    "    states = output.hidden_states\n",
    "    # Stack and sum all requested layers\n",
    "    output = torch.stack([states[i] for i in layers]).sum(0).squeeze()\n",
    "    # Only select the tokens that constitute the requested word\n",
    "    word_tokens_output = output[token_ids_word]\n",
    "\n",
    "    return word_tokens_output.mean(dim=0)\n",
    "\n",
    "\n",
    "def get_word_vector(sent, idx, tokenizer, model, layers):\n",
    "    \"\"\"\n",
    "    Get a word vector by first tokenizing the input sentence, getting all token idxs\n",
    "    that make up the word of interest, and then `get_hidden_states`.\n",
    "\n",
    "    NOTE: `BertTokenizer` doesn't support `word_ids`. Use `BertTokenizerFast` instead.\n",
    "    \"\"\"\n",
    "    encoded = tokenizer.encode_plus(sent, return_tensors=\"pt\")\n",
    "    # get all token idxs that belong to the word of interest\n",
    "    token_ids_word = np.where(np.array(encoded.word_ids()) == idx)\n",
    "\n",
    "    return get_hidden_states(encoded, token_ids_word, model, layers)\n",
    "\n",
    "\n",
    "def main(layers=None):\n",
    "    # Use last four layers by default\n",
    "    layers = [-4, -3, -2, -1] if layers is None else layers\n",
    "    tokenizer = AutoTokenizer.from_pretrained(\"bert-base-cased\")\n",
    "    model = AutoModel.from_pretrained(\"bert-base-cased\", output_hidden_states=True)\n",
    "\n",
    "    sent = \"I like cookies .\" \n",
    "    idx = get_word_idx(sent, \"cookies\")"
   ]
  },
  {
   "cell_type": "code",
   "execution_count": 3,
   "metadata": {},
   "outputs": [
    {
     "name": "stderr",
     "output_type": "stream",
     "text": [
      "/home/ilker/miniconda3/envs/thesis-work/lib/python3.10/site-packages/tqdm/auto.py:21: TqdmWarning: IProgress not found. Please update jupyter and ipywidgets. See https://ipywidgets.readthedocs.io/en/stable/user_install.html\n",
      "  from .autonotebook import tqdm as notebook_tqdm\n"
     ]
    }
   ],
   "source": [
    "# From Selformer: https://github.com/HUBioDataLab/SELFormer/blob/main/get_embeddings.py\n",
    "# TODO: pandaparallel can be used: https://github.com/nalepae/pandarallel\n",
    "\n",
    "from transformers import RobertaTokenizer, RobertaTokenizerFast, RobertaModel\n",
    "from typing import Union\n",
    "\n",
    "\n",
    "def get_vector_embedding(model: RobertaModel, tokenizer: Union[RobertaTokenizer, RobertaTokenizerFast], smile_str: str):\n",
    "\n",
    "    # torch.set_num_threads(1)\n",
    "    token = torch.tensor([tokenizer.encode(smile_str, add_special_tokens=True, max_length=512, padding=True, truncation=True)])\n",
    "    output = model(token)\n",
    "\n",
    "    sequence_out = output[0]\n",
    "    # return torch.mean(sequence_out[0], dim=0).tolist()\n",
    "    return torch.mean(sequence_out[0], dim=0).detach().numpy()"
   ]
  },
  {
   "cell_type": "markdown",
   "metadata": {},
   "source": [
    "## Word BERT Models"
   ]
  },
  {
   "cell_type": "code",
   "execution_count": null,
   "metadata": {},
   "outputs": [],
   "source": [
    "from transformers import RobertaModel, AutoTokenizer\n",
    "\n",
    "model_name = \"roberta-base\"\n",
    "\n",
    "tokenizer = AutoTokenizer.from_pretrained(model_name)\n",
    "model = RobertaModel.from_pretrained(model_name)\n",
    "\n",
    "# sentences = [\"apples taste good\", \"monkeys like bananas\", \"dogs are nice\"]\n",
    "sentences = \"apples taste good\"\n",
    "model_inputs = tokenizer(sentences, return_tensors=\"pt\")\n",
    "outputs = model(**model_inputs)\n",
    "# outputs\n",
    "\n",
    "last_hidden_states = outputs.last_hidden_state\n",
    "last_hidden_states"
   ]
  },
  {
   "cell_type": "code",
   "execution_count": null,
   "metadata": {},
   "outputs": [],
   "source": [
    "# Tensorflow - Not working\n",
    "\n",
    "from transformers import RobertaTokenizer, TFRobertaModel\n",
    "\n",
    "tokenizer = RobertaTokenizer.from_pretrained('roberta-base')\n",
    "model = TFRobertaModel.from_pretrained('roberta-base')\n",
    "\n",
    "inputs = tokenizer(\"Hello, my dog is cute\", return_tensors=\"tf\")\n",
    "outputs = model(inputs)\n",
    "\n",
    "last_hidden_states = outputs[0]  # The last hidden-state is the first element of the output tuple\n"
   ]
  },
  {
   "cell_type": "code",
   "execution_count": null,
   "metadata": {},
   "outputs": [],
   "source": [
    "# Pytorch\n",
    "\n",
    "from transformers import RobertaTokenizer, RobertaForTokenClassification\n",
    "\n",
    "tokenizer = RobertaTokenizer.from_pretrained('roberta-base')\n",
    "model = RobertaForTokenClassification.from_pretrained('roberta-base', return_dict=True)\n",
    "\n",
    "\n",
    "inputs = tokenizer(\"Hello, my dog is cute\", return_tensors=\"pt\")\n",
    "\n",
    "outputs = model(**inputs)\n",
    "outputs\n",
    "## last_layer_features = outputs.hidden_states[-1]"
   ]
  },
  {
   "cell_type": "markdown",
   "metadata": {},
   "source": [
    "## Deepchem"
   ]
  },
  {
   "cell_type": "code",
   "execution_count": null,
   "metadata": {},
   "outputs": [],
   "source": [
    "from simpletransformers.classification import ClassificationModel, ClassificationArgs\n",
    "\n",
    "\n",
    "model_type = \"DeepChem/ChemBERTa-77M-MLM\"\n",
    "\n",
    "model_args = ClassificationArgs(\n",
    "    evaluate_each_epoch=True,\n",
    "    evaluate_during_training_verbose=True,\n",
    "    no_save=True,\n",
    "    num_train_epochs=10,\n",
    "    # overwrite_output_dir=True,\n",
    "    # auto_weights=True, # NOTE: Not working\n",
    "    # NOTE: Necessary for training outside of Colab\n",
    "    use_multiprocessing=False,\n",
    "    # dataloader_num_workers=0,\n",
    "    # process_count=1,\n",
    "    use_multiprocessing_for_evaluation=False,\n",
    ")\n",
    "\n",
    "model_args_dict = {\n",
    "    \"output_hidden_states\": True\n",
    "}\n",
    "\n",
    "model = ClassificationModel(\n",
    "    model_type=\"roberta\",\n",
    "    model_name=model_type,\n",
    "    # args=model_args,\n",
    "    args=model_args_dict,\n",
    "    # use_cuda=False,\n",
    ")\n",
    "\n",
    "model.__dict__"
   ]
  },
  {
   "cell_type": "code",
   "execution_count": 4,
   "metadata": {},
   "outputs": [
    {
     "name": "stderr",
     "output_type": "stream",
     "text": [
      "Some weights of the model checkpoint at DeepChem/ChemBERTa-77M-MLM were not used when initializing RobertaModel: ['lm_head.dense.bias', 'lm_head.dense.weight', 'lm_head.bias', 'lm_head.decoder.weight', 'lm_head.layer_norm.weight', 'lm_head.decoder.bias', 'lm_head.layer_norm.bias']\n",
      "- This IS expected if you are initializing RobertaModel from the checkpoint of a model trained on another task or with another architecture (e.g. initializing a BertForSequenceClassification model from a BertForPreTraining model).\n",
      "- This IS NOT expected if you are initializing RobertaModel from the checkpoint of a model that you expect to be exactly identical (initializing a BertForSequenceClassification model from a BertForSequenceClassification model).\n",
      "Some weights of RobertaModel were not initialized from the model checkpoint at DeepChem/ChemBERTa-77M-MLM and are newly initialized: ['roberta.pooler.dense.bias', 'roberta.pooler.dense.weight']\n",
      "You should probably TRAIN this model on a down-stream task to be able to use it for predictions and inference.\n"
     ]
    },
    {
     "data": {
      "text/plain": [
       "RobertaModel(\n",
       "  (embeddings): RobertaEmbeddings(\n",
       "    (word_embeddings): Embedding(600, 384, padding_idx=1)\n",
       "    (position_embeddings): Embedding(515, 384, padding_idx=1)\n",
       "    (token_type_embeddings): Embedding(1, 384)\n",
       "    (LayerNorm): LayerNorm((384,), eps=1e-12, elementwise_affine=True)\n",
       "    (dropout): Dropout(p=0.144, inplace=False)\n",
       "  )\n",
       "  (encoder): RobertaEncoder(\n",
       "    (layer): ModuleList(\n",
       "      (0): RobertaLayer(\n",
       "        (attention): RobertaAttention(\n",
       "          (self): RobertaSelfAttention(\n",
       "            (query): Linear(in_features=384, out_features=384, bias=True)\n",
       "            (key): Linear(in_features=384, out_features=384, bias=True)\n",
       "            (value): Linear(in_features=384, out_features=384, bias=True)\n",
       "            (dropout): Dropout(p=0.109, inplace=False)\n",
       "          )\n",
       "          (output): RobertaSelfOutput(\n",
       "            (dense): Linear(in_features=384, out_features=384, bias=True)\n",
       "            (LayerNorm): LayerNorm((384,), eps=1e-12, elementwise_affine=True)\n",
       "            (dropout): Dropout(p=0.144, inplace=False)\n",
       "          )\n",
       "        )\n",
       "        (intermediate): RobertaIntermediate(\n",
       "          (dense): Linear(in_features=384, out_features=464, bias=True)\n",
       "          (intermediate_act_fn): GELUActivation()\n",
       "        )\n",
       "        (output): RobertaOutput(\n",
       "          (dense): Linear(in_features=464, out_features=384, bias=True)\n",
       "          (LayerNorm): LayerNorm((384,), eps=1e-12, elementwise_affine=True)\n",
       "          (dropout): Dropout(p=0.144, inplace=False)\n",
       "        )\n",
       "      )\n",
       "      (1): RobertaLayer(\n",
       "        (attention): RobertaAttention(\n",
       "          (self): RobertaSelfAttention(\n",
       "            (query): Linear(in_features=384, out_features=384, bias=True)\n",
       "            (key): Linear(in_features=384, out_features=384, bias=True)\n",
       "            (value): Linear(in_features=384, out_features=384, bias=True)\n",
       "            (dropout): Dropout(p=0.109, inplace=False)\n",
       "          )\n",
       "          (output): RobertaSelfOutput(\n",
       "            (dense): Linear(in_features=384, out_features=384, bias=True)\n",
       "            (LayerNorm): LayerNorm((384,), eps=1e-12, elementwise_affine=True)\n",
       "            (dropout): Dropout(p=0.144, inplace=False)\n",
       "          )\n",
       "        )\n",
       "        (intermediate): RobertaIntermediate(\n",
       "          (dense): Linear(in_features=384, out_features=464, bias=True)\n",
       "          (intermediate_act_fn): GELUActivation()\n",
       "        )\n",
       "        (output): RobertaOutput(\n",
       "          (dense): Linear(in_features=464, out_features=384, bias=True)\n",
       "          (LayerNorm): LayerNorm((384,), eps=1e-12, elementwise_affine=True)\n",
       "          (dropout): Dropout(p=0.144, inplace=False)\n",
       "        )\n",
       "      )\n",
       "      (2): RobertaLayer(\n",
       "        (attention): RobertaAttention(\n",
       "          (self): RobertaSelfAttention(\n",
       "            (query): Linear(in_features=384, out_features=384, bias=True)\n",
       "            (key): Linear(in_features=384, out_features=384, bias=True)\n",
       "            (value): Linear(in_features=384, out_features=384, bias=True)\n",
       "            (dropout): Dropout(p=0.109, inplace=False)\n",
       "          )\n",
       "          (output): RobertaSelfOutput(\n",
       "            (dense): Linear(in_features=384, out_features=384, bias=True)\n",
       "            (LayerNorm): LayerNorm((384,), eps=1e-12, elementwise_affine=True)\n",
       "            (dropout): Dropout(p=0.144, inplace=False)\n",
       "          )\n",
       "        )\n",
       "        (intermediate): RobertaIntermediate(\n",
       "          (dense): Linear(in_features=384, out_features=464, bias=True)\n",
       "          (intermediate_act_fn): GELUActivation()\n",
       "        )\n",
       "        (output): RobertaOutput(\n",
       "          (dense): Linear(in_features=464, out_features=384, bias=True)\n",
       "          (LayerNorm): LayerNorm((384,), eps=1e-12, elementwise_affine=True)\n",
       "          (dropout): Dropout(p=0.144, inplace=False)\n",
       "        )\n",
       "      )\n",
       "    )\n",
       "  )\n",
       "  (pooler): RobertaPooler(\n",
       "    (dense): Linear(in_features=384, out_features=384, bias=True)\n",
       "    (activation): Tanh()\n",
       "  )\n",
       ")"
      ]
     },
     "execution_count": 4,
     "metadata": {},
     "output_type": "execute_result"
    }
   ],
   "source": [
    "from transformers import RobertaTokenizerFast, RobertaModel\n",
    "import torch\n",
    "\n",
    "model_name = \"DeepChem/ChemBERTa-77M-MLM\"\n",
    "\n",
    "# tokenizer = RobertaTokenizerFast.from_pretrained('seyonec/PubChem10M_SMILES_BPE_450k')\n",
    "# model = RobertaModel.from_pretrained('seyonec/ChemBERTa-77M-MLM', output_hidden_states = True)\n",
    "tokenizer = RobertaTokenizerFast.from_pretrained(model_name)\n",
    "model = RobertaModel.from_pretrained(model_name, output_hidden_states = True)\n",
    "model.eval()"
   ]
  },
  {
   "cell_type": "code",
   "execution_count": null,
   "metadata": {},
   "outputs": [],
   "source": [
    "# word_embedding = get_vector_embedding(model, tokenizer, smiles_compounds[0])\n",
    "# states = [get_vector_embedding(model, tokenizer, x).tolist() for x in smiles_compounds]\n",
    "# from pandarallel import pandarallel\n",
    "# pandarallel.initialize(nb_workers=5)\n",
    "\n",
    "# Gpcr: Took 3m 41s\n",
    "# Kinase: Took 3m 24s\n",
    "# Protease: Took 1m 56s\n",
    "smiles_df[\"vectors\"] = smiles_df[\"smiles\"].apply(lambda x: get_vector_embedding(model, tokenizer, x).tolist())\n",
    "# smiles_df[\"vectors\"] = smiles_df[\"smiles\"].parallel_apply(lambda x: get_vector_embedding(model, tokenizer, x).tolist())\n",
    "\n",
    "# smiles_df[\"vectors\"]"
   ]
  },
  {
   "cell_type": "code",
   "execution_count": 6,
   "metadata": {},
   "outputs": [],
   "source": [
    "smiles_df.to_csv(df_path_vector, index=False)"
   ]
  },
  {
   "cell_type": "code",
   "execution_count": null,
   "metadata": {},
   "outputs": [],
   "source": [
    "# Vector size: [65, 384]\n",
    "#  65: Token length\n",
    "#  384: Embedding size\n",
    "\n",
    "# max_length=128\n",
    "inputs = tokenizer(smiles_compounds, return_tensors='pt', padding=True, truncation=True)\n",
    "\n",
    "with torch.no_grad():\n",
    "    out = model(**inputs)\n",
    "\n",
    "    # TODO: Should we use this?\n",
    "    # out = out[0][:, 0, :].numpy()  # Take the [CLS] token's embedding for each sentence\n",
    "\n",
    "print(inputs['input_ids'].shape)"
   ]
  },
  {
   "cell_type": "code",
   "execution_count": null,
   "metadata": {},
   "outputs": [],
   "source": [
    "for token in inputs['input_ids'][0]:\n",
    "  print(tokenizer.decode([token]))"
   ]
  },
  {
   "cell_type": "code",
   "execution_count": 7,
   "metadata": {},
   "outputs": [
    {
     "data": {
      "text/plain": [
       "(5, 384)"
      ]
     },
     "execution_count": 7,
     "metadata": {},
     "output_type": "execute_result"
    }
   ],
   "source": [
    "# TODO: What is the best way to convert 3d states to 2d states?\n",
    "# FIXME: Doesn't work with more than 1,000 samples\n",
    "\n",
    "states = out.hidden_states[-1].squeeze()\n",
    "\n",
    "# print(states.shape)\n",
    "# print(states[0].shape)\n",
    "# print(states[0])\n",
    "\n",
    "# Average the token vectors for each sample, which will give you a single 384-dimensional vector for each sample.\n",
    "states_2d = states.mean(dim=1).numpy()\n",
    "states_2d.shape"
   ]
  },
  {
   "cell_type": "markdown",
   "metadata": {},
   "source": [
    "## Cluster"
   ]
  },
  {
   "cell_type": "code",
   "execution_count": null,
   "metadata": {},
   "outputs": [],
   "source": [
    "from sklearn.cluster import KMeans\n",
    "\n",
    "kmeans = KMeans(n_clusters=2, random_state=0)\n",
    "kmeans.fit(states_2d)\n",
    "\n",
    "clusters = kmeans.predict(states_2d)\n",
    "clusters"
   ]
  },
  {
   "cell_type": "markdown",
   "metadata": {},
   "source": [
    "### AIO"
   ]
  },
  {
   "cell_type": "code",
   "execution_count": 2,
   "metadata": {},
   "outputs": [
    {
     "name": "stderr",
     "output_type": "stream",
     "text": [
      "/home/ilker/miniconda3/envs/thesis-work/lib/python3.10/site-packages/tqdm/auto.py:21: TqdmWarning: IProgress not found. Please update jupyter and ipywidgets. See https://ipywidgets.readthedocs.io/en/stable/user_install.html\n",
      "  from .autonotebook import tqdm as notebook_tqdm\n",
      "Some weights of the model checkpoint at DeepChem/ChemBERTa-77M-MLM were not used when initializing RobertaModel: ['lm_head.bias', 'lm_head.decoder.bias', 'lm_head.dense.weight', 'lm_head.layer_norm.weight', 'lm_head.decoder.weight', 'lm_head.layer_norm.bias', 'lm_head.dense.bias']\n",
      "- This IS expected if you are initializing RobertaModel from the checkpoint of a model trained on another task or with another architecture (e.g. initializing a BertForSequenceClassification model from a BertForPreTraining model).\n",
      "- This IS NOT expected if you are initializing RobertaModel from the checkpoint of a model that you expect to be exactly identical (initializing a BertForSequenceClassification model from a BertForSequenceClassification model).\n",
      "Some weights of RobertaModel were not initialized from the model checkpoint at DeepChem/ChemBERTa-77M-MLM and are newly initialized: ['roberta.pooler.dense.weight', 'roberta.pooler.dense.bias']\n",
      "You should probably TRAIN this model on a down-stream task to be able to use it for predictions and inference.\n"
     ]
    }
   ],
   "source": [
    "# Deepchem\n",
    "from transformers import RobertaTokenizerFast, RobertaModel\n",
    "import torch\n",
    "\n",
    "model_name = \"DeepChem/ChemBERTa-77M-MLM\"\n",
    "tokenizer = RobertaTokenizerFast.from_pretrained(model_name)\n",
    "model = RobertaModel.from_pretrained(model_name)\n",
    "texts = smiles_compounds"
   ]
  },
  {
   "cell_type": "code",
   "execution_count": null,
   "metadata": {},
   "outputs": [],
   "source": [
    "# Bert - Uncased\n",
    "import torch\n",
    "from transformers import BertTokenizer, BertModel\n",
    "\n",
    "## model_type = \"roberta-base\"\n",
    "model_type = \"bert-base-uncased\"\n",
    "tokenizer = BertTokenizer.from_pretrained(model_type)\n",
    "model = BertModel.from_pretrained(model_type)\n",
    "texts = [\n",
    "    \"This is an example sentence.\",\n",
    "    \"BERT is a powerful language model.\",\n",
    "    \"Clustering with BERT is interesting.\",\n",
    "    \"Unsupervised learning can be fun.\",\n",
    "    \"Transformers library is great.\",\n",
    "    \"BERT embeddings are useful for clustering.\",\n",
    "    \"Python programming is versatile.\",\n",
    "    \"K-means is a popular clustering algorithm.\"\n",
    "]"
   ]
  },
  {
   "cell_type": "code",
   "execution_count": null,
   "metadata": {},
   "outputs": [],
   "source": [
    "import numpy as np\n",
    "from sklearn.cluster import KMeans\n",
    "\n",
    "# Tokenize and convert texts to BERT embeddings\n",
    "input_ids = torch.tensor([tokenizer.encode(text, add_special_tokens=True, max_length=128, padding='max_length', truncation=True) for text in texts])\n",
    "with torch.no_grad():\n",
    "    model_output = model(input_ids)\n",
    "    embeddings = model_output[0][:, 0, :].numpy()  # Take the [CLS] token's embedding for each sentence\n",
    "\n",
    "\n",
    "# Set the number of clusters you want to create\n",
    "num_clusters = 2\n",
    "\n",
    "# Apply k-means clustering\n",
    "kmeans = KMeans(n_clusters=num_clusters, random_state=42)\n",
    "cluster_labels = kmeans.fit_predict(embeddings)\n",
    "\n",
    "# Print the clustering results\n",
    "for cluster_id in range(num_clusters):\n",
    "    print(f\"Cluster {cluster_id + 1}:\")\n",
    "    cluster_text_indices = np.where(cluster_labels == cluster_id)[0]\n",
    "    for index in cluster_text_indices:\n",
    "        print(texts[index])\n",
    "    print(\"\\n\")\n",
    "\n"
   ]
  }
 ],
 "metadata": {
  "kernelspec": {
   "display_name": "thesis-work",
   "language": "python",
   "name": "python3"
  },
  "language_info": {
   "codemirror_mode": {
    "name": "ipython",
    "version": 3
   },
   "file_extension": ".py",
   "mimetype": "text/x-python",
   "name": "python",
   "nbconvert_exporter": "python",
   "pygments_lexer": "ipython3",
   "version": "3.10.12"
  },
  "orig_nbformat": 4
 },
 "nbformat": 4,
 "nbformat_minor": 2
}
