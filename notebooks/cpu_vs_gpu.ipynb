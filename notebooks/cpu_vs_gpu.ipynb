{
 "cells": [
  {
   "cell_type": "markdown",
   "metadata": {},
   "source": [
    "# Pytorch\n"
   ]
  },
  {
   "cell_type": "code",
   "execution_count": 1,
   "metadata": {},
   "outputs": [
    {
     "name": "stdout",
     "output_type": "stream",
     "text": [
      "CPU time: 3.5521602630615234\n",
      "GPU time: 0.6659841537475586\n"
     ]
    }
   ],
   "source": [
    "import torch\n",
    "import time\n",
    "\n",
    "matrix = torch.randn(5000, 5000)\n",
    "\n",
    "# Test CPU performance\n",
    "start_time = time.time()\n",
    "for i in range(10):\n",
    "    matrix = torch.matmul(matrix, matrix)\n",
    "print(\"CPU time:\", time.time() - start_time)\n",
    "\n",
    "# Test GPU performance\n",
    "if torch.cuda.is_available():\n",
    "    device = torch.device(\"cuda\")\n",
    "    matrix = matrix.to(device)\n",
    "    start_time = time.time()\n",
    "    for i in range(10):\n",
    "        matrix = torch.matmul(matrix, matrix)\n",
    "    matrix = matrix.to(\"cpu\")\n",
    "    print(\"GPU time:\", time.time() - start_time)\n",
    "else:\n",
    "    print(\"GPU not available\")"
   ]
  },
  {
   "cell_type": "markdown",
   "metadata": {},
   "source": [
    "# Tensorflow\n"
   ]
  },
  {
   "cell_type": "code",
   "execution_count": 1,
   "metadata": {},
   "outputs": [
    {
     "name": "stderr",
     "output_type": "stream",
     "text": [
      "2023-08-21 16:21:58.040179: W tensorflow/compiler/tf2tensorrt/utils/py_utils.cc:38] TF-TRT Warning: Could not find TensorRT\n"
     ]
    },
    {
     "name": "stdout",
     "output_type": "stream",
     "text": [
      "CPU time: 2.7825357913970947\n",
      "GPU time: 0.47477269172668457\n"
     ]
    }
   ],
   "source": [
    "# Disable tensorflow warnings. Must be set before importing tensorflow.\n",
    "\n",
    "import os\n",
    "import time\n",
    "\n",
    "os.environ[\"TF_CPP_MIN_LOG_LEVEL\"] = \"1\"\n",
    "\n",
    "import tensorflow as tf\n",
    "\n",
    "matrix = tf.random.normal([5000, 5000])\n",
    "\n",
    "# Test CPU performance\n",
    "start_time = time.time()\n",
    "with tf.device(\"/CPU:0\"):\n",
    "    for i in range(10):\n",
    "        matrix = tf.matmul(matrix, matrix)\n",
    "print(\"CPU time:\", time.time() - start_time)\n",
    "\n",
    "# Test GPU performance\n",
    "if tf.config.list_physical_devices(\"GPU\"):\n",
    "    start_time = time.time()\n",
    "    with tf.device(\"/GPU:0\"):\n",
    "        for i in range(10):\n",
    "            matrix = tf.matmul(matrix, matrix)\n",
    "    print(\"GPU time:\", time.time() - start_time)\n",
    "else:\n",
    "    print(\"GPU not available\")"
   ]
  }
 ],
 "metadata": {
  "kernelspec": {
   "display_name": "thesis-work",
   "language": "python",
   "name": "python3"
  },
  "language_info": {
   "codemirror_mode": {
    "name": "ipython",
    "version": 3
   },
   "file_extension": ".py",
   "mimetype": "text/x-python",
   "name": "python",
   "nbconvert_exporter": "python",
   "pygments_lexer": "ipython3",
   "version": "3.10.12"
  },
  "orig_nbformat": 4
 },
 "nbformat": 4,
 "nbformat_minor": 2
}
