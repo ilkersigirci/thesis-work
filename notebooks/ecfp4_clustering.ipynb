{
 "cells": [
  {
   "cell_type": "code",
   "execution_count": 4,
   "metadata": {},
   "outputs": [],
   "source": [
    "# List of SMILES compounds\n",
    "smiles_compounds = [\n",
    "    \"O=C(Cc1cccc2ccccc12)Nc1n[nH]c2ccc(N3CCCS3(=O)=O)cc12\",\n",
    "    \"COC(=O)NC[C@@H](NC(=O)c1ccc(-c2nc(C3CCOCC3)cnc2N)cc1F)c1cccc(Br)c1\",\n",
    "    \"COc1ccccc1Nc1cc(Oc2cc(C)c(C)nc2-c2ccccn2)ccn1\",\n",
    "    \"O=C(/C=C/CN1CCCC1)N1CCOc2cc3ncnc(Nc4ccc(F)c(Cl)c4)c3cc21\",\n",
    "    \"O=C(Nc1cccc(Nc2cc3c(=O)[nH][nH]c(=O)c3cc2Cl)c1)c1cccc(Cl)c1\",\n",
    "    \"Cc1cc(CNc2nc(Nc3cc(C4CC4)[nH]n3)cc(NC3CC4CCC(C3)N4C)n2)on1\",\n",
    "    \"Cc1cc(-c2cc(O)ccc2Cl)cc2nnc(Nc3ccc(S(N)(=O)=O)cc3)nc12\",\n",
    "    \"NS(=O)(=O)c1cccc(N/C=C2\\C(=O)Nc3ccccc32)c1\",\n",
    "    \"CC(=O)Nc1ccc2cnn(-c3cc(NC4CC4)n4ncc(C#N)c4n3)c2c1\",\n",
    "    \"CS(=O)(=O)c1cccc(Nc2nccc(N(CC#N)c3c(Cl)ccc4c3OCO4)n2)c1\",\n",
    "    \"Cc1cnc(-c2ccnc(C(C)(C)O)n2)cc1-n1c(C)cc(OCc2ccc(F)cc2F)c(Cl)c1=O\",\n",
    "    \"Cc1ccc(C(=O)Nc2cc(C(F)(F)F)ccn2)cc1/C=C/n1cnc2cncnc21\",\n",
    "    \"CNC(=O)c1cnn2ccc(N3C[C@@H](O)C[C@@H]3c3cccc(F)c3)nc12\",\n",
    "    \"COc1cc2c(cc1OC1CCOC1)Cc1c-2n[nH]c1-c1ccc(C#N)cc1\",\n",
    "]"
   ]
  },
  {
   "cell_type": "markdown",
   "metadata": {},
   "source": [
    "## K Means"
   ]
  },
  {
   "cell_type": "code",
   "execution_count": 5,
   "metadata": {},
   "outputs": [
    {
     "name": "stdout",
     "output_type": "stream",
     "text": [
      "Silhouette score:  0.03214939028636155\n",
      "Cluster assignments:  [2 0 0 2 2 0 1 1 0 1 2 2 0 0]\n"
     ]
    },
    {
     "name": "stderr",
     "output_type": "stream",
     "text": [
      "/home/ilker/miniconda3/envs/thesis-work/lib/python3.10/site-packages/sklearn/cluster/_kmeans.py:1412: FutureWarning: The default value of `n_init` will change from 10 to 'auto' in 1.4. Set the value of `n_init` explicitly to suppress the warning\n",
      "  super()._check_params_vs_input(X, default_n_init=10)\n"
     ]
    }
   ],
   "source": [
    "from rdkit import Chem\n",
    "from rdkit.Chem import AllChem\n",
    "from rdkit import DataStructs\n",
    "from sklearn.cluster import KMeans\n",
    "from sklearn.metrics import silhouette_score\n",
    "import numpy as np\n",
    "\n",
    "# Generate ECFP descriptors\n",
    "ecfps = [\n",
    "    AllChem.GetMorganFingerprintAsBitVect(Chem.MolFromSmiles(smiles), 2)\n",
    "    for smiles in smiles_compounds\n",
    "]\n",
    "\n",
    "# Calculate similarity matrix\n",
    "similarity_matrix = []\n",
    "for i in range(len(ecfps)):\n",
    "    similarities = []\n",
    "    for j in range(len(ecfps)):\n",
    "        similarity = DataStructs.TanimotoSimilarity(ecfps[i], ecfps[j])\n",
    "        similarities.append(similarity)\n",
    "    similarity_matrix.append(similarities)\n",
    "\n",
    "similarity_matrix = np.array(similarity_matrix)\n",
    "\n",
    "# Cluster compounds using K-means\n",
    "kmeans = KMeans(n_clusters=3)\n",
    "kmeans.fit(similarity_matrix)\n",
    "\n",
    "clusters = kmeans.labels_\n",
    "\n",
    "# Evaluate clustering result\n",
    "score = silhouette_score(similarity_matrix, clusters)\n",
    "\n",
    "print(\"Silhouette score: \", score)\n",
    "print(\"Cluster assignments: \", clusters)"
   ]
  },
  {
   "cell_type": "code",
   "execution_count": 6,
   "metadata": {},
   "outputs": [
    {
     "name": "stdout",
     "output_type": "stream",
     "text": [
      "[[1.    0.122 0.093 0.15  0.149 0.127 0.091 0.115 0.13  0.142 0.111 0.105\n",
      "  0.141 0.107]\n",
      " [0.122 1.    0.128 0.148 0.104 0.128 0.116 0.096 0.13  0.14  0.142 0.118\n",
      "  0.193 0.159]\n",
      " [0.093 0.128 1.    0.083 0.106 0.112 0.121 0.083 0.092 0.127 0.163 0.158\n",
      "  0.115 0.149]\n",
      " [0.15  0.148 0.083 1.    0.181 0.086 0.167 0.091 0.117 0.168 0.159 0.155\n",
      "  0.127 0.078]\n",
      " [0.149 0.104 0.106 0.181 1.    0.062 0.143 0.164 0.122 0.172 0.091 0.169\n",
      "  0.122 0.052]\n",
      " [0.127 0.128 0.112 0.086 0.062 1.    0.099 0.053 0.126 0.107 0.088 0.092\n",
      "  0.105 0.136]\n",
      " [0.091 0.116 0.121 0.167 0.143 0.099 1.    0.208 0.124 0.206 0.137 0.143\n",
      "  0.101 0.078]\n",
      " [0.115 0.096 0.083 0.091 0.164 0.053 0.208 1.    0.101 0.178 0.061 0.098\n",
      "  0.101 0.076]\n",
      " [0.13  0.13  0.092 0.117 0.122 0.126 0.124 0.101 1.    0.14  0.1   0.147\n",
      "  0.2   0.139]\n",
      " [0.142 0.14  0.127 0.168 0.172 0.107 0.206 0.178 0.14  1.    0.132 0.116\n",
      "  0.109 0.098]\n",
      " [0.111 0.142 0.163 0.159 0.091 0.088 0.137 0.061 0.1   0.132 1.    0.159\n",
      "  0.142 0.07 ]\n",
      " [0.105 0.118 0.158 0.155 0.169 0.092 0.143 0.098 0.147 0.116 0.159 1.\n",
      "  0.147 0.054]\n",
      " [0.141 0.193 0.115 0.127 0.122 0.105 0.101 0.101 0.2   0.109 0.142 0.147\n",
      "  1.    0.085]\n",
      " [0.107 0.159 0.149 0.078 0.052 0.136 0.078 0.076 0.139 0.098 0.07  0.054\n",
      "  0.085 1.   ]]\n"
     ]
    }
   ],
   "source": [
    "np.set_printoptions(suppress=True)\n",
    "np.set_printoptions(precision=3)\n",
    "\n",
    "print(similarity_matrix)"
   ]
  },
  {
   "cell_type": "markdown",
   "metadata": {},
   "source": [
    "## Butina clustering"
   ]
  },
  {
   "cell_type": "code",
   "execution_count": 14,
   "metadata": {},
   "outputs": [
    {
     "data": {
      "text/plain": [
       "array([13., 12., 11., 10.,  9.,  8.,  7.,  6.,  5.,  4.,  3.,  2.,  1.,\n",
       "        0.])"
      ]
     },
     "execution_count": 14,
     "metadata": {},
     "output_type": "execute_result"
    }
   ],
   "source": [
    "# TODO: Find out correct way to use Butina clustering\n",
    "from rdkit.ML.Cluster import Butina\n",
    "\n",
    "mols = [Chem.MolFromSmiles(smiles) for smiles in smiles_compounds]\n",
    "fps = [AllChem.GetMorganFingerprintAsBitVect(mol, 2, nBits=1024) for mol in mols]\n",
    "\n",
    "distances = []\n",
    "for i in range(len(fps)):\n",
    "    sims = DataStructs.BulkTanimotoSimilarity(fps[i], fps[:i])\n",
    "    distances.extend([1 - x for x in sims])\n",
    "\n",
    "threshold = 0.2\n",
    "clusters = Butina.ClusterData(distances, len(mols), threshold, isDistData=True)\n",
    "\n",
    "# Convert the clusters into labels for the silhouette score\n",
    "labels = np.zeros(len(mols))\n",
    "for i, cluster in enumerate(clusters):\n",
    "    for mol in cluster:\n",
    "        labels[mol] = i\n",
    "\n",
    "# Compute the silhouette score\n",
    "silhouette_score = silhouette_score(np.array(list(fps)), labels, metric=\"jaccard\")\n",
    "print(\"Silhouette Score: \", silhouette_score)"
   ]
  },
  {
   "cell_type": "code",
   "execution_count": null,
   "metadata": {},
   "outputs": [],
   "source": [
    "# FIXME: Not working\n",
    "def quality_partition_index(clusters, distances):\n",
    "    intra_cluster_distances = [\n",
    "        min([distances[i][j] for j in cluster]) for i, cluster in enumerate(clusters)\n",
    "    ]\n",
    "    min_intra_cluster_distance = min(intra_cluster_distances)\n",
    "    max_inter_cluster_distance = max(\n",
    "        [distances[i][j] for i in range(len(distances)) for j in range(i)]\n",
    "    )\n",
    "\n",
    "    return min_intra_cluster_distance / max_inter_cluster_distance\n",
    "\n",
    "\n",
    "qpi = quality_partition_index(clusters, distances)\n",
    "print(\"Quality Partition Index: \", qpi)"
   ]
  }
 ],
 "metadata": {
  "kernelspec": {
   "display_name": "thesis-work",
   "language": "python",
   "name": "python3"
  },
  "language_info": {
   "codemirror_mode": {
    "name": "ipython",
    "version": 3
   },
   "file_extension": ".py",
   "mimetype": "text/x-python",
   "name": "python",
   "nbconvert_exporter": "python",
   "pygments_lexer": "ipython3",
   "version": "3.10.12"
  },
  "orig_nbformat": 4
 },
 "nbformat": 4,
 "nbformat_minor": 2
}
